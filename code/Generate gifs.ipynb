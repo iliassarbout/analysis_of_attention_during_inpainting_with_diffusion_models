{
 "cells": [
  {
   "cell_type": "markdown",
   "id": "8dffca4d-b5ed-4e2f-ad7a-5b4af541d515",
   "metadata": {},
   "source": [
    "## 256x256 diffusion model presented in Guided diffusion official github repo is not compatible with their unet implementation.\n",
    "## However Repaint modified it to make it compatible."
   ]
  },
  {
   "cell_type": "code",
   "execution_count": 1,
   "id": "2073e0bb-9bb8-4a72-92eb-3d1aefb08da9",
   "metadata": {},
   "outputs": [],
   "source": [
    "\n",
    "import os\n",
    "import argparse\n",
    "import torch as th\n",
    "import torch.nn.functional as F\n",
    "import time\n",
    "import conf_mgt\n",
    "from utils import yamlread\n",
    "from guided_diffusion import dist_util\n",
    "from tqdm import tqdm\n",
    "# Workaround\n",
    "try:\n",
    "    import ctypes\n",
    "    libgcc_s = ctypes.CDLL('libgcc_s.so.1')\n",
    "except:\n",
    "    pass\n",
    "\n",
    "\n",
    "from guided_diffusion.script_util import (\n",
    "    NUM_CLASSES,\n",
    "    model_and_diffusion_defaults,\n",
    "    classifier_defaults,\n",
    "    create_model_and_diffusion,\n",
    "    create_classifier,\n",
    "    select_args,\n",
    ")  # noqa: E402\n",
    "\n",
    "from guided_diffusion.script_util import (\n",
    "    sr_model_and_diffusion_defaults,\n",
    "    sr_create_model_and_diffusion,\n",
    ")\n",
    "def toU8(sample):\n",
    "    if sample is None:\n",
    "        return sample\n",
    "\n",
    "    sample = ((sample + 1) * 127.5).clamp(0, 255).to(th.uint8)\n",
    "    sample = sample.permute(0, 2, 3, 1)\n",
    "    sample = sample.contiguous()\n",
    "    sample = sample.detach().cpu().numpy()\n",
    "    return sample\n",
    "\n",
    "import torch\n",
    "import torchvision.transforms as T"
   ]
  },
  {
   "cell_type": "code",
   "execution_count": null,
   "id": "9abf55bc-9818-43cb-8fad-434b61e6afd6",
   "metadata": {},
   "outputs": [],
   "source": [
    "**select_a"
   ]
  },
  {
   "cell_type": "code",
   "execution_count": 10,
   "id": "053a4179-b05f-490f-bf1e-d2350581de65",
   "metadata": {},
   "outputs": [
    {
     "data": {
      "text/plain": [
       "{'paper_face_mask': {'mask_loader': True,\n",
       "  'gt_path': './data/datasets/gts/face',\n",
       "  'mask_path': './data/datasets/gt_keep_masks/face',\n",
       "  'image_size': 256,\n",
       "  'class_cond': False,\n",
       "  'deterministic': True,\n",
       "  'random_crop': False,\n",
       "  'random_flip': False,\n",
       "  'return_dict': True,\n",
       "  'drop_last': False,\n",
       "  'batch_size': 1,\n",
       "  'return_dataloader': True,\n",
       "  'offset': 0,\n",
       "  'max_len': 8,\n",
       "  'paths': {'srs': './log/face_example/inpainted',\n",
       "   'lrs': './log/face_example/gt_masked',\n",
       "   'gts': './log/face_example/gt',\n",
       "   'gt_keep_masks': './log/face_example/gt_keep_mask'}}}"
      ]
     },
     "execution_count": 10,
     "metadata": {},
     "output_type": "execute_result"
    }
   ],
   "source": []
  },
  {
   "cell_type": "code",
   "execution_count": 2,
   "id": "94c99287-d084-455d-b8b4-4930705d3eff",
   "metadata": {},
   "outputs": [
    {
     "name": "stdout",
     "output_type": "stream",
     "text": [
      "True\n",
      "True\n"
     ]
    }
   ],
   "source": [
    "conf = conf_mgt.conf_base.Default_Conf()\n",
    "conf.update(yamlread('confs/my_conf-2.yml'))\n",
    "print(conf.inpa_inj_sched_prev) #Are you about to use RePainting ?print(conf.diffusion_steps)\n",
    "print(conf.intermediate_steps)"
   ]
  },
  {
   "cell_type": "code",
   "execution_count": 3,
   "id": "f0466f98-deec-49b9-88f1-685553b8c00d",
   "metadata": {},
   "outputs": [
    {
     "data": {
      "text/plain": [
       "{'image_size': 64,\n",
       " 'num_channels': 128,\n",
       " 'num_res_blocks': 2,\n",
       " 'num_heads': 4,\n",
       " 'num_heads_upsample': -1,\n",
       " 'num_head_channels': -1,\n",
       " 'attention_resolutions': '16,8',\n",
       " 'channel_mult': '',\n",
       " 'dropout': 0.0,\n",
       " 'class_cond': False,\n",
       " 'use_checkpoint': False,\n",
       " 'use_scale_shift_norm': True,\n",
       " 'resblock_updown': False,\n",
       " 'use_fp16': False,\n",
       " 'use_new_attention_order': False,\n",
       " 'learn_sigma': False,\n",
       " 'diffusion_steps': 1000,\n",
       " 'noise_schedule': 'linear',\n",
       " 'timestep_respacing': '',\n",
       " 'use_kl': False,\n",
       " 'predict_xstart': False,\n",
       " 'rescale_timesteps': False,\n",
       " 'rescale_learned_sigmas': False}"
      ]
     },
     "execution_count": 3,
     "metadata": {},
     "output_type": "execute_result"
    }
   ],
   "source": [
    "model_and_diffusion_defaults()"
   ]
  },
  {
   "cell_type": "code",
   "execution_count": 3,
   "id": "7835602e-a3ab-4e1c-ab2f-d217acf0a8e9",
   "metadata": {},
   "outputs": [
    {
     "name": "stdout",
     "output_type": "stream",
     "text": [
      "Start my_conf\n"
     ]
    }
   ],
   "source": [
    "print(\"Start\", conf['name'])\n",
    "\n",
    "device = dist_util.dev(conf.get('device'))\n",
    "\n",
    "\n",
    "model, diffusion = create_model_and_diffusion(\n",
    "    **select_args(conf, model_and_diffusion_defaults().keys()), conf=conf\n",
    ")\n"
   ]
  },
  {
   "cell_type": "code",
   "execution_count": 4,
   "id": "51729c6f-7ea7-4e2c-8a4c-6eea8a657d6a",
   "metadata": {},
   "outputs": [
    {
     "name": "stdout",
     "output_type": "stream",
     "text": [
      "Nombre de paramètres :  552814086\n"
     ]
    }
   ],
   "source": [
    "model.load_state_dict(\n",
    "    dist_util.load_state_dict(os.path.expanduser(\n",
    "        conf.model_path), map_location=\"cpu\")\n",
    ")\n",
    "model.to(device)\n",
    "if conf.use_fp16:\n",
    "    model.convert_to_fp16()\n",
    "model.eval()\n",
    "\n",
    "show_progress = conf.show_progress\n",
    "\n",
    "import numpy as np\n",
    "model_parameters = filter(lambda p: p.requires_grad, model.parameters())\n",
    "params = sum([np.prod(p.size()) for p in model_parameters])\n",
    "print('Nombre de paramètres : ', params)"
   ]
  },
  {
   "cell_type": "code",
   "execution_count": null,
   "id": "16b575d5-a769-47f0-9ba5-989dafabad92",
   "metadata": {},
   "outputs": [],
   "source": [
    "#GENERATE A SAMPLE AND SAVE IT (without repaint)\n",
    "n_samples = 1\n",
    "model_kwargs = {}\n",
    "sample_fn = (\n",
    "    diffusion.p_sample_loop if not conf.use_ddim else diffusion.ddim_sample_loop\n",
    ")\n",
    "intermediates,finals = sample_fn(\n",
    "    model,\n",
    "    (n_samples, 3, 256, 256), #REMPLACER PAR CONF.IMAGE_SIZE\n",
    "    clip_denoised=conf.clip_denoised,\n",
    "    model_kwargs=model_kwargs,\n",
    "    device=device,\n",
    "    progress=show_progress,\n",
    "    return_all=True,\n",
    "    conf=conf\n",
    ")"
   ]
  },
  {
   "cell_type": "code",
   "execution_count": 6,
   "id": "65e0a728-e7bc-45a2-843f-a17412ed71d3",
   "metadata": {},
   "outputs": [],
   "source": [
    "#save evey final sample\n",
    "transform = T.ToPILImage()\n",
    "\n",
    "f_samples = finals['sample']\n",
    "f_samples = ((f_samples + 1) * 127.5).clamp(0, 255).to(th.uint8)\n",
    "f_samples = f_samples.contiguous()\n",
    "\n",
    "i=0\n",
    "for sample in f_samples:\n",
    "    img = transform(sample)\n",
    "    img.save(\"samples/sample_\"+str(i)+\".jpeg\")\n",
    "    i+=1"
   ]
  },
  {
   "cell_type": "code",
   "execution_count": 10,
   "id": "22276aa9-7923-4d9e-aad8-d0d2307d7dde",
   "metadata": {},
   "outputs": [
    {
     "data": {
      "application/vnd.jupyter.widget-view+json": {
       "model_id": "3bf3ed309e074832a44d8d108dc5fae3",
       "version_major": 2,
       "version_minor": 0
      },
      "text/plain": [
       "  0%|          | 0/4570 [00:00<?, ?it/s]"
      ]
     },
     "metadata": {},
     "output_type": "display_data"
    },
    {
     "data": {
      "application/vnd.jupyter.widget-view+json": {
       "model_id": "ca42b1e5cbb444a08f32180042345999",
       "version_major": 2,
       "version_minor": 0
      },
      "text/plain": [
       "  0%|          | 0/4570 [00:00<?, ?it/s]"
      ]
     },
     "metadata": {},
     "output_type": "display_data"
    },
    {
     "data": {
      "application/vnd.jupyter.widget-view+json": {
       "model_id": "d9c491c958ec471299bdc6139d913ad0",
       "version_major": 2,
       "version_minor": 0
      },
      "text/plain": [
       "  0%|          | 0/4570 [00:00<?, ?it/s]"
      ]
     },
     "metadata": {},
     "output_type": "display_data"
    },
    {
     "data": {
      "application/vnd.jupyter.widget-view+json": {
       "model_id": "8ba35874421643dba72922f913b5b27c",
       "version_major": 2,
       "version_minor": 0
      },
      "text/plain": [
       "  0%|          | 0/4570 [00:00<?, ?it/s]"
      ]
     },
     "metadata": {},
     "output_type": "display_data"
    },
    {
     "data": {
      "application/vnd.jupyter.widget-view+json": {
       "model_id": "b59a73631234432980b43f9f0fb09e23",
       "version_major": 2,
       "version_minor": 0
      },
      "text/plain": [
       "  0%|          | 0/4570 [00:00<?, ?it/s]"
      ]
     },
     "metadata": {},
     "output_type": "display_data"
    },
    {
     "data": {
      "application/vnd.jupyter.widget-view+json": {
       "model_id": "741c9c3b328543069d0104c07e1a238f",
       "version_major": 2,
       "version_minor": 0
      },
      "text/plain": [
       "  0%|          | 0/4570 [00:00<?, ?it/s]"
      ]
     },
     "metadata": {},
     "output_type": "display_data"
    },
    {
     "data": {
      "application/vnd.jupyter.widget-view+json": {
       "model_id": "301fdd3c100041daaac552c42bd2fa35",
       "version_major": 2,
       "version_minor": 0
      },
      "text/plain": [
       "  0%|          | 0/4570 [00:00<?, ?it/s]"
      ]
     },
     "metadata": {},
     "output_type": "display_data"
    },
    {
     "data": {
      "application/vnd.jupyter.widget-view+json": {
       "model_id": "84d8f837ae154a459db00e9333dc08de",
       "version_major": 2,
       "version_minor": 0
      },
      "text/plain": [
       "  0%|          | 0/4570 [00:00<?, ?it/s]"
      ]
     },
     "metadata": {},
     "output_type": "display_data"
    },
    {
     "data": {
      "application/vnd.jupyter.widget-view+json": {
       "model_id": "f6de8663ea3d4d05b2fd041f93644047",
       "version_major": 2,
       "version_minor": 0
      },
      "text/plain": [
       "  0%|          | 0/4570 [00:00<?, ?it/s]"
      ]
     },
     "metadata": {},
     "output_type": "display_data"
    },
    {
     "data": {
      "application/vnd.jupyter.widget-view+json": {
       "model_id": "b281914b96e84f63a7d22255c37493ed",
       "version_major": 2,
       "version_minor": 0
      },
      "text/plain": [
       "  0%|          | 0/4570 [00:00<?, ?it/s]"
      ]
     },
     "metadata": {},
     "output_type": "display_data"
    },
    {
     "data": {
      "application/vnd.jupyter.widget-view+json": {
       "model_id": "8013a724cc5741669327ca7d7f1c1022",
       "version_major": 2,
       "version_minor": 0
      },
      "text/plain": [
       "  0%|          | 0/4570 [00:00<?, ?it/s]"
      ]
     },
     "metadata": {},
     "output_type": "display_data"
    },
    {
     "data": {
      "application/vnd.jupyter.widget-view+json": {
       "model_id": "83ea5254c5fa47e1b571c2630b5c8865",
       "version_major": 2,
       "version_minor": 0
      },
      "text/plain": [
       "  0%|          | 0/4570 [00:00<?, ?it/s]"
      ]
     },
     "metadata": {},
     "output_type": "display_data"
    },
    {
     "data": {
      "application/vnd.jupyter.widget-view+json": {
       "model_id": "affc6d9b3cc04058ab0922ee1296086c",
       "version_major": 2,
       "version_minor": 0
      },
      "text/plain": [
       "  0%|          | 0/4570 [00:00<?, ?it/s]"
      ]
     },
     "metadata": {},
     "output_type": "display_data"
    },
    {
     "data": {
      "application/vnd.jupyter.widget-view+json": {
       "model_id": "445d1eb4c4184773991dd7974201d71d",
       "version_major": 2,
       "version_minor": 0
      },
      "text/plain": [
       "  0%|          | 0/4570 [00:00<?, ?it/s]"
      ]
     },
     "metadata": {},
     "output_type": "display_data"
    },
    {
     "data": {
      "application/vnd.jupyter.widget-view+json": {
       "model_id": "845884df500543189e0c42f0e18a1c8b",
       "version_major": 2,
       "version_minor": 0
      },
      "text/plain": [
       "  0%|          | 0/4570 [00:00<?, ?it/s]"
      ]
     },
     "metadata": {},
     "output_type": "display_data"
    },
    {
     "data": {
      "application/vnd.jupyter.widget-view+json": {
       "model_id": "c859c3baf32d4eabae7f78dcf870c507",
       "version_major": 2,
       "version_minor": 0
      },
      "text/plain": [
       "  0%|          | 0/4570 [00:00<?, ?it/s]"
      ]
     },
     "metadata": {},
     "output_type": "display_data"
    },
    {
     "data": {
      "application/vnd.jupyter.widget-view+json": {
       "model_id": "6bf808cb17c24929b5898bf7e1c35db5",
       "version_major": 2,
       "version_minor": 0
      },
      "text/plain": [
       "  0%|          | 0/4570 [00:00<?, ?it/s]"
      ]
     },
     "metadata": {},
     "output_type": "display_data"
    },
    {
     "data": {
      "application/vnd.jupyter.widget-view+json": {
       "model_id": "1fab36f36c22423b83c4976ee4d3598e",
       "version_major": 2,
       "version_minor": 0
      },
      "text/plain": [
       "  0%|          | 0/4570 [00:00<?, ?it/s]"
      ]
     },
     "metadata": {},
     "output_type": "display_data"
    },
    {
     "data": {
      "application/vnd.jupyter.widget-view+json": {
       "model_id": "1c3d5eda748946b49a86648c4bff8640",
       "version_major": 2,
       "version_minor": 0
      },
      "text/plain": [
       "  0%|          | 0/4570 [00:00<?, ?it/s]"
      ]
     },
     "metadata": {},
     "output_type": "display_data"
    },
    {
     "data": {
      "application/vnd.jupyter.widget-view+json": {
       "model_id": "74d85d85def845dd9c3b6606cead9873",
       "version_major": 2,
       "version_minor": 0
      },
      "text/plain": [
       "  0%|          | 0/4570 [00:00<?, ?it/s]"
      ]
     },
     "metadata": {},
     "output_type": "display_data"
    },
    {
     "data": {
      "application/vnd.jupyter.widget-view+json": {
       "model_id": "a73f26aa8a074da8bc0c5fbf4cca6fe3",
       "version_major": 2,
       "version_minor": 0
      },
      "text/plain": [
       "  0%|          | 0/4570 [00:00<?, ?it/s]"
      ]
     },
     "metadata": {},
     "output_type": "display_data"
    },
    {
     "data": {
      "application/vnd.jupyter.widget-view+json": {
       "model_id": "22c23a58ddd64c29896cbd2366fccfe4",
       "version_major": 2,
       "version_minor": 0
      },
      "text/plain": [
       "  0%|          | 0/4570 [00:00<?, ?it/s]"
      ]
     },
     "metadata": {},
     "output_type": "display_data"
    },
    {
     "data": {
      "application/vnd.jupyter.widget-view+json": {
       "model_id": "d6202b517e154d8f9afc76aba3ca75fd",
       "version_major": 2,
       "version_minor": 0
      },
      "text/plain": [
       "  0%|          | 0/4570 [00:00<?, ?it/s]"
      ]
     },
     "metadata": {},
     "output_type": "display_data"
    },
    {
     "data": {
      "application/vnd.jupyter.widget-view+json": {
       "model_id": "805b631b5c804967a8a35fb545a66793",
       "version_major": 2,
       "version_minor": 0
      },
      "text/plain": [
       "  0%|          | 0/4570 [00:00<?, ?it/s]"
      ]
     },
     "metadata": {},
     "output_type": "display_data"
    },
    {
     "data": {
      "application/vnd.jupyter.widget-view+json": {
       "model_id": "51ecb91e64d94d45b79260c9515eeb25",
       "version_major": 2,
       "version_minor": 0
      },
      "text/plain": [
       "  0%|          | 0/4570 [00:00<?, ?it/s]"
      ]
     },
     "metadata": {},
     "output_type": "display_data"
    },
    {
     "data": {
      "application/vnd.jupyter.widget-view+json": {
       "model_id": "f652b5b4f85840be85783ac766f02e91",
       "version_major": 2,
       "version_minor": 0
      },
      "text/plain": [
       "  0%|          | 0/4570 [00:00<?, ?it/s]"
      ]
     },
     "metadata": {},
     "output_type": "display_data"
    },
    {
     "data": {
      "application/vnd.jupyter.widget-view+json": {
       "model_id": "ac89e03d2e8545008124c0920d90ddea",
       "version_major": 2,
       "version_minor": 0
      },
      "text/plain": [
       "  0%|          | 0/4570 [00:00<?, ?it/s]"
      ]
     },
     "metadata": {},
     "output_type": "display_data"
    },
    {
     "data": {
      "application/vnd.jupyter.widget-view+json": {
       "model_id": "e6c633229562406f8e2bf3951280b541",
       "version_major": 2,
       "version_minor": 0
      },
      "text/plain": [
       "  0%|          | 0/4570 [00:00<?, ?it/s]"
      ]
     },
     "metadata": {},
     "output_type": "display_data"
    },
    {
     "data": {
      "application/vnd.jupyter.widget-view+json": {
       "model_id": "e7269eb93f9f40439c1bbc7f31555e56",
       "version_major": 2,
       "version_minor": 0
      },
      "text/plain": [
       "  0%|          | 0/4570 [00:00<?, ?it/s]"
      ]
     },
     "metadata": {},
     "output_type": "display_data"
    },
    {
     "data": {
      "application/vnd.jupyter.widget-view+json": {
       "model_id": "3c9b48c266ce4563a48674328512a164",
       "version_major": 2,
       "version_minor": 0
      },
      "text/plain": [
       "  0%|          | 0/4570 [00:00<?, ?it/s]"
      ]
     },
     "metadata": {},
     "output_type": "display_data"
    },
    {
     "data": {
      "application/vnd.jupyter.widget-view+json": {
       "model_id": "7b8a5c34ee0f43a6b82981e19663ef84",
       "version_major": 2,
       "version_minor": 0
      },
      "text/plain": [
       "  0%|          | 0/4570 [00:00<?, ?it/s]"
      ]
     },
     "metadata": {},
     "output_type": "display_data"
    },
    {
     "data": {
      "application/vnd.jupyter.widget-view+json": {
       "model_id": "21277a917ea34178820480499fe91951",
       "version_major": 2,
       "version_minor": 0
      },
      "text/plain": [
       "  0%|          | 0/4570 [00:00<?, ?it/s]"
      ]
     },
     "metadata": {},
     "output_type": "display_data"
    },
    {
     "data": {
      "application/vnd.jupyter.widget-view+json": {
       "model_id": "f1f1357756e54eeab860aeb049dfd61a",
       "version_major": 2,
       "version_minor": 0
      },
      "text/plain": [
       "  0%|          | 0/4570 [00:00<?, ?it/s]"
      ]
     },
     "metadata": {},
     "output_type": "display_data"
    },
    {
     "data": {
      "application/vnd.jupyter.widget-view+json": {
       "model_id": "4529afd002ac45e3982783710a30bd7b",
       "version_major": 2,
       "version_minor": 0
      },
      "text/plain": [
       "  0%|          | 0/4570 [00:00<?, ?it/s]"
      ]
     },
     "metadata": {},
     "output_type": "display_data"
    },
    {
     "data": {
      "application/vnd.jupyter.widget-view+json": {
       "model_id": "a348d2c5a75a4c638f57d3862edac24f",
       "version_major": 2,
       "version_minor": 0
      },
      "text/plain": [
       "  0%|          | 0/4570 [00:00<?, ?it/s]"
      ]
     },
     "metadata": {},
     "output_type": "display_data"
    },
    {
     "data": {
      "application/vnd.jupyter.widget-view+json": {
       "model_id": "fe348ea2da894119992efb4440315319",
       "version_major": 2,
       "version_minor": 0
      },
      "text/plain": [
       "  0%|          | 0/4570 [00:00<?, ?it/s]"
      ]
     },
     "metadata": {},
     "output_type": "display_data"
    },
    {
     "data": {
      "application/vnd.jupyter.widget-view+json": {
       "model_id": "246fff930e2f410784405b621a015bb6",
       "version_major": 2,
       "version_minor": 0
      },
      "text/plain": [
       "  0%|          | 0/4570 [00:00<?, ?it/s]"
      ]
     },
     "metadata": {},
     "output_type": "display_data"
    },
    {
     "data": {
      "application/vnd.jupyter.widget-view+json": {
       "model_id": "0be362cb54604a4aaf4307d73d8d54fc",
       "version_major": 2,
       "version_minor": 0
      },
      "text/plain": [
       "  0%|          | 0/4570 [00:00<?, ?it/s]"
      ]
     },
     "metadata": {},
     "output_type": "display_data"
    },
    {
     "data": {
      "application/vnd.jupyter.widget-view+json": {
       "model_id": "0c6a4449e2a44646be05108c02fbdd26",
       "version_major": 2,
       "version_minor": 0
      },
      "text/plain": [
       "  0%|          | 0/4570 [00:00<?, ?it/s]"
      ]
     },
     "metadata": {},
     "output_type": "display_data"
    },
    {
     "data": {
      "application/vnd.jupyter.widget-view+json": {
       "model_id": "ab9e2473dced463b9ebcfcac2cd85335",
       "version_major": 2,
       "version_minor": 0
      },
      "text/plain": [
       "  0%|          | 0/4570 [00:00<?, ?it/s]"
      ]
     },
     "metadata": {},
     "output_type": "display_data"
    },
    {
     "data": {
      "application/vnd.jupyter.widget-view+json": {
       "model_id": "a6dc7a50b22946cfaf028d734f2356b3",
       "version_major": 2,
       "version_minor": 0
      },
      "text/plain": [
       "  0%|          | 0/4570 [00:00<?, ?it/s]"
      ]
     },
     "metadata": {},
     "output_type": "display_data"
    },
    {
     "data": {
      "application/vnd.jupyter.widget-view+json": {
       "model_id": "a86e3e3cce80458291a0e63319235f99",
       "version_major": 2,
       "version_minor": 0
      },
      "text/plain": [
       "  0%|          | 0/4570 [00:00<?, ?it/s]"
      ]
     },
     "metadata": {},
     "output_type": "display_data"
    },
    {
     "data": {
      "application/vnd.jupyter.widget-view+json": {
       "model_id": "850eea0ca3494b5b881e07c573ce3192",
       "version_major": 2,
       "version_minor": 0
      },
      "text/plain": [
       "  0%|          | 0/4570 [00:00<?, ?it/s]"
      ]
     },
     "metadata": {},
     "output_type": "display_data"
    },
    {
     "data": {
      "application/vnd.jupyter.widget-view+json": {
       "model_id": "f4e8206df59140eb989ae07f94f9229f",
       "version_major": 2,
       "version_minor": 0
      },
      "text/plain": [
       "  0%|          | 0/4570 [00:00<?, ?it/s]"
      ]
     },
     "metadata": {},
     "output_type": "display_data"
    },
    {
     "data": {
      "application/vnd.jupyter.widget-view+json": {
       "model_id": "6fe08badeb574683b723d0179bf5df26",
       "version_major": 2,
       "version_minor": 0
      },
      "text/plain": [
       "  0%|          | 0/4570 [00:00<?, ?it/s]"
      ]
     },
     "metadata": {},
     "output_type": "display_data"
    },
    {
     "data": {
      "application/vnd.jupyter.widget-view+json": {
       "model_id": "3f9051a01e494886a3e171e74b8dbef8",
       "version_major": 2,
       "version_minor": 0
      },
      "text/plain": [
       "  0%|          | 0/4570 [00:00<?, ?it/s]"
      ]
     },
     "metadata": {},
     "output_type": "display_data"
    },
    {
     "data": {
      "application/vnd.jupyter.widget-view+json": {
       "model_id": "ebbb5d3fd55c4d4b86105426aaea2d8d",
       "version_major": 2,
       "version_minor": 0
      },
      "text/plain": [
       "  0%|          | 0/4570 [00:00<?, ?it/s]"
      ]
     },
     "metadata": {},
     "output_type": "display_data"
    },
    {
     "data": {
      "application/vnd.jupyter.widget-view+json": {
       "model_id": "249b6b2a840b401d91c10a9e0f6b79d3",
       "version_major": 2,
       "version_minor": 0
      },
      "text/plain": [
       "  0%|          | 0/4570 [00:00<?, ?it/s]"
      ]
     },
     "metadata": {},
     "output_type": "display_data"
    },
    {
     "data": {
      "application/vnd.jupyter.widget-view+json": {
       "model_id": "cb3172b3025748178538749858b67021",
       "version_major": 2,
       "version_minor": 0
      },
      "text/plain": [
       "  0%|          | 0/4570 [00:00<?, ?it/s]"
      ]
     },
     "metadata": {},
     "output_type": "display_data"
    },
    {
     "data": {
      "application/vnd.jupyter.widget-view+json": {
       "model_id": "890ff03c70be414db28f3d206405bdc0",
       "version_major": 2,
       "version_minor": 0
      },
      "text/plain": [
       "  0%|          | 0/4570 [00:00<?, ?it/s]"
      ]
     },
     "metadata": {},
     "output_type": "display_data"
    }
   ],
   "source": [
    "#GENERATE A SAMPLE AND SAVE IT (without repaint)\n",
    "for i in range(50):\n",
    "    n_samples = 1\n",
    "    model_kwargs = {}\n",
    "    sample_fn = (\n",
    "        diffusion.p_sample_loop if not conf.use_ddim else diffusion.ddim_sample_loop\n",
    "    )\n",
    "    intermediates,finals = sample_fn(\n",
    "        model,\n",
    "        (n_samples, 3, 256, 256), #REMPLACER PAR CONF.IMAGE_SIZE\n",
    "        clip_denoised=conf.clip_denoised,\n",
    "        model_kwargs=model_kwargs,\n",
    "        device=device,\n",
    "        progress=show_progress,\n",
    "        return_all=True,\n",
    "        conf=conf\n",
    "    )\n",
    "\n",
    "    transform = T.ToPILImage()\n",
    "\n",
    "    f_samples = finals['sample']\n",
    "    f_samples = ((f_samples + 1) * 127.5).clamp(0, 255).to(th.uint8)\n",
    "    f_samples = f_samples.contiguous()\n",
    "\n",
    "    for sample in f_samples:\n",
    "        img = transform(sample)\n",
    "        img.save(\"samples/sample_\"+str(i)+\".jpeg\")\n"
   ]
  },
  {
   "cell_type": "code",
   "execution_count": 22,
   "id": "e6ad00f5-e630-4d60-8099-735670476522",
   "metadata": {},
   "outputs": [
    {
     "name": "stdout",
     "output_type": "stream",
     "text": [
      "1\n",
      "2\n",
      "3\n",
      "4\n",
      "5\n"
     ]
    }
   ],
   "source": [
    "#generate gif\n",
    "\n",
    "\n",
    "\n",
    "samples = torch.stack(intermediates)\n",
    "samples = ((samples + 1) * 127.5).clamp(0, 255).to(th.uint8)\n",
    "samples = samples.permute(1,0, 2, 3, 4)\n",
    "samples = samples.contiguous()\n",
    "\n",
    "\n",
    "step = 10\n",
    "i=0\n",
    "for sample_intermediates in list(samples):\n",
    "    \n",
    "    imgs = (transform(sample_intermediates[int(j*step)]) for j in range(int(len(sample_intermediates)/step)))\n",
    "    img = next(imgs)  # extract first image from iterator\n",
    "    img.save(fp='samples/gif_'+str(i)+'.gif', format='GIF', append_images=imgs,\n",
    "             save_all=True, duration=50, loop=0)\n",
    "    i+=1\n",
    "    print(i)"
   ]
  },
  {
   "cell_type": "code",
   "execution_count": null,
   "id": "e708721d-7eb1-4a78-8bdd-e0a5fbae0ec1",
   "metadata": {},
   "outputs": [],
   "source": [
    "# https://colab.research.google.com/drive/12a_Wrfi2_gwwAuN3VvMTwVMz9TfqctNj#scrollTo=7zAqFEykBHDL TO DO"
   ]
  },
  {
   "cell_type": "code",
   "execution_count": 2,
   "id": "e20bd656-aacc-44cd-bc2f-f9fd7107df31",
   "metadata": {},
   "outputs": [
    {
     "name": "stdout",
     "output_type": "stream",
     "text": [
      "Start upsample\n",
      "Nombre de paramètres :  279792390\n"
     ]
    }
   ],
   "source": [
    "#Upscaling dont work for now\n",
    "\n",
    "\n",
    "conf_us = conf_mgt.conf_base.Default_Conf()\n",
    "conf_us.update(yamlread('confs/upsample_conf.yml'))\n",
    "\n",
    "def args_to_dict(args, keys):\n",
    "    return {k: getattr(args, k) for k in keys}\n",
    "args_to_dict(conf_us, sr_model_and_diffusion_defaults().keys())\n",
    "\n",
    "print(\"Start\", conf_us['name'])\n",
    "\n",
    "device = dist_util.dev(conf_us.get('device'))\n",
    "\n",
    "\n",
    "model_us, diffusion_us = sr_create_model_and_diffusion(\n",
    "    **args_to_dict(conf_us, sr_model_and_diffusion_defaults().keys()),conf=conf_us\n",
    ")\n",
    "model_us.load_state_dict(\n",
    "    dist_util.load_state_dict(os.path.expanduser(\n",
    "        conf_us.model_path), map_location=\"cpu\")\n",
    ")\n",
    "model_us.to(device)\n",
    "if conf_us.use_fp16:\n",
    "    model_us.convert_to_fp16()\n",
    "model_us.eval()\n",
    "\n",
    "show_progress = conf_us.show_progress\n",
    "\n",
    "import numpy as np\n",
    "model_parameters = filter(lambda p: p.requires_grad, model_us.parameters())\n",
    "params = sum([np.prod(p.size()) for p in model_parameters])\n",
    "print('Nombre de paramètres : ', params)"
   ]
  },
  {
   "cell_type": "code",
   "execution_count": 3,
   "id": "d7245daf-62e8-44b8-ace2-a9082f0ee8a3",
   "metadata": {},
   "outputs": [
    {
     "data": {
      "application/vnd.jupyter.widget-view+json": {
       "model_id": "47fab7980efe4aebba6626b513f937f3",
       "version_major": 2,
       "version_minor": 0
      },
      "text/plain": [
       "  0%|          | 0/1000 [00:00<?, ?it/s]"
      ]
     },
     "metadata": {},
     "output_type": "display_data"
    },
    {
     "ename": "AttributeError",
     "evalue": "'NoneType' object has no attribute 'dim'",
     "output_type": "error",
     "traceback": [
      "\u001b[1;31m---------------------------------------------------------------------------\u001b[0m",
      "\u001b[1;31mAttributeError\u001b[0m                            Traceback (most recent call last)",
      "Cell \u001b[1;32mIn [3], line 6\u001b[0m\n\u001b[0;32m      2\u001b[0m \u001b[38;5;28;01mimport\u001b[39;00m \u001b[38;5;21;01mtorch\u001b[39;00m\n\u001b[0;32m      3\u001b[0m model_kwargs \u001b[38;5;241m=\u001b[39m {\u001b[38;5;124m\"\u001b[39m\u001b[38;5;124my\u001b[39m\u001b[38;5;124m\"\u001b[39m:torch\u001b[38;5;241m.\u001b[39mrandn(\u001b[38;5;241m1\u001b[39m,\u001b[38;5;241m3\u001b[39m,\u001b[38;5;241m64\u001b[39m,\u001b[38;5;241m64\u001b[39m)}\n\u001b[1;32m----> 6\u001b[0m intermediates,finals \u001b[38;5;241m=\u001b[39m \u001b[43mdiffusion_us\u001b[49m\u001b[38;5;241;43m.\u001b[39;49m\u001b[43mp_sample_loop\u001b[49m\u001b[43m(\u001b[49m\n\u001b[0;32m      7\u001b[0m \u001b[43m    \u001b[49m\u001b[43mmodel_us\u001b[49m\u001b[43m,\u001b[49m\n\u001b[0;32m      8\u001b[0m \u001b[43m    \u001b[49m\u001b[43m(\u001b[49m\u001b[43mn_samples\u001b[49m\u001b[43m,\u001b[49m\u001b[43m \u001b[49m\u001b[38;5;241;43m3\u001b[39;49m\u001b[43m,\u001b[49m\u001b[43m \u001b[49m\u001b[38;5;241;43m64\u001b[39;49m\u001b[43m,\u001b[49m\u001b[43m \u001b[49m\u001b[38;5;241;43m64\u001b[39;49m\u001b[43m)\u001b[49m\u001b[43m,\u001b[49m\n\u001b[0;32m      9\u001b[0m \u001b[43m    \u001b[49m\u001b[43mclip_denoised\u001b[49m\u001b[38;5;241;43m=\u001b[39;49m\u001b[43mconf_us\u001b[49m\u001b[38;5;241;43m.\u001b[39;49m\u001b[43mclip_denoised\u001b[49m\u001b[43m,\u001b[49m\n\u001b[0;32m     10\u001b[0m \u001b[43m    \u001b[49m\u001b[43mmodel_kwargs\u001b[49m\u001b[38;5;241;43m=\u001b[39;49m\u001b[43mmodel_kwargs\u001b[49m\u001b[43m,\u001b[49m\n\u001b[0;32m     11\u001b[0m \u001b[43m    \u001b[49m\u001b[43mdevice\u001b[49m\u001b[38;5;241;43m=\u001b[39;49m\u001b[43mdevice\u001b[49m\u001b[43m,\u001b[49m\n\u001b[0;32m     12\u001b[0m \u001b[43m    \u001b[49m\u001b[43mprogress\u001b[49m\u001b[38;5;241;43m=\u001b[39;49m\u001b[43mshow_progress\u001b[49m\u001b[43m,\u001b[49m\n\u001b[0;32m     13\u001b[0m \u001b[43m    \u001b[49m\u001b[43mreturn_all\u001b[49m\u001b[38;5;241;43m=\u001b[39;49m\u001b[38;5;28;43;01mTrue\u001b[39;49;00m\u001b[43m,\u001b[49m\n\u001b[0;32m     14\u001b[0m \u001b[43m    \u001b[49m\u001b[43mconf\u001b[49m\u001b[38;5;241;43m=\u001b[39;49m\u001b[43mconf_us\u001b[49m\n\u001b[0;32m     15\u001b[0m \u001b[43m)\u001b[49m\n",
      "File \u001b[1;32m~\\OneDrive\\Cours\\Semestre 11\\DDPM\\RePaint\\guided_diffusion\\gaussian_diffusion.py:471\u001b[0m, in \u001b[0;36mGaussianDiffusion.p_sample_loop\u001b[1;34m(self, model, shape, noise, clip_denoised, denoised_fn, cond_fn, model_kwargs, device, progress, return_all, conf)\u001b[0m\n\u001b[0;32m    469\u001b[0m \u001b[38;5;28;01mif\u001b[39;00m conf\u001b[38;5;241m.\u001b[39mintermediate_steps:\n\u001b[0;32m    470\u001b[0m     img_list \u001b[38;5;241m=\u001b[39m []\n\u001b[1;32m--> 471\u001b[0m \u001b[38;5;28;01mfor\u001b[39;00m sample \u001b[38;5;129;01min\u001b[39;00m \u001b[38;5;28mself\u001b[39m\u001b[38;5;241m.\u001b[39mp_sample_loop_progressive(\n\u001b[0;32m    472\u001b[0m     model,\n\u001b[0;32m    473\u001b[0m     shape,\n\u001b[0;32m    474\u001b[0m     noise\u001b[38;5;241m=\u001b[39mnoise,\n\u001b[0;32m    475\u001b[0m     clip_denoised\u001b[38;5;241m=\u001b[39mclip_denoised,\n\u001b[0;32m    476\u001b[0m     denoised_fn\u001b[38;5;241m=\u001b[39mdenoised_fn,\n\u001b[0;32m    477\u001b[0m     cond_fn\u001b[38;5;241m=\u001b[39mcond_fn,\n\u001b[0;32m    478\u001b[0m     model_kwargs\u001b[38;5;241m=\u001b[39mmodel_kwargs,\n\u001b[0;32m    479\u001b[0m     device\u001b[38;5;241m=\u001b[39mdevice,\n\u001b[0;32m    480\u001b[0m     progress\u001b[38;5;241m=\u001b[39mprogress,\n\u001b[0;32m    481\u001b[0m     conf\u001b[38;5;241m=\u001b[39mconf\n\u001b[0;32m    482\u001b[0m ):\n\u001b[0;32m    483\u001b[0m     final \u001b[38;5;241m=\u001b[39m sample\n\u001b[0;32m    484\u001b[0m     img_list\u001b[38;5;241m.\u001b[39mappend(final[\u001b[38;5;124m\"\u001b[39m\u001b[38;5;124msample\u001b[39m\u001b[38;5;124m\"\u001b[39m])\n",
      "File \u001b[1;32m~\\OneDrive\\Cours\\Semestre 11\\DDPM\\RePaint\\guided_diffusion\\gaussian_diffusion.py:588\u001b[0m, in \u001b[0;36mGaussianDiffusion.p_sample_loop_progressive\u001b[1;34m(self, model, shape, noise, clip_denoised, denoised_fn, cond_fn, model_kwargs, device, progress, conf)\u001b[0m\n\u001b[0;32m    586\u001b[0m t \u001b[38;5;241m=\u001b[39m th\u001b[38;5;241m.\u001b[39mtensor([i] \u001b[38;5;241m*\u001b[39m shape[\u001b[38;5;241m0\u001b[39m], device\u001b[38;5;241m=\u001b[39mdevice)\n\u001b[0;32m    587\u001b[0m \u001b[38;5;28;01mwith\u001b[39;00m th\u001b[38;5;241m.\u001b[39mno_grad():\n\u001b[1;32m--> 588\u001b[0m     out \u001b[38;5;241m=\u001b[39m \u001b[38;5;28;43mself\u001b[39;49m\u001b[38;5;241;43m.\u001b[39;49m\u001b[43mp_sample\u001b[49m\u001b[43m(\u001b[49m\n\u001b[0;32m    589\u001b[0m \u001b[43m        \u001b[49m\u001b[43mmodel\u001b[49m\u001b[43m,\u001b[49m\n\u001b[0;32m    590\u001b[0m \u001b[43m        \u001b[49m\u001b[43mimage_after_step\u001b[49m\u001b[43m,\u001b[49m\n\u001b[0;32m    591\u001b[0m \u001b[43m        \u001b[49m\u001b[43mt\u001b[49m\u001b[43m,\u001b[49m\n\u001b[0;32m    592\u001b[0m \u001b[43m        \u001b[49m\u001b[43mclip_denoised\u001b[49m\u001b[38;5;241;43m=\u001b[39;49m\u001b[43mclip_denoised\u001b[49m\u001b[43m,\u001b[49m\n\u001b[0;32m    593\u001b[0m \u001b[43m        \u001b[49m\u001b[43mdenoised_fn\u001b[49m\u001b[38;5;241;43m=\u001b[39;49m\u001b[43mdenoised_fn\u001b[49m\u001b[43m,\u001b[49m\n\u001b[0;32m    594\u001b[0m \u001b[43m        \u001b[49m\u001b[43mmodel_kwargs\u001b[49m\u001b[38;5;241;43m=\u001b[39;49m\u001b[43mmodel_kwargs\u001b[49m\u001b[43m,\u001b[49m\n\u001b[0;32m    595\u001b[0m \u001b[43m        \u001b[49m\u001b[43mconf\u001b[49m\u001b[43m \u001b[49m\u001b[38;5;241;43m=\u001b[39;49m\u001b[43m \u001b[49m\u001b[43mconf\u001b[49m\n\u001b[0;32m    596\u001b[0m \u001b[43m    \u001b[49m\u001b[43m)\u001b[49m\n\u001b[0;32m    597\u001b[0m     \u001b[38;5;28;01myield\u001b[39;00m out\n\u001b[0;32m    598\u001b[0m     image_after_step \u001b[38;5;241m=\u001b[39m out[\u001b[38;5;124m\"\u001b[39m\u001b[38;5;124msample\u001b[39m\u001b[38;5;124m\"\u001b[39m]\n",
      "File \u001b[1;32m~\\OneDrive\\Cours\\Semestre 11\\DDPM\\RePaint\\guided_diffusion\\gaussian_diffusion.py:409\u001b[0m, in \u001b[0;36mGaussianDiffusion.p_sample\u001b[1;34m(self, model, x, t, clip_denoised, denoised_fn, cond_fn, model_kwargs, conf, meas_fn, pred_xstart, idx_wall)\u001b[0m\n\u001b[0;32m    396\u001b[0m             weighed_gt \u001b[38;5;241m=\u001b[39m gt_part \u001b[38;5;241m+\u001b[39m noise_part\n\u001b[0;32m    398\u001b[0m         x \u001b[38;5;241m=\u001b[39m (\n\u001b[0;32m    399\u001b[0m             gt_keep_mask \u001b[38;5;241m*\u001b[39m (\n\u001b[0;32m    400\u001b[0m                 weighed_gt\n\u001b[1;32m   (...)\u001b[0m\n\u001b[0;32m    405\u001b[0m             )\n\u001b[0;32m    406\u001b[0m         )\n\u001b[1;32m--> 409\u001b[0m out \u001b[38;5;241m=\u001b[39m \u001b[38;5;28;43mself\u001b[39;49m\u001b[38;5;241;43m.\u001b[39;49m\u001b[43mp_mean_variance\u001b[49m\u001b[43m(\u001b[49m\n\u001b[0;32m    410\u001b[0m \u001b[43m    \u001b[49m\u001b[43mmodel\u001b[49m\u001b[43m,\u001b[49m\n\u001b[0;32m    411\u001b[0m \u001b[43m    \u001b[49m\u001b[43mx\u001b[49m\u001b[43m,\u001b[49m\n\u001b[0;32m    412\u001b[0m \u001b[43m    \u001b[49m\u001b[43mt\u001b[49m\u001b[43m,\u001b[49m\n\u001b[0;32m    413\u001b[0m \u001b[43m    \u001b[49m\u001b[43mclip_denoised\u001b[49m\u001b[38;5;241;43m=\u001b[39;49m\u001b[43mclip_denoised\u001b[49m\u001b[43m,\u001b[49m\n\u001b[0;32m    414\u001b[0m \u001b[43m    \u001b[49m\u001b[43mdenoised_fn\u001b[49m\u001b[38;5;241;43m=\u001b[39;49m\u001b[43mdenoised_fn\u001b[49m\u001b[43m,\u001b[49m\n\u001b[0;32m    415\u001b[0m \u001b[43m    \u001b[49m\u001b[43mmodel_kwargs\u001b[49m\u001b[38;5;241;43m=\u001b[39;49m\u001b[43mmodel_kwargs\u001b[49m\u001b[43m,\u001b[49m\n\u001b[0;32m    416\u001b[0m \u001b[43m\u001b[49m\u001b[43m)\u001b[49m\n\u001b[0;32m    418\u001b[0m nonzero_mask \u001b[38;5;241m=\u001b[39m (\n\u001b[0;32m    419\u001b[0m     (t \u001b[38;5;241m!=\u001b[39m \u001b[38;5;241m0\u001b[39m)\u001b[38;5;241m.\u001b[39mfloat()\u001b[38;5;241m.\u001b[39mview(\u001b[38;5;241m-\u001b[39m\u001b[38;5;241m1\u001b[39m, \u001b[38;5;241m*\u001b[39m([\u001b[38;5;241m1\u001b[39m] \u001b[38;5;241m*\u001b[39m (\u001b[38;5;28mlen\u001b[39m(x\u001b[38;5;241m.\u001b[39mshape) \u001b[38;5;241m-\u001b[39m \u001b[38;5;241m1\u001b[39m)))\n\u001b[0;32m    420\u001b[0m ) \n\u001b[0;32m    422\u001b[0m \u001b[38;5;28;01mif\u001b[39;00m cond_fn \u001b[38;5;129;01mis\u001b[39;00m \u001b[38;5;129;01mnot\u001b[39;00m \u001b[38;5;28;01mNone\u001b[39;00m:\n",
      "File \u001b[1;32m~\\OneDrive\\Cours\\Semestre 11\\DDPM\\RePaint\\guided_diffusion\\respace.py:124\u001b[0m, in \u001b[0;36mSpacedDiffusion.p_mean_variance\u001b[1;34m(self, model, *args, **kwargs)\u001b[0m\n\u001b[0;32m    121\u001b[0m \u001b[38;5;28;01mdef\u001b[39;00m \u001b[38;5;21mp_mean_variance\u001b[39m(\n\u001b[0;32m    122\u001b[0m     \u001b[38;5;28mself\u001b[39m, model, \u001b[38;5;241m*\u001b[39margs, \u001b[38;5;241m*\u001b[39m\u001b[38;5;241m*\u001b[39mkwargs\n\u001b[0;32m    123\u001b[0m ):  \u001b[38;5;66;03m# pylint: disable=signature-differs\u001b[39;00m\n\u001b[1;32m--> 124\u001b[0m     \u001b[38;5;28;01mreturn\u001b[39;00m \u001b[38;5;28msuper\u001b[39m()\u001b[38;5;241m.\u001b[39mp_mean_variance(\u001b[38;5;28mself\u001b[39m\u001b[38;5;241m.\u001b[39m_wrap_model(model), \u001b[38;5;241m*\u001b[39margs, \u001b[38;5;241m*\u001b[39m\u001b[38;5;241m*\u001b[39mkwargs)\n",
      "File \u001b[1;32m~\\OneDrive\\Cours\\Semestre 11\\DDPM\\RePaint\\guided_diffusion\\gaussian_diffusion.py:262\u001b[0m, in \u001b[0;36mGaussianDiffusion.p_mean_variance\u001b[1;34m(self, model, x, t, clip_denoised, denoised_fn, model_kwargs)\u001b[0m\n\u001b[0;32m    259\u001b[0m B, C \u001b[38;5;241m=\u001b[39m x\u001b[38;5;241m.\u001b[39mshape[:\u001b[38;5;241m2\u001b[39m]\n\u001b[0;32m    260\u001b[0m \u001b[38;5;28;01massert\u001b[39;00m t\u001b[38;5;241m.\u001b[39mshape \u001b[38;5;241m==\u001b[39m (B,)\n\u001b[1;32m--> 262\u001b[0m model_output \u001b[38;5;241m=\u001b[39m model(x, t, \u001b[38;5;241m*\u001b[39m\u001b[38;5;241m*\u001b[39mmodel_kwargs)\n\u001b[0;32m    264\u001b[0m \u001b[38;5;28;01massert\u001b[39;00m model_output\u001b[38;5;241m.\u001b[39mshape \u001b[38;5;241m==\u001b[39m (B, C \u001b[38;5;241m*\u001b[39m \u001b[38;5;241m2\u001b[39m, \u001b[38;5;241m*\u001b[39mx\u001b[38;5;241m.\u001b[39mshape[\u001b[38;5;241m2\u001b[39m:])\n\u001b[0;32m    265\u001b[0m model_output, model_var_values \u001b[38;5;241m=\u001b[39m th\u001b[38;5;241m.\u001b[39msplit(model_output, C, dim\u001b[38;5;241m=\u001b[39m\u001b[38;5;241m1\u001b[39m)\n",
      "File \u001b[1;32m~\\OneDrive\\Cours\\Semestre 11\\DDPM\\RePaint\\guided_diffusion\\respace.py:170\u001b[0m, in \u001b[0;36m_WrappedModel.__call__\u001b[1;34m(self, x, ts, **kwargs)\u001b[0m\n\u001b[0;32m    166\u001b[0m \u001b[38;5;28;01mif\u001b[39;00m \u001b[38;5;28mself\u001b[39m\u001b[38;5;241m.\u001b[39mconf\u001b[38;5;241m.\u001b[39mrespace_interpolate:\n\u001b[0;32m    167\u001b[0m     new_ts \u001b[38;5;241m=\u001b[39m new_ts\u001b[38;5;241m.\u001b[39mfloat() \u001b[38;5;241m*\u001b[39m (\n\u001b[0;32m    168\u001b[0m         (\u001b[38;5;28mself\u001b[39m\u001b[38;5;241m.\u001b[39mconf\u001b[38;5;241m.\u001b[39mdiffusion_steps \u001b[38;5;241m-\u001b[39m \u001b[38;5;241m1\u001b[39m) \u001b[38;5;241m/\u001b[39m (\u001b[38;5;28mfloat\u001b[39m(\u001b[38;5;28mself\u001b[39m\u001b[38;5;241m.\u001b[39mconf\u001b[38;5;241m.\u001b[39mtimestep_respacing) \u001b[38;5;241m-\u001b[39m \u001b[38;5;241m1.0\u001b[39m))\n\u001b[1;32m--> 170\u001b[0m \u001b[38;5;28;01mreturn\u001b[39;00m \u001b[38;5;28mself\u001b[39m\u001b[38;5;241m.\u001b[39mmodel(x, new_ts, \u001b[38;5;241m*\u001b[39m\u001b[38;5;241m*\u001b[39mkwargs)\n",
      "File \u001b[1;32m~\\anaconda3\\envs\\tpenv\\lib\\site-packages\\torch\\nn\\modules\\module.py:1130\u001b[0m, in \u001b[0;36mModule._call_impl\u001b[1;34m(self, *input, **kwargs)\u001b[0m\n\u001b[0;32m   1126\u001b[0m \u001b[38;5;66;03m# If we don't have any hooks, we want to skip the rest of the logic in\u001b[39;00m\n\u001b[0;32m   1127\u001b[0m \u001b[38;5;66;03m# this function, and just call forward.\u001b[39;00m\n\u001b[0;32m   1128\u001b[0m \u001b[38;5;28;01mif\u001b[39;00m \u001b[38;5;129;01mnot\u001b[39;00m (\u001b[38;5;28mself\u001b[39m\u001b[38;5;241m.\u001b[39m_backward_hooks \u001b[38;5;129;01mor\u001b[39;00m \u001b[38;5;28mself\u001b[39m\u001b[38;5;241m.\u001b[39m_forward_hooks \u001b[38;5;129;01mor\u001b[39;00m \u001b[38;5;28mself\u001b[39m\u001b[38;5;241m.\u001b[39m_forward_pre_hooks \u001b[38;5;129;01mor\u001b[39;00m _global_backward_hooks\n\u001b[0;32m   1129\u001b[0m         \u001b[38;5;129;01mor\u001b[39;00m _global_forward_hooks \u001b[38;5;129;01mor\u001b[39;00m _global_forward_pre_hooks):\n\u001b[1;32m-> 1130\u001b[0m     \u001b[38;5;28;01mreturn\u001b[39;00m forward_call(\u001b[38;5;241m*\u001b[39m\u001b[38;5;28minput\u001b[39m, \u001b[38;5;241m*\u001b[39m\u001b[38;5;241m*\u001b[39mkwargs)\n\u001b[0;32m   1131\u001b[0m \u001b[38;5;66;03m# Do not call functions when jit is used\u001b[39;00m\n\u001b[0;32m   1132\u001b[0m full_backward_hooks, non_full_backward_hooks \u001b[38;5;241m=\u001b[39m [], []\n",
      "File \u001b[1;32m~\\OneDrive\\Cours\\Semestre 11\\DDPM\\RePaint\\guided_diffusion\\unet_id.py:538\u001b[0m, in \u001b[0;36mSuperResModelID.forward\u001b[1;34m(self, x, timesteps, low_res, **kwargs)\u001b[0m\n\u001b[0;32m    536\u001b[0m \u001b[38;5;28;01mdef\u001b[39;00m \u001b[38;5;21mforward\u001b[39m(\u001b[38;5;28mself\u001b[39m, x, timesteps, low_res\u001b[38;5;241m=\u001b[39m\u001b[38;5;28;01mNone\u001b[39;00m, \u001b[38;5;241m*\u001b[39m\u001b[38;5;241m*\u001b[39mkwargs):\n\u001b[0;32m    537\u001b[0m     _, _, new_height, new_width \u001b[38;5;241m=\u001b[39m x\u001b[38;5;241m.\u001b[39mshape\n\u001b[1;32m--> 538\u001b[0m     upsampled \u001b[38;5;241m=\u001b[39m \u001b[43mF\u001b[49m\u001b[38;5;241;43m.\u001b[39;49m\u001b[43minterpolate\u001b[49m\u001b[43m(\u001b[49m\u001b[43mlow_res\u001b[49m\u001b[43m,\u001b[49m\u001b[43m \u001b[49m\u001b[43m(\u001b[49m\u001b[43mnew_height\u001b[49m\u001b[43m,\u001b[49m\u001b[43m \u001b[49m\u001b[43mnew_width\u001b[49m\u001b[43m)\u001b[49m\u001b[43m,\u001b[49m\u001b[43m \u001b[49m\u001b[43mmode\u001b[49m\u001b[38;5;241;43m=\u001b[39;49m\u001b[38;5;124;43m\"\u001b[39;49m\u001b[38;5;124;43mbilinear\u001b[39;49m\u001b[38;5;124;43m\"\u001b[39;49m\u001b[43m)\u001b[49m\n\u001b[0;32m    539\u001b[0m     x \u001b[38;5;241m=\u001b[39m th\u001b[38;5;241m.\u001b[39mcat([x, upsampled], dim\u001b[38;5;241m=\u001b[39m\u001b[38;5;241m1\u001b[39m)\n\u001b[0;32m    540\u001b[0m     \u001b[38;5;28;01mreturn\u001b[39;00m \u001b[38;5;28msuper\u001b[39m()\u001b[38;5;241m.\u001b[39mforward(x, timesteps, \u001b[38;5;241m*\u001b[39m\u001b[38;5;241m*\u001b[39mkwargs)\n",
      "File \u001b[1;32m~\\anaconda3\\envs\\tpenv\\lib\\site-packages\\torch\\nn\\functional.py:3841\u001b[0m, in \u001b[0;36minterpolate\u001b[1;34m(input, size, scale_factor, mode, align_corners, recompute_scale_factor, antialias)\u001b[0m\n\u001b[0;32m   3838\u001b[0m     \u001b[38;5;28;01mif\u001b[39;00m align_corners \u001b[38;5;129;01mis\u001b[39;00m \u001b[38;5;28;01mNone\u001b[39;00m:\n\u001b[0;32m   3839\u001b[0m         align_corners \u001b[38;5;241m=\u001b[39m \u001b[38;5;28;01mFalse\u001b[39;00m\n\u001b[1;32m-> 3841\u001b[0m dim \u001b[38;5;241m=\u001b[39m \u001b[38;5;28;43minput\u001b[39;49m\u001b[38;5;241;43m.\u001b[39;49m\u001b[43mdim\u001b[49m() \u001b[38;5;241m-\u001b[39m \u001b[38;5;241m2\u001b[39m  \u001b[38;5;66;03m# Number of spatial dimensions.\u001b[39;00m\n\u001b[0;32m   3843\u001b[0m \u001b[38;5;66;03m# Process size and scale_factor.  Validate that exactly one is set.\u001b[39;00m\n\u001b[0;32m   3844\u001b[0m \u001b[38;5;66;03m# Validate its length if it is a list, or expand it if it is a scalar.\u001b[39;00m\n\u001b[0;32m   3845\u001b[0m \u001b[38;5;66;03m# After this block, exactly one of output_size and scale_factors will\u001b[39;00m\n\u001b[0;32m   3846\u001b[0m \u001b[38;5;66;03m# be non-None, and it will be a list (or tuple).\u001b[39;00m\n\u001b[0;32m   3847\u001b[0m \u001b[38;5;28;01mif\u001b[39;00m size \u001b[38;5;129;01mis\u001b[39;00m \u001b[38;5;129;01mnot\u001b[39;00m \u001b[38;5;28;01mNone\u001b[39;00m \u001b[38;5;129;01mand\u001b[39;00m scale_factor \u001b[38;5;129;01mis\u001b[39;00m \u001b[38;5;129;01mnot\u001b[39;00m \u001b[38;5;28;01mNone\u001b[39;00m:\n",
      "\u001b[1;31mAttributeError\u001b[0m: 'NoneType' object has no attribute 'dim'"
     ]
    }
   ],
   "source": [
    "n_samples = 1\n",
    "import torch\n",
    "model_kwargs = {\"y\":torch.randn(1,3,64,64)}\n",
    "\n",
    "\n",
    "intermediates,finals = diffusion_us.p_sample_loop(\n",
    "    model_us,\n",
    "    (n_samples, 3, 64, 64),\n",
    "    clip_denoised=conf_us.clip_denoised,\n",
    "    model_kwargs=model_kwargs,\n",
    "    device=device,\n",
    "    progress=show_progress,\n",
    "    return_all=True,\n",
    "    conf=conf_us\n",
    ")"
   ]
  },
  {
   "cell_type": "code",
   "execution_count": 3,
   "id": "2d457356-f081-41ee-b3b4-d866800b4788",
   "metadata": {},
   "outputs": [
    {
     "ename": "AttributeError",
     "evalue": "'int' object has no attribute 'device'",
     "output_type": "error",
     "traceback": [
      "\u001b[1;31m---------------------------------------------------------------------------\u001b[0m",
      "\u001b[1;31mAttributeError\u001b[0m                            Traceback (most recent call last)",
      "Cell \u001b[1;32mIn [3], line 3\u001b[0m\n\u001b[0;32m      1\u001b[0m noise \u001b[38;5;241m=\u001b[39m torch\u001b[38;5;241m.\u001b[39mrandn(\u001b[38;5;241m1\u001b[39m,\u001b[38;5;241m3\u001b[39m,\u001b[38;5;241m256\u001b[39m,\u001b[38;5;241m256\u001b[39m)\n\u001b[0;32m      2\u001b[0m low_res \u001b[38;5;241m=\u001b[39m torch\u001b[38;5;241m.\u001b[39mrandn(\u001b[38;5;241m1\u001b[39m,\u001b[38;5;241m3\u001b[39m,\u001b[38;5;241m64\u001b[39m,\u001b[38;5;241m64\u001b[39m)\n\u001b[1;32m----> 3\u001b[0m \u001b[43mmodel_us\u001b[49m\u001b[43m(\u001b[49m\u001b[43mnoise\u001b[49m\u001b[43m,\u001b[49m\u001b[38;5;241;43m100\u001b[39;49m\u001b[43m,\u001b[49m\u001b[43mlow_res\u001b[49m\u001b[43m)\u001b[49m\n",
      "File \u001b[1;32m~\\anaconda3\\envs\\tpenv\\lib\\site-packages\\torch\\nn\\modules\\module.py:1130\u001b[0m, in \u001b[0;36mModule._call_impl\u001b[1;34m(self, *input, **kwargs)\u001b[0m\n\u001b[0;32m   1126\u001b[0m \u001b[38;5;66;03m# If we don't have any hooks, we want to skip the rest of the logic in\u001b[39;00m\n\u001b[0;32m   1127\u001b[0m \u001b[38;5;66;03m# this function, and just call forward.\u001b[39;00m\n\u001b[0;32m   1128\u001b[0m \u001b[38;5;28;01mif\u001b[39;00m \u001b[38;5;129;01mnot\u001b[39;00m (\u001b[38;5;28mself\u001b[39m\u001b[38;5;241m.\u001b[39m_backward_hooks \u001b[38;5;129;01mor\u001b[39;00m \u001b[38;5;28mself\u001b[39m\u001b[38;5;241m.\u001b[39m_forward_hooks \u001b[38;5;129;01mor\u001b[39;00m \u001b[38;5;28mself\u001b[39m\u001b[38;5;241m.\u001b[39m_forward_pre_hooks \u001b[38;5;129;01mor\u001b[39;00m _global_backward_hooks\n\u001b[0;32m   1129\u001b[0m         \u001b[38;5;129;01mor\u001b[39;00m _global_forward_hooks \u001b[38;5;129;01mor\u001b[39;00m _global_forward_pre_hooks):\n\u001b[1;32m-> 1130\u001b[0m     \u001b[38;5;28;01mreturn\u001b[39;00m forward_call(\u001b[38;5;241m*\u001b[39m\u001b[38;5;28minput\u001b[39m, \u001b[38;5;241m*\u001b[39m\u001b[38;5;241m*\u001b[39mkwargs)\n\u001b[0;32m   1131\u001b[0m \u001b[38;5;66;03m# Do not call functions when jit is used\u001b[39;00m\n\u001b[0;32m   1132\u001b[0m full_backward_hooks, non_full_backward_hooks \u001b[38;5;241m=\u001b[39m [], []\n",
      "File \u001b[1;32m~\\OneDrive\\Cours\\Semestre 11\\DDPM\\RePaint\\guided_diffusion\\unet_id.py:540\u001b[0m, in \u001b[0;36mSuperResModelID.forward\u001b[1;34m(self, x, timesteps, low_res, **kwargs)\u001b[0m\n\u001b[0;32m    538\u001b[0m upsampled \u001b[38;5;241m=\u001b[39m F\u001b[38;5;241m.\u001b[39minterpolate(low_res, (new_height, new_width), mode\u001b[38;5;241m=\u001b[39m\u001b[38;5;124m\"\u001b[39m\u001b[38;5;124mbilinear\u001b[39m\u001b[38;5;124m\"\u001b[39m)\n\u001b[0;32m    539\u001b[0m x \u001b[38;5;241m=\u001b[39m th\u001b[38;5;241m.\u001b[39mcat([x, upsampled], dim\u001b[38;5;241m=\u001b[39m\u001b[38;5;241m1\u001b[39m)\n\u001b[1;32m--> 540\u001b[0m \u001b[38;5;28;01mreturn\u001b[39;00m \u001b[38;5;28msuper\u001b[39m()\u001b[38;5;241m.\u001b[39mforward(x, timesteps, \u001b[38;5;241m*\u001b[39m\u001b[38;5;241m*\u001b[39mkwargs)\n",
      "File \u001b[1;32m~\\OneDrive\\Cours\\Semestre 11\\DDPM\\RePaint\\guided_diffusion\\unet_id.py:476\u001b[0m, in \u001b[0;36mUNetModelID.forward\u001b[1;34m(self, x, timesteps, y, gt)\u001b[0m\n\u001b[0;32m    471\u001b[0m \u001b[38;5;28;01massert\u001b[39;00m (y \u001b[38;5;129;01mis\u001b[39;00m \u001b[38;5;129;01mnot\u001b[39;00m \u001b[38;5;28;01mNone\u001b[39;00m) \u001b[38;5;241m==\u001b[39m (\n\u001b[0;32m    472\u001b[0m     \u001b[38;5;28mself\u001b[39m\u001b[38;5;241m.\u001b[39mnum_classes \u001b[38;5;129;01mis\u001b[39;00m \u001b[38;5;129;01mnot\u001b[39;00m \u001b[38;5;28;01mNone\u001b[39;00m\n\u001b[0;32m    473\u001b[0m ), \u001b[38;5;124m\"\u001b[39m\u001b[38;5;124mmust specify y if and only if the model is class-conditional\u001b[39m\u001b[38;5;124m\"\u001b[39m\n\u001b[0;32m    475\u001b[0m hs \u001b[38;5;241m=\u001b[39m []\n\u001b[1;32m--> 476\u001b[0m emb \u001b[38;5;241m=\u001b[39m \u001b[38;5;28mself\u001b[39m\u001b[38;5;241m.\u001b[39mtime_embed(\u001b[43mtimestep_embedding\u001b[49m\u001b[43m(\u001b[49m\u001b[43mtimesteps\u001b[49m\u001b[43m,\u001b[49m\u001b[43m \u001b[49m\u001b[38;5;28;43mself\u001b[39;49m\u001b[38;5;241;43m.\u001b[39;49m\u001b[43mmodel_channels\u001b[49m\u001b[43m)\u001b[49m)\n\u001b[0;32m    478\u001b[0m \u001b[38;5;28;01mif\u001b[39;00m \u001b[38;5;28mself\u001b[39m\u001b[38;5;241m.\u001b[39mnum_classes \u001b[38;5;129;01mis\u001b[39;00m \u001b[38;5;129;01mnot\u001b[39;00m \u001b[38;5;28;01mNone\u001b[39;00m:\n\u001b[0;32m    479\u001b[0m     \u001b[38;5;28;01massert\u001b[39;00m y\u001b[38;5;241m.\u001b[39mshape \u001b[38;5;241m==\u001b[39m (x\u001b[38;5;241m.\u001b[39mshape[\u001b[38;5;241m0\u001b[39m],)\n",
      "File \u001b[1;32m~\\OneDrive\\Cours\\Semestre 11\\DDPM\\RePaint\\guided_diffusion\\nn.py:132\u001b[0m, in \u001b[0;36mtimestep_embedding\u001b[1;34m(timesteps, dim, max_period)\u001b[0m\n\u001b[0;32m    120\u001b[0m \u001b[38;5;124;03m\"\"\"\u001b[39;00m\n\u001b[0;32m    121\u001b[0m \u001b[38;5;124;03mCreate sinusoidal timestep embeddings.\u001b[39;00m\n\u001b[0;32m    122\u001b[0m \n\u001b[1;32m   (...)\u001b[0m\n\u001b[0;32m    127\u001b[0m \u001b[38;5;124;03m:return: an [N x dim] Tensor of positional embeddings.\u001b[39;00m\n\u001b[0;32m    128\u001b[0m \u001b[38;5;124;03m\"\"\"\u001b[39;00m\n\u001b[0;32m    129\u001b[0m half \u001b[38;5;241m=\u001b[39m dim \u001b[38;5;241m/\u001b[39m\u001b[38;5;241m/\u001b[39m \u001b[38;5;241m2\u001b[39m\n\u001b[0;32m    130\u001b[0m freqs \u001b[38;5;241m=\u001b[39m th\u001b[38;5;241m.\u001b[39mexp(\n\u001b[0;32m    131\u001b[0m     \u001b[38;5;241m-\u001b[39mmath\u001b[38;5;241m.\u001b[39mlog(max_period) \u001b[38;5;241m*\u001b[39m th\u001b[38;5;241m.\u001b[39marange(start\u001b[38;5;241m=\u001b[39m\u001b[38;5;241m0\u001b[39m, end\u001b[38;5;241m=\u001b[39mhalf, dtype\u001b[38;5;241m=\u001b[39mth\u001b[38;5;241m.\u001b[39mfloat32) \u001b[38;5;241m/\u001b[39m half\n\u001b[1;32m--> 132\u001b[0m )\u001b[38;5;241m.\u001b[39mto(device\u001b[38;5;241m=\u001b[39m\u001b[43mtimesteps\u001b[49m\u001b[38;5;241;43m.\u001b[39;49m\u001b[43mdevice\u001b[49m)\n\u001b[0;32m    133\u001b[0m args \u001b[38;5;241m=\u001b[39m timesteps[:, \u001b[38;5;28;01mNone\u001b[39;00m]\u001b[38;5;241m.\u001b[39mfloat() \u001b[38;5;241m*\u001b[39m freqs[\u001b[38;5;28;01mNone\u001b[39;00m]\n\u001b[0;32m    134\u001b[0m embedding \u001b[38;5;241m=\u001b[39m th\u001b[38;5;241m.\u001b[39mcat([th\u001b[38;5;241m.\u001b[39mcos(args), th\u001b[38;5;241m.\u001b[39msin(args)], dim\u001b[38;5;241m=\u001b[39m\u001b[38;5;241m-\u001b[39m\u001b[38;5;241m1\u001b[39m)\n",
      "\u001b[1;31mAttributeError\u001b[0m: 'int' object has no attribute 'device'"
     ]
    }
   ],
   "source": [
    "noise = torch.randn(1,3,256,256)\n",
    "low_res = torch.randn(1,3,64,64)\n",
    "model_us(noise,torch.tensor100,low_res)"
   ]
  },
  {
   "cell_type": "code",
   "execution_count": 34,
   "id": "61e6f0b8-94ba-4429-bdb1-0980dccf4517",
   "metadata": {},
   "outputs": [
    {
     "data": {
      "text/plain": [
       "<function Tensor.dim>"
      ]
     },
     "execution_count": 34,
     "metadata": {},
     "output_type": "execute_result"
    }
   ],
   "source": [
    "torch.tensor([4]).dim"
   ]
  },
  {
   "cell_type": "code",
   "execution_count": 26,
   "id": "ade6232b-4344-45bb-bfb3-084e3e73f3fe",
   "metadata": {},
   "outputs": [],
   "source": [
    "diffusion_us.p_sample_loop(model_us,(n_samples, 3, 64, 64),return_all=True,conf=conf_us)"
   ]
  },
  {
   "cell_type": "code",
   "execution_count": 5,
   "id": "433aa9c3-cba6-4601-af82-3c84ba123ef5",
   "metadata": {},
   "outputs": [
    {
     "name": "stdout",
     "output_type": "stream",
     "text": [
      "sampling complete\n"
     ]
    }
   ],
   "source": [
    "#with REPAINT\n",
    "if conf.classifier_scale is not None:\n",
    "    if conf.classifier_scale > 0 and conf.classifier_path:\n",
    "        print(\"loading classifier...\")\n",
    "        classifier = create_classifier(\n",
    "            **select_args(conf, classifier_defaults().keys()))\n",
    "        classifier.load_state_dict(\n",
    "            dist_util.load_state_dict(os.path.expanduser(\n",
    "                conf.classifier_path), map_location=\"cpu\")\n",
    "        )\n",
    "\n",
    "        classifier.to(device)\n",
    "        if conf.classifier_use_fp16:\n",
    "            classifier.convert_to_fp16()\n",
    "        classifier.eval()\n",
    "\n",
    "        def cond_fn(x, t, y=None, gt=None, **kwargs):\n",
    "            assert y is not None\n",
    "            with th.enable_grad():\n",
    "                x_in = x.detach().requires_grad_(True)\n",
    "                logits = classifier(x_in, t)\n",
    "                log_probs = F.log_softmax(logits, dim=-1)\n",
    "                selected = log_probs[range(len(logits)), y.view(-1)]\n",
    "                return th.autograd.grad(selected.sum(), x_in)[0] * conf.classifier_scale\n",
    "else:\n",
    "    cond_fn = None\n",
    "\n",
    "def model_fn(x, t, y=None, gt=None, **kwargs):\n",
    "    assert y is not None\n",
    "    return model(x, t, y if conf.class_cond else None, gt=gt)\n",
    "\n",
    "\n",
    "print(\"sampling complete\")"
   ]
  },
  {
   "cell_type": "code",
   "execution_count": 11,
   "id": "415b1327-246f-4c66-be2b-d9b3f6182e19",
   "metadata": {},
   "outputs": [
    {
     "data": {
      "text/plain": [
       "<torch.utils.data.dataloader.DataLoader at 0x1e499447d30>"
      ]
     },
     "execution_count": 11,
     "metadata": {},
     "output_type": "execute_result"
    }
   ],
   "source": [
    "dl"
   ]
  },
  {
   "cell_type": "code",
   "execution_count": 6,
   "id": "c5ed8b16-78ca-4309-87ac-3ce342a5b210",
   "metadata": {},
   "outputs": [
    {
     "name": "stdout",
     "output_type": "stream",
     "text": [
      "sampling...\n"
     ]
    },
    {
     "name": "stderr",
     "output_type": "stream",
     "text": [
      "  0%|                                                                                            | 0/8 [00:00<?, ?it/s]"
     ]
    },
    {
     "data": {
      "application/vnd.jupyter.widget-view+json": {
       "model_id": "cda4eff8243042c6aaf63795500347c5",
       "version_major": 2,
       "version_minor": 0
      },
      "text/plain": [
       "  0%|          | 0/4570 [00:00<?, ?it/s]"
      ]
     },
     "metadata": {},
     "output_type": "display_data"
    },
    {
     "name": "stderr",
     "output_type": "stream",
     "text": [
      " 12%|██████████▍                                                                        | 1/8 [06:19<44:15, 379.32s/it]"
     ]
    },
    {
     "data": {
      "application/vnd.jupyter.widget-view+json": {
       "model_id": "996c6cd08d424fd0b10254b31a6b4c27",
       "version_major": 2,
       "version_minor": 0
      },
      "text/plain": [
       "  0%|          | 0/4570 [00:00<?, ?it/s]"
      ]
     },
     "metadata": {},
     "output_type": "display_data"
    },
    {
     "name": "stderr",
     "output_type": "stream",
     "text": [
      " 12%|██████████▍                                                                        | 1/8 [07:35<53:06, 455.29s/it]\n"
     ]
    },
    {
     "ename": "KeyboardInterrupt",
     "evalue": "",
     "output_type": "error",
     "traceback": [
      "\u001b[1;31m---------------------------------------------------------------------------\u001b[0m",
      "\u001b[1;31mKeyboardInterrupt\u001b[0m                         Traceback (most recent call last)",
      "Cell \u001b[1;32mIn [6], line 40\u001b[0m\n\u001b[0;32m     33\u001b[0m     model_kwargs[\u001b[38;5;124m\"\u001b[39m\u001b[38;5;124my\u001b[39m\u001b[38;5;124m\"\u001b[39m] \u001b[38;5;241m=\u001b[39m classes\n\u001b[0;32m     35\u001b[0m sample_fn \u001b[38;5;241m=\u001b[39m (\n\u001b[0;32m     36\u001b[0m     diffusion\u001b[38;5;241m.\u001b[39mp_sample_loop \u001b[38;5;28;01mif\u001b[39;00m \u001b[38;5;129;01mnot\u001b[39;00m conf\u001b[38;5;241m.\u001b[39muse_ddim \u001b[38;5;28;01melse\u001b[39;00m diffusion\u001b[38;5;241m.\u001b[39mddim_sample_loop\n\u001b[0;32m     37\u001b[0m )\n\u001b[1;32m---> 40\u001b[0m result \u001b[38;5;241m=\u001b[39m \u001b[43msample_fn\u001b[49m\u001b[43m(\u001b[49m\n\u001b[0;32m     41\u001b[0m \u001b[43m    \u001b[49m\u001b[43mmodel_fn\u001b[49m\u001b[43m,\u001b[49m\n\u001b[0;32m     42\u001b[0m \u001b[43m    \u001b[49m\u001b[43m(\u001b[49m\u001b[43mbatch_size\u001b[49m\u001b[43m,\u001b[49m\u001b[43m \u001b[49m\u001b[38;5;241;43m3\u001b[39;49m\u001b[43m,\u001b[49m\u001b[43m \u001b[49m\u001b[43mconf\u001b[49m\u001b[38;5;241;43m.\u001b[39;49m\u001b[43mimage_size\u001b[49m\u001b[43m,\u001b[49m\u001b[43m \u001b[49m\u001b[43mconf\u001b[49m\u001b[38;5;241;43m.\u001b[39;49m\u001b[43mimage_size\u001b[49m\u001b[43m)\u001b[49m\u001b[43m,\u001b[49m\n\u001b[0;32m     43\u001b[0m \u001b[43m    \u001b[49m\u001b[43mclip_denoised\u001b[49m\u001b[38;5;241;43m=\u001b[39;49m\u001b[43mconf\u001b[49m\u001b[38;5;241;43m.\u001b[39;49m\u001b[43mclip_denoised\u001b[49m\u001b[43m,\u001b[49m\n\u001b[0;32m     44\u001b[0m \u001b[43m    \u001b[49m\u001b[43mmodel_kwargs\u001b[49m\u001b[38;5;241;43m=\u001b[39;49m\u001b[43mmodel_kwargs\u001b[49m\u001b[43m,\u001b[49m\n\u001b[0;32m     45\u001b[0m \u001b[43m    \u001b[49m\u001b[43mcond_fn\u001b[49m\u001b[38;5;241;43m=\u001b[39;49m\u001b[43mcond_fn\u001b[49m\u001b[43m,\u001b[49m\n\u001b[0;32m     46\u001b[0m \u001b[43m    \u001b[49m\u001b[43mdevice\u001b[49m\u001b[38;5;241;43m=\u001b[39;49m\u001b[43mdevice\u001b[49m\u001b[43m,\u001b[49m\n\u001b[0;32m     47\u001b[0m \u001b[43m    \u001b[49m\u001b[43mprogress\u001b[49m\u001b[38;5;241;43m=\u001b[39;49m\u001b[43mshow_progress\u001b[49m\u001b[43m,\u001b[49m\n\u001b[0;32m     48\u001b[0m \u001b[43m    \u001b[49m\u001b[43mreturn_all\u001b[49m\u001b[38;5;241;43m=\u001b[39;49m\u001b[38;5;28;43;01mTrue\u001b[39;49;00m\u001b[43m,\u001b[49m\n\u001b[0;32m     49\u001b[0m \u001b[43m    \u001b[49m\u001b[43mconf\u001b[49m\u001b[38;5;241;43m=\u001b[39;49m\u001b[43mconf\u001b[49m\n\u001b[0;32m     50\u001b[0m \u001b[43m\u001b[49m\u001b[43m)\u001b[49m\n\u001b[0;32m     52\u001b[0m \u001b[38;5;28;01mif\u001b[39;00m conf\u001b[38;5;241m.\u001b[39mname\u001b[38;5;241m==\u001b[39m\u001b[38;5;124m'\u001b[39m\u001b[38;5;124mmy_conf\u001b[39m\u001b[38;5;124m'\u001b[39m:\n\u001b[0;32m     53\u001b[0m     result \u001b[38;5;241m=\u001b[39m result[\u001b[38;5;241m1\u001b[39m] \u001b[38;5;66;03m#0 is all tuples to generate gifs\u001b[39;00m\n",
      "File \u001b[1;32m~\\OneDrive\\Cours\\Semestre 11\\DDPM\\RePaint\\guided_diffusion\\gaussian_diffusion.py:471\u001b[0m, in \u001b[0;36mGaussianDiffusion.p_sample_loop\u001b[1;34m(self, model, shape, noise, clip_denoised, denoised_fn, cond_fn, model_kwargs, device, progress, return_all, conf)\u001b[0m\n\u001b[0;32m    469\u001b[0m \u001b[38;5;28;01mif\u001b[39;00m conf\u001b[38;5;241m.\u001b[39mintermediate_steps:\n\u001b[0;32m    470\u001b[0m     img_list \u001b[38;5;241m=\u001b[39m []\n\u001b[1;32m--> 471\u001b[0m \u001b[38;5;28;01mfor\u001b[39;00m sample \u001b[38;5;129;01min\u001b[39;00m \u001b[38;5;28mself\u001b[39m\u001b[38;5;241m.\u001b[39mp_sample_loop_progressive(\n\u001b[0;32m    472\u001b[0m     model,\n\u001b[0;32m    473\u001b[0m     shape,\n\u001b[0;32m    474\u001b[0m     noise\u001b[38;5;241m=\u001b[39mnoise,\n\u001b[0;32m    475\u001b[0m     clip_denoised\u001b[38;5;241m=\u001b[39mclip_denoised,\n\u001b[0;32m    476\u001b[0m     denoised_fn\u001b[38;5;241m=\u001b[39mdenoised_fn,\n\u001b[0;32m    477\u001b[0m     cond_fn\u001b[38;5;241m=\u001b[39mcond_fn,\n\u001b[0;32m    478\u001b[0m     model_kwargs\u001b[38;5;241m=\u001b[39mmodel_kwargs,\n\u001b[0;32m    479\u001b[0m     device\u001b[38;5;241m=\u001b[39mdevice,\n\u001b[0;32m    480\u001b[0m     progress\u001b[38;5;241m=\u001b[39mprogress,\n\u001b[0;32m    481\u001b[0m     conf\u001b[38;5;241m=\u001b[39mconf\n\u001b[0;32m    482\u001b[0m ):\n\u001b[0;32m    483\u001b[0m     final \u001b[38;5;241m=\u001b[39m sample\n\u001b[0;32m    484\u001b[0m     img_list\u001b[38;5;241m.\u001b[39mappend(final[\u001b[38;5;124m\"\u001b[39m\u001b[38;5;124msample\u001b[39m\u001b[38;5;124m\"\u001b[39m])\n",
      "File \u001b[1;32m~\\OneDrive\\Cours\\Semestre 11\\DDPM\\RePaint\\guided_diffusion\\gaussian_diffusion.py:550\u001b[0m, in \u001b[0;36mGaussianDiffusion.p_sample_loop_progressive\u001b[1;34m(self, model, shape, noise, clip_denoised, denoised_fn, cond_fn, model_kwargs, device, progress, conf)\u001b[0m\n\u001b[0;32m    548\u001b[0m \u001b[38;5;28;01mwith\u001b[39;00m th\u001b[38;5;241m.\u001b[39mno_grad():\n\u001b[0;32m    549\u001b[0m     image_before_step \u001b[38;5;241m=\u001b[39m image_after_step\u001b[38;5;241m.\u001b[39mclone()\n\u001b[1;32m--> 550\u001b[0m     out \u001b[38;5;241m=\u001b[39m \u001b[38;5;28;43mself\u001b[39;49m\u001b[38;5;241;43m.\u001b[39;49m\u001b[43mp_sample\u001b[49m\u001b[43m(\u001b[49m\n\u001b[0;32m    551\u001b[0m \u001b[43m        \u001b[49m\u001b[43mmodel\u001b[49m\u001b[43m,\u001b[49m\n\u001b[0;32m    552\u001b[0m \u001b[43m        \u001b[49m\u001b[43mimage_after_step\u001b[49m\u001b[43m,\u001b[49m\n\u001b[0;32m    553\u001b[0m \u001b[43m        \u001b[49m\u001b[43mt_last_t\u001b[49m\u001b[43m,\u001b[49m\n\u001b[0;32m    554\u001b[0m \u001b[43m        \u001b[49m\u001b[43mclip_denoised\u001b[49m\u001b[38;5;241;43m=\u001b[39;49m\u001b[43mclip_denoised\u001b[49m\u001b[43m,\u001b[49m\n\u001b[0;32m    555\u001b[0m \u001b[43m        \u001b[49m\u001b[43mdenoised_fn\u001b[49m\u001b[38;5;241;43m=\u001b[39;49m\u001b[43mdenoised_fn\u001b[49m\u001b[43m,\u001b[49m\n\u001b[0;32m    556\u001b[0m \u001b[43m        \u001b[49m\u001b[43mcond_fn\u001b[49m\u001b[38;5;241;43m=\u001b[39;49m\u001b[43mcond_fn\u001b[49m\u001b[43m,\u001b[49m\n\u001b[0;32m    557\u001b[0m \u001b[43m        \u001b[49m\u001b[43mmodel_kwargs\u001b[49m\u001b[38;5;241;43m=\u001b[39;49m\u001b[43mmodel_kwargs\u001b[49m\u001b[43m,\u001b[49m\n\u001b[0;32m    558\u001b[0m \u001b[43m        \u001b[49m\u001b[43mconf\u001b[49m\u001b[38;5;241;43m=\u001b[39;49m\u001b[43mconf\u001b[49m\u001b[43m,\u001b[49m\n\u001b[0;32m    559\u001b[0m \u001b[43m        \u001b[49m\u001b[43mpred_xstart\u001b[49m\u001b[38;5;241;43m=\u001b[39;49m\u001b[43mpred_xstart\u001b[49m\n\u001b[0;32m    560\u001b[0m \u001b[43m    \u001b[49m\u001b[43m)\u001b[49m\n\u001b[0;32m    561\u001b[0m     image_after_step \u001b[38;5;241m=\u001b[39m out[\u001b[38;5;124m\"\u001b[39m\u001b[38;5;124msample\u001b[39m\u001b[38;5;124m\"\u001b[39m]\n\u001b[0;32m    562\u001b[0m     pred_xstart \u001b[38;5;241m=\u001b[39m out[\u001b[38;5;124m\"\u001b[39m\u001b[38;5;124mpred_xstart\u001b[39m\u001b[38;5;124m\"\u001b[39m]\n",
      "File \u001b[1;32m~\\OneDrive\\Cours\\Semestre 11\\DDPM\\RePaint\\guided_diffusion\\gaussian_diffusion.py:409\u001b[0m, in \u001b[0;36mGaussianDiffusion.p_sample\u001b[1;34m(self, model, x, t, clip_denoised, denoised_fn, cond_fn, model_kwargs, conf, meas_fn, pred_xstart, idx_wall)\u001b[0m\n\u001b[0;32m    396\u001b[0m             weighed_gt \u001b[38;5;241m=\u001b[39m gt_part \u001b[38;5;241m+\u001b[39m noise_part\n\u001b[0;32m    398\u001b[0m         x \u001b[38;5;241m=\u001b[39m (\n\u001b[0;32m    399\u001b[0m             gt_keep_mask \u001b[38;5;241m*\u001b[39m (\n\u001b[0;32m    400\u001b[0m                 weighed_gt\n\u001b[1;32m   (...)\u001b[0m\n\u001b[0;32m    405\u001b[0m             )\n\u001b[0;32m    406\u001b[0m         )\n\u001b[1;32m--> 409\u001b[0m out \u001b[38;5;241m=\u001b[39m \u001b[38;5;28;43mself\u001b[39;49m\u001b[38;5;241;43m.\u001b[39;49m\u001b[43mp_mean_variance\u001b[49m\u001b[43m(\u001b[49m\n\u001b[0;32m    410\u001b[0m \u001b[43m    \u001b[49m\u001b[43mmodel\u001b[49m\u001b[43m,\u001b[49m\n\u001b[0;32m    411\u001b[0m \u001b[43m    \u001b[49m\u001b[43mx\u001b[49m\u001b[43m,\u001b[49m\n\u001b[0;32m    412\u001b[0m \u001b[43m    \u001b[49m\u001b[43mt\u001b[49m\u001b[43m,\u001b[49m\n\u001b[0;32m    413\u001b[0m \u001b[43m    \u001b[49m\u001b[43mclip_denoised\u001b[49m\u001b[38;5;241;43m=\u001b[39;49m\u001b[43mclip_denoised\u001b[49m\u001b[43m,\u001b[49m\n\u001b[0;32m    414\u001b[0m \u001b[43m    \u001b[49m\u001b[43mdenoised_fn\u001b[49m\u001b[38;5;241;43m=\u001b[39;49m\u001b[43mdenoised_fn\u001b[49m\u001b[43m,\u001b[49m\n\u001b[0;32m    415\u001b[0m \u001b[43m    \u001b[49m\u001b[43mmodel_kwargs\u001b[49m\u001b[38;5;241;43m=\u001b[39;49m\u001b[43mmodel_kwargs\u001b[49m\u001b[43m,\u001b[49m\n\u001b[0;32m    416\u001b[0m \u001b[43m\u001b[49m\u001b[43m)\u001b[49m\n\u001b[0;32m    418\u001b[0m nonzero_mask \u001b[38;5;241m=\u001b[39m (\n\u001b[0;32m    419\u001b[0m     (t \u001b[38;5;241m!=\u001b[39m \u001b[38;5;241m0\u001b[39m)\u001b[38;5;241m.\u001b[39mfloat()\u001b[38;5;241m.\u001b[39mview(\u001b[38;5;241m-\u001b[39m\u001b[38;5;241m1\u001b[39m, \u001b[38;5;241m*\u001b[39m([\u001b[38;5;241m1\u001b[39m] \u001b[38;5;241m*\u001b[39m (\u001b[38;5;28mlen\u001b[39m(x\u001b[38;5;241m.\u001b[39mshape) \u001b[38;5;241m-\u001b[39m \u001b[38;5;241m1\u001b[39m)))\n\u001b[0;32m    420\u001b[0m ) \n\u001b[0;32m    422\u001b[0m \u001b[38;5;28;01mif\u001b[39;00m cond_fn \u001b[38;5;129;01mis\u001b[39;00m \u001b[38;5;129;01mnot\u001b[39;00m \u001b[38;5;28;01mNone\u001b[39;00m:\n",
      "File \u001b[1;32m~\\OneDrive\\Cours\\Semestre 11\\DDPM\\RePaint\\guided_diffusion\\respace.py:124\u001b[0m, in \u001b[0;36mSpacedDiffusion.p_mean_variance\u001b[1;34m(self, model, *args, **kwargs)\u001b[0m\n\u001b[0;32m    121\u001b[0m \u001b[38;5;28;01mdef\u001b[39;00m \u001b[38;5;21mp_mean_variance\u001b[39m(\n\u001b[0;32m    122\u001b[0m     \u001b[38;5;28mself\u001b[39m, model, \u001b[38;5;241m*\u001b[39margs, \u001b[38;5;241m*\u001b[39m\u001b[38;5;241m*\u001b[39mkwargs\n\u001b[0;32m    123\u001b[0m ):  \u001b[38;5;66;03m# pylint: disable=signature-differs\u001b[39;00m\n\u001b[1;32m--> 124\u001b[0m     \u001b[38;5;28;01mreturn\u001b[39;00m \u001b[38;5;28msuper\u001b[39m()\u001b[38;5;241m.\u001b[39mp_mean_variance(\u001b[38;5;28mself\u001b[39m\u001b[38;5;241m.\u001b[39m_wrap_model(model), \u001b[38;5;241m*\u001b[39margs, \u001b[38;5;241m*\u001b[39m\u001b[38;5;241m*\u001b[39mkwargs)\n",
      "File \u001b[1;32m~\\OneDrive\\Cours\\Semestre 11\\DDPM\\RePaint\\guided_diffusion\\gaussian_diffusion.py:271\u001b[0m, in \u001b[0;36mGaussianDiffusion.p_mean_variance\u001b[1;34m(self, model, x, t, clip_denoised, denoised_fn, model_kwargs)\u001b[0m\n\u001b[0;32m    269\u001b[0m     model_variance \u001b[38;5;241m=\u001b[39m th\u001b[38;5;241m.\u001b[39mexp(model_log_variance)\n\u001b[0;32m    270\u001b[0m \u001b[38;5;28;01melse\u001b[39;00m:\n\u001b[1;32m--> 271\u001b[0m     min_log \u001b[38;5;241m=\u001b[39m \u001b[43m_extract_into_tensor\u001b[49m\u001b[43m(\u001b[49m\n\u001b[0;32m    272\u001b[0m \u001b[43m        \u001b[49m\u001b[38;5;28;43mself\u001b[39;49m\u001b[38;5;241;43m.\u001b[39;49m\u001b[43mposterior_log_variance_clipped\u001b[49m\u001b[43m,\u001b[49m\u001b[43m \u001b[49m\u001b[43mt\u001b[49m\u001b[43m,\u001b[49m\u001b[43m \u001b[49m\u001b[43mx\u001b[49m\u001b[38;5;241;43m.\u001b[39;49m\u001b[43mshape\u001b[49m\n\u001b[0;32m    273\u001b[0m \u001b[43m    \u001b[49m\u001b[43m)\u001b[49m\n\u001b[0;32m    274\u001b[0m     max_log \u001b[38;5;241m=\u001b[39m _extract_into_tensor(np\u001b[38;5;241m.\u001b[39mlog(\u001b[38;5;28mself\u001b[39m\u001b[38;5;241m.\u001b[39mbetas), t, x\u001b[38;5;241m.\u001b[39mshape)\n\u001b[0;32m    275\u001b[0m     frac \u001b[38;5;241m=\u001b[39m (model_var_values \u001b[38;5;241m+\u001b[39m \u001b[38;5;241m1\u001b[39m) \u001b[38;5;241m/\u001b[39m \u001b[38;5;241m2\u001b[39m\n",
      "File \u001b[1;32m~\\OneDrive\\Cours\\Semestre 11\\DDPM\\RePaint\\guided_diffusion\\gaussian_diffusion.py:610\u001b[0m, in \u001b[0;36m_extract_into_tensor\u001b[1;34m(arr, timesteps, broadcast_shape)\u001b[0m\n\u001b[0;32m    600\u001b[0m \u001b[38;5;28;01mdef\u001b[39;00m \u001b[38;5;21m_extract_into_tensor\u001b[39m(arr, timesteps, broadcast_shape):\n\u001b[0;32m    601\u001b[0m     \u001b[38;5;124;03m\"\"\"\u001b[39;00m\n\u001b[0;32m    602\u001b[0m \u001b[38;5;124;03m    Extract values from a 1-D numpy array for a batch of indices.\u001b[39;00m\n\u001b[0;32m    603\u001b[0m \n\u001b[1;32m   (...)\u001b[0m\n\u001b[0;32m    608\u001b[0m \u001b[38;5;124;03m    :return: a tensor of shape [batch_size, 1, ...] where the shape has K dims.\u001b[39;00m\n\u001b[0;32m    609\u001b[0m \u001b[38;5;124;03m    \"\"\"\u001b[39;00m\n\u001b[1;32m--> 610\u001b[0m     res \u001b[38;5;241m=\u001b[39m \u001b[43mth\u001b[49m\u001b[38;5;241;43m.\u001b[39;49m\u001b[43mfrom_numpy\u001b[49m\u001b[43m(\u001b[49m\u001b[43marr\u001b[49m\u001b[43m)\u001b[49m\u001b[38;5;241;43m.\u001b[39;49m\u001b[43mto\u001b[49m\u001b[43m(\u001b[49m\u001b[43mdevice\u001b[49m\u001b[38;5;241;43m=\u001b[39;49m\u001b[43mtimesteps\u001b[49m\u001b[38;5;241;43m.\u001b[39;49m\u001b[43mdevice\u001b[49m\u001b[43m)\u001b[49m[timesteps]\u001b[38;5;241m.\u001b[39mfloat()\n\u001b[0;32m    611\u001b[0m     \u001b[38;5;28;01mwhile\u001b[39;00m \u001b[38;5;28mlen\u001b[39m(res\u001b[38;5;241m.\u001b[39mshape) \u001b[38;5;241m<\u001b[39m \u001b[38;5;28mlen\u001b[39m(broadcast_shape):\n\u001b[0;32m    612\u001b[0m         res \u001b[38;5;241m=\u001b[39m res[\u001b[38;5;241m.\u001b[39m\u001b[38;5;241m.\u001b[39m\u001b[38;5;241m.\u001b[39m, \u001b[38;5;28;01mNone\u001b[39;00m]\n",
      "\u001b[1;31mKeyboardInterrupt\u001b[0m: "
     ]
    }
   ],
   "source": [
    "\n",
    "print(\"sampling...\")\n",
    "all_images = []\n",
    "\n",
    "dset = 'eval'\n",
    "\n",
    "eval_name = conf.get_default_eval_name()\n",
    "\n",
    "dl = conf.get_dataloader(dset=dset, dsName=eval_name)\n",
    "\n",
    "for batch in tqdm(iter(dl)):\n",
    "\n",
    "    for k in batch.keys():\n",
    "        if isinstance(batch[k], th.Tensor):\n",
    "            batch[k] = batch[k].to(device)\n",
    "\n",
    "    model_kwargs = {}\n",
    "\n",
    "    model_kwargs[\"gt\"] = batch['GT']\n",
    "\n",
    "    gt_keep_mask = batch.get('gt_keep_mask')\n",
    "    if gt_keep_mask is not None:\n",
    "        model_kwargs['gt_keep_mask'] = gt_keep_mask\n",
    "\n",
    "    batch_size = model_kwargs[\"gt\"].shape[0]\n",
    "\n",
    "    if conf.cond_y is not None:\n",
    "        classes = th.ones(batch_size, dtype=th.long, device=device)\n",
    "        model_kwargs[\"y\"] = classes * conf.cond_y\n",
    "    else:\n",
    "        classes = th.randint(\n",
    "            low=0, high=NUM_CLASSES, size=(batch_size,), device=device\n",
    "        )\n",
    "        model_kwargs[\"y\"] = classes\n",
    "\n",
    "    sample_fn = (\n",
    "        diffusion.p_sample_loop if not conf.use_ddim else diffusion.ddim_sample_loop\n",
    "    )\n",
    "\n",
    "    \n",
    "    result = sample_fn(\n",
    "        model_fn,\n",
    "        (batch_size, 3, conf.image_size, conf.image_size),\n",
    "        clip_denoised=conf.clip_denoised,\n",
    "        model_kwargs=model_kwargs,\n",
    "        cond_fn=cond_fn,\n",
    "        device=device,\n",
    "        progress=show_progress,\n",
    "        return_all=True,\n",
    "        conf=conf\n",
    "    )\n",
    "    \n",
    "    if conf.name=='my_conf':\n",
    "        result = result[1] #0 is all tuples to generate gifs\n",
    "    srs = toU8(result['sample'])\n",
    "    gts = toU8(result['gt'])\n",
    "    lrs = toU8(result.get('gt') * model_kwargs.get('gt_keep_mask') + (-1) *\n",
    "               th.ones_like(result.get('gt')) * (1 - model_kwargs.get('gt_keep_mask')))\n",
    "\n",
    "    gt_keep_masks = toU8((model_kwargs.get('gt_keep_mask') * 2 - 1))\n",
    "\n",
    "    conf.eval_imswrite(\n",
    "        srs=srs, gts=gts, lrs=lrs, gt_keep_masks=gt_keep_masks,\n",
    "        img_names=batch['GT_name'], dset=dset, name=eval_name, verify_same=False)"
   ]
  },
  {
   "cell_type": "code",
   "execution_count": 103,
   "id": "2a1cc908-00dd-46ff-9ebb-fa5d1886a7a7",
   "metadata": {},
   "outputs": [],
   "source": [
    "img = batch['GT'].to(device)\n",
    "mask = batch['gt_keep_mask'].to(device)\n",
    "\n",
    "#img = torch.stack([img,img])\n",
    "#mask = torch.stack([mask,mask])\n",
    "\n",
    "model_kswargs = {}\n",
    "model_kwargs[\"gt\"] = img\n",
    "model_kwargs['y'] = th.randint(\n",
    "        low=0, high=NUM_CLASSES, size=(batch_size,), device=device\n",
    "    )\n",
    "model_kwargs['gt_keep_mask'] = mask\n",
    "\n",
    "batch_size = model_kwargs['gt'].shape[0]\n",
    "\n",
    "sample_fn = (\n",
    "    diffusion.p_sample_loop if not conf.use_ddim else diffusion.ddim_sample_loop\n",
    ")"
   ]
  },
  {
   "cell_type": "code",
   "execution_count": null,
   "id": "e31724f0-cc1b-426c-8b24-3180574869dd",
   "metadata": {},
   "outputs": [],
   "source": [
    "model"
   ]
  },
  {
   "cell_type": "code",
   "execution_count": 104,
   "id": "eb7bfea8-16d9-43f4-b948-5d153ba8afd7",
   "metadata": {},
   "outputs": [
    {
     "data": {
      "application/vnd.jupyter.widget-view+json": {
       "model_id": "9244804115564b7d944cbcdeda9a85fd",
       "version_major": 2,
       "version_minor": 0
      },
      "text/plain": [
       "  0%|          | 0/4570 [00:00<?, ?it/s]"
      ]
     },
     "metadata": {},
     "output_type": "display_data"
    }
   ],
   "source": [
    "\n",
    "result = sample_fn(\n",
    "    model_fn,\n",
    "    (2, 3, conf.image_size, conf.image_size),\n",
    "    clip_denoised=conf.clip_denoised,\n",
    "    model_kwargs=model_kwargs,\n",
    "    cond_fn=cond_fn,\n",
    "    device=device,\n",
    "    progress=show_progress,\n",
    "    return_all=True,\n",
    "    conf=conf\n",
    ")\n"
   ]
  },
  {
   "cell_type": "code",
   "execution_count": 111,
   "id": "38d558fc-75d4-43bc-a020-853a4b77274e",
   "metadata": {},
   "outputs": [],
   "source": [
    "transform = T.ToPILImage()\n",
    "\n",
    "finals = result[1]\n",
    "f_samples = finals['sample']\n",
    "f_samples = ((f_samples + 1) * 127.5).clamp(0, 255).to(th.uint8)\n",
    "f_samples = f_samples.contiguous()\n",
    "i=0\n",
    "for sample in f_samples:\n",
    "    img = transform(sample)\n",
    "    img.save(\"images/sample_\"+str(i)+\".jpeg\")\n",
    "    i+=1"
   ]
  },
  {
   "cell_type": "code",
   "execution_count": 108,
   "id": "96e778aa-313e-46bc-993e-d8c029cc65d7",
   "metadata": {},
   "outputs": [
    {
     "data": {
      "text/plain": [
       "torch.Size([2, 3, 256, 256])"
      ]
     },
     "execution_count": 108,
     "metadata": {},
     "output_type": "execute_result"
    }
   ],
   "source": [
    "\n",
    "for sample in finals['sample']:"
   ]
  },
  {
   "cell_type": "code",
   "execution_count": null,
   "id": "0eaecb1f-108f-48a8-9607-1fdfb977f08f",
   "metadata": {},
   "outputs": [],
   "source": []
  },
  {
   "cell_type": "code",
   "execution_count": 17,
   "id": "67f61000-0cfa-4cbc-bd32-c86dc1745281",
   "metadata": {},
   "outputs": [
    {
     "data": {
      "application/vnd.jupyter.widget-view+json": {
       "model_id": "0c20f8f844bf4c14af6dfd7c4c50b017",
       "version_major": 2,
       "version_minor": 0
      },
      "text/plain": [
       "  0%|          | 0/4570 [00:00<?, ?it/s]"
      ]
     },
     "metadata": {},
     "output_type": "display_data"
    },
    {
     "ename": "KeyboardInterrupt",
     "evalue": "",
     "output_type": "error",
     "traceback": [
      "\u001b[1;31m---------------------------------------------------------------------------\u001b[0m",
      "\u001b[1;31mKeyboardInterrupt\u001b[0m                         Traceback (most recent call last)",
      "Cell \u001b[1;32mIn [17], line 29\u001b[0m\n\u001b[0;32m     22\u001b[0m     model_kwargs[\u001b[38;5;124m\"\u001b[39m\u001b[38;5;124my\u001b[39m\u001b[38;5;124m\"\u001b[39m] \u001b[38;5;241m=\u001b[39m classes\n\u001b[0;32m     24\u001b[0m sample_fn \u001b[38;5;241m=\u001b[39m (\n\u001b[0;32m     25\u001b[0m     diffusion\u001b[38;5;241m.\u001b[39mp_sample_loop \u001b[38;5;28;01mif\u001b[39;00m \u001b[38;5;129;01mnot\u001b[39;00m conf\u001b[38;5;241m.\u001b[39muse_ddim \u001b[38;5;28;01melse\u001b[39;00m diffusion\u001b[38;5;241m.\u001b[39mddim_sample_loop\n\u001b[0;32m     26\u001b[0m )\n\u001b[1;32m---> 29\u001b[0m result \u001b[38;5;241m=\u001b[39m \u001b[43msample_fn\u001b[49m\u001b[43m(\u001b[49m\n\u001b[0;32m     30\u001b[0m \u001b[43m    \u001b[49m\u001b[43mmodel_fn\u001b[49m\u001b[43m,\u001b[49m\n\u001b[0;32m     31\u001b[0m \u001b[43m    \u001b[49m\u001b[43m(\u001b[49m\u001b[43mbatch_size\u001b[49m\u001b[43m,\u001b[49m\u001b[43m \u001b[49m\u001b[38;5;241;43m3\u001b[39;49m\u001b[43m,\u001b[49m\u001b[43m \u001b[49m\u001b[43mconf\u001b[49m\u001b[38;5;241;43m.\u001b[39;49m\u001b[43mimage_size\u001b[49m\u001b[43m,\u001b[49m\u001b[43m \u001b[49m\u001b[43mconf\u001b[49m\u001b[38;5;241;43m.\u001b[39;49m\u001b[43mimage_size\u001b[49m\u001b[43m)\u001b[49m\u001b[43m,\u001b[49m\n\u001b[0;32m     32\u001b[0m \u001b[43m    \u001b[49m\u001b[43mclip_denoised\u001b[49m\u001b[38;5;241;43m=\u001b[39;49m\u001b[43mconf\u001b[49m\u001b[38;5;241;43m.\u001b[39;49m\u001b[43mclip_denoised\u001b[49m\u001b[43m,\u001b[49m\n\u001b[0;32m     33\u001b[0m \u001b[43m    \u001b[49m\u001b[43mmodel_kwargs\u001b[49m\u001b[38;5;241;43m=\u001b[39;49m\u001b[43mmodel_kwargs\u001b[49m\u001b[43m,\u001b[49m\n\u001b[0;32m     34\u001b[0m \u001b[43m    \u001b[49m\u001b[43mcond_fn\u001b[49m\u001b[38;5;241;43m=\u001b[39;49m\u001b[43mcond_fn\u001b[49m\u001b[43m,\u001b[49m\n\u001b[0;32m     35\u001b[0m \u001b[43m    \u001b[49m\u001b[43mdevice\u001b[49m\u001b[38;5;241;43m=\u001b[39;49m\u001b[43mdevice\u001b[49m\u001b[43m,\u001b[49m\n\u001b[0;32m     36\u001b[0m \u001b[43m    \u001b[49m\u001b[43mprogress\u001b[49m\u001b[38;5;241;43m=\u001b[39;49m\u001b[43mshow_progress\u001b[49m\u001b[43m,\u001b[49m\n\u001b[0;32m     37\u001b[0m \u001b[43m    \u001b[49m\u001b[43mreturn_all\u001b[49m\u001b[38;5;241;43m=\u001b[39;49m\u001b[38;5;28;43;01mTrue\u001b[39;49;00m\u001b[43m,\u001b[49m\n\u001b[0;32m     38\u001b[0m \u001b[43m    \u001b[49m\u001b[43mconf\u001b[49m\u001b[38;5;241;43m=\u001b[39;49m\u001b[43mconf\u001b[49m\n\u001b[0;32m     39\u001b[0m \u001b[43m)\u001b[49m\n\u001b[0;32m     41\u001b[0m \u001b[38;5;28;01mif\u001b[39;00m conf\u001b[38;5;241m.\u001b[39mname\u001b[38;5;241m==\u001b[39m\u001b[38;5;124m'\u001b[39m\u001b[38;5;124mmy_conf\u001b[39m\u001b[38;5;124m'\u001b[39m:\n\u001b[0;32m     42\u001b[0m     result \u001b[38;5;241m=\u001b[39m result[\u001b[38;5;241m1\u001b[39m] \u001b[38;5;66;03m#0 is all tuples to generate gifs\u001b[39;00m\n",
      "File \u001b[1;32m~\\OneDrive\\Cours\\Semestre 11\\DDPM\\RePaint\\guided_diffusion\\gaussian_diffusion.py:471\u001b[0m, in \u001b[0;36mGaussianDiffusion.p_sample_loop\u001b[1;34m(self, model, shape, noise, clip_denoised, denoised_fn, cond_fn, model_kwargs, device, progress, return_all, conf)\u001b[0m\n\u001b[0;32m    469\u001b[0m \u001b[38;5;28;01mif\u001b[39;00m conf\u001b[38;5;241m.\u001b[39mintermediate_steps:\n\u001b[0;32m    470\u001b[0m     img_list \u001b[38;5;241m=\u001b[39m []\n\u001b[1;32m--> 471\u001b[0m \u001b[38;5;28;01mfor\u001b[39;00m sample \u001b[38;5;129;01min\u001b[39;00m \u001b[38;5;28mself\u001b[39m\u001b[38;5;241m.\u001b[39mp_sample_loop_progressive(\n\u001b[0;32m    472\u001b[0m     model,\n\u001b[0;32m    473\u001b[0m     shape,\n\u001b[0;32m    474\u001b[0m     noise\u001b[38;5;241m=\u001b[39mnoise,\n\u001b[0;32m    475\u001b[0m     clip_denoised\u001b[38;5;241m=\u001b[39mclip_denoised,\n\u001b[0;32m    476\u001b[0m     denoised_fn\u001b[38;5;241m=\u001b[39mdenoised_fn,\n\u001b[0;32m    477\u001b[0m     cond_fn\u001b[38;5;241m=\u001b[39mcond_fn,\n\u001b[0;32m    478\u001b[0m     model_kwargs\u001b[38;5;241m=\u001b[39mmodel_kwargs,\n\u001b[0;32m    479\u001b[0m     device\u001b[38;5;241m=\u001b[39mdevice,\n\u001b[0;32m    480\u001b[0m     progress\u001b[38;5;241m=\u001b[39mprogress,\n\u001b[0;32m    481\u001b[0m     conf\u001b[38;5;241m=\u001b[39mconf\n\u001b[0;32m    482\u001b[0m ):\n\u001b[0;32m    483\u001b[0m     final \u001b[38;5;241m=\u001b[39m sample\n\u001b[0;32m    484\u001b[0m     img_list\u001b[38;5;241m.\u001b[39mappend(final[\u001b[38;5;124m\"\u001b[39m\u001b[38;5;124msample\u001b[39m\u001b[38;5;124m\"\u001b[39m])\n",
      "File \u001b[1;32m~\\OneDrive\\Cours\\Semestre 11\\DDPM\\RePaint\\guided_diffusion\\gaussian_diffusion.py:550\u001b[0m, in \u001b[0;36mGaussianDiffusion.p_sample_loop_progressive\u001b[1;34m(self, model, shape, noise, clip_denoised, denoised_fn, cond_fn, model_kwargs, device, progress, conf)\u001b[0m\n\u001b[0;32m    548\u001b[0m \u001b[38;5;28;01mwith\u001b[39;00m th\u001b[38;5;241m.\u001b[39mno_grad():\n\u001b[0;32m    549\u001b[0m     image_before_step \u001b[38;5;241m=\u001b[39m image_after_step\u001b[38;5;241m.\u001b[39mclone()\n\u001b[1;32m--> 550\u001b[0m     out \u001b[38;5;241m=\u001b[39m \u001b[38;5;28;43mself\u001b[39;49m\u001b[38;5;241;43m.\u001b[39;49m\u001b[43mp_sample\u001b[49m\u001b[43m(\u001b[49m\n\u001b[0;32m    551\u001b[0m \u001b[43m        \u001b[49m\u001b[43mmodel\u001b[49m\u001b[43m,\u001b[49m\n\u001b[0;32m    552\u001b[0m \u001b[43m        \u001b[49m\u001b[43mimage_after_step\u001b[49m\u001b[43m,\u001b[49m\n\u001b[0;32m    553\u001b[0m \u001b[43m        \u001b[49m\u001b[43mt_last_t\u001b[49m\u001b[43m,\u001b[49m\n\u001b[0;32m    554\u001b[0m \u001b[43m        \u001b[49m\u001b[43mclip_denoised\u001b[49m\u001b[38;5;241;43m=\u001b[39;49m\u001b[43mclip_denoised\u001b[49m\u001b[43m,\u001b[49m\n\u001b[0;32m    555\u001b[0m \u001b[43m        \u001b[49m\u001b[43mdenoised_fn\u001b[49m\u001b[38;5;241;43m=\u001b[39;49m\u001b[43mdenoised_fn\u001b[49m\u001b[43m,\u001b[49m\n\u001b[0;32m    556\u001b[0m \u001b[43m        \u001b[49m\u001b[43mcond_fn\u001b[49m\u001b[38;5;241;43m=\u001b[39;49m\u001b[43mcond_fn\u001b[49m\u001b[43m,\u001b[49m\n\u001b[0;32m    557\u001b[0m \u001b[43m        \u001b[49m\u001b[43mmodel_kwargs\u001b[49m\u001b[38;5;241;43m=\u001b[39;49m\u001b[43mmodel_kwargs\u001b[49m\u001b[43m,\u001b[49m\n\u001b[0;32m    558\u001b[0m \u001b[43m        \u001b[49m\u001b[43mconf\u001b[49m\u001b[38;5;241;43m=\u001b[39;49m\u001b[43mconf\u001b[49m\u001b[43m,\u001b[49m\n\u001b[0;32m    559\u001b[0m \u001b[43m        \u001b[49m\u001b[43mpred_xstart\u001b[49m\u001b[38;5;241;43m=\u001b[39;49m\u001b[43mpred_xstart\u001b[49m\n\u001b[0;32m    560\u001b[0m \u001b[43m    \u001b[49m\u001b[43m)\u001b[49m\n\u001b[0;32m    561\u001b[0m     image_after_step \u001b[38;5;241m=\u001b[39m out[\u001b[38;5;124m\"\u001b[39m\u001b[38;5;124msample\u001b[39m\u001b[38;5;124m\"\u001b[39m]\n\u001b[0;32m    562\u001b[0m     pred_xstart \u001b[38;5;241m=\u001b[39m out[\u001b[38;5;124m\"\u001b[39m\u001b[38;5;124mpred_xstart\u001b[39m\u001b[38;5;124m\"\u001b[39m]\n",
      "File \u001b[1;32m~\\OneDrive\\Cours\\Semestre 11\\DDPM\\RePaint\\guided_diffusion\\gaussian_diffusion.py:409\u001b[0m, in \u001b[0;36mGaussianDiffusion.p_sample\u001b[1;34m(self, model, x, t, clip_denoised, denoised_fn, cond_fn, model_kwargs, conf, meas_fn, pred_xstart, idx_wall)\u001b[0m\n\u001b[0;32m    396\u001b[0m             weighed_gt \u001b[38;5;241m=\u001b[39m gt_part \u001b[38;5;241m+\u001b[39m noise_part\n\u001b[0;32m    398\u001b[0m         x \u001b[38;5;241m=\u001b[39m (\n\u001b[0;32m    399\u001b[0m             gt_keep_mask \u001b[38;5;241m*\u001b[39m (\n\u001b[0;32m    400\u001b[0m                 weighed_gt\n\u001b[1;32m   (...)\u001b[0m\n\u001b[0;32m    405\u001b[0m             )\n\u001b[0;32m    406\u001b[0m         )\n\u001b[1;32m--> 409\u001b[0m out \u001b[38;5;241m=\u001b[39m \u001b[38;5;28;43mself\u001b[39;49m\u001b[38;5;241;43m.\u001b[39;49m\u001b[43mp_mean_variance\u001b[49m\u001b[43m(\u001b[49m\n\u001b[0;32m    410\u001b[0m \u001b[43m    \u001b[49m\u001b[43mmodel\u001b[49m\u001b[43m,\u001b[49m\n\u001b[0;32m    411\u001b[0m \u001b[43m    \u001b[49m\u001b[43mx\u001b[49m\u001b[43m,\u001b[49m\n\u001b[0;32m    412\u001b[0m \u001b[43m    \u001b[49m\u001b[43mt\u001b[49m\u001b[43m,\u001b[49m\n\u001b[0;32m    413\u001b[0m \u001b[43m    \u001b[49m\u001b[43mclip_denoised\u001b[49m\u001b[38;5;241;43m=\u001b[39;49m\u001b[43mclip_denoised\u001b[49m\u001b[43m,\u001b[49m\n\u001b[0;32m    414\u001b[0m \u001b[43m    \u001b[49m\u001b[43mdenoised_fn\u001b[49m\u001b[38;5;241;43m=\u001b[39;49m\u001b[43mdenoised_fn\u001b[49m\u001b[43m,\u001b[49m\n\u001b[0;32m    415\u001b[0m \u001b[43m    \u001b[49m\u001b[43mmodel_kwargs\u001b[49m\u001b[38;5;241;43m=\u001b[39;49m\u001b[43mmodel_kwargs\u001b[49m\u001b[43m,\u001b[49m\n\u001b[0;32m    416\u001b[0m \u001b[43m\u001b[49m\u001b[43m)\u001b[49m\n\u001b[0;32m    418\u001b[0m nonzero_mask \u001b[38;5;241m=\u001b[39m (\n\u001b[0;32m    419\u001b[0m     (t \u001b[38;5;241m!=\u001b[39m \u001b[38;5;241m0\u001b[39m)\u001b[38;5;241m.\u001b[39mfloat()\u001b[38;5;241m.\u001b[39mview(\u001b[38;5;241m-\u001b[39m\u001b[38;5;241m1\u001b[39m, \u001b[38;5;241m*\u001b[39m([\u001b[38;5;241m1\u001b[39m] \u001b[38;5;241m*\u001b[39m (\u001b[38;5;28mlen\u001b[39m(x\u001b[38;5;241m.\u001b[39mshape) \u001b[38;5;241m-\u001b[39m \u001b[38;5;241m1\u001b[39m)))\n\u001b[0;32m    420\u001b[0m ) \n\u001b[0;32m    422\u001b[0m \u001b[38;5;28;01mif\u001b[39;00m cond_fn \u001b[38;5;129;01mis\u001b[39;00m \u001b[38;5;129;01mnot\u001b[39;00m \u001b[38;5;28;01mNone\u001b[39;00m:\n",
      "File \u001b[1;32m~\\OneDrive\\Cours\\Semestre 11\\DDPM\\RePaint\\guided_diffusion\\respace.py:124\u001b[0m, in \u001b[0;36mSpacedDiffusion.p_mean_variance\u001b[1;34m(self, model, *args, **kwargs)\u001b[0m\n\u001b[0;32m    121\u001b[0m \u001b[38;5;28;01mdef\u001b[39;00m \u001b[38;5;21mp_mean_variance\u001b[39m(\n\u001b[0;32m    122\u001b[0m     \u001b[38;5;28mself\u001b[39m, model, \u001b[38;5;241m*\u001b[39margs, \u001b[38;5;241m*\u001b[39m\u001b[38;5;241m*\u001b[39mkwargs\n\u001b[0;32m    123\u001b[0m ):  \u001b[38;5;66;03m# pylint: disable=signature-differs\u001b[39;00m\n\u001b[1;32m--> 124\u001b[0m     \u001b[38;5;28;01mreturn\u001b[39;00m \u001b[38;5;28msuper\u001b[39m()\u001b[38;5;241m.\u001b[39mp_mean_variance(\u001b[38;5;28mself\u001b[39m\u001b[38;5;241m.\u001b[39m_wrap_model(model), \u001b[38;5;241m*\u001b[39margs, \u001b[38;5;241m*\u001b[39m\u001b[38;5;241m*\u001b[39mkwargs)\n",
      "File \u001b[1;32m~\\OneDrive\\Cours\\Semestre 11\\DDPM\\RePaint\\guided_diffusion\\gaussian_diffusion.py:271\u001b[0m, in \u001b[0;36mGaussianDiffusion.p_mean_variance\u001b[1;34m(self, model, x, t, clip_denoised, denoised_fn, model_kwargs)\u001b[0m\n\u001b[0;32m    269\u001b[0m     model_variance \u001b[38;5;241m=\u001b[39m th\u001b[38;5;241m.\u001b[39mexp(model_log_variance)\n\u001b[0;32m    270\u001b[0m \u001b[38;5;28;01melse\u001b[39;00m:\n\u001b[1;32m--> 271\u001b[0m     min_log \u001b[38;5;241m=\u001b[39m \u001b[43m_extract_into_tensor\u001b[49m\u001b[43m(\u001b[49m\n\u001b[0;32m    272\u001b[0m \u001b[43m        \u001b[49m\u001b[38;5;28;43mself\u001b[39;49m\u001b[38;5;241;43m.\u001b[39;49m\u001b[43mposterior_log_variance_clipped\u001b[49m\u001b[43m,\u001b[49m\u001b[43m \u001b[49m\u001b[43mt\u001b[49m\u001b[43m,\u001b[49m\u001b[43m \u001b[49m\u001b[43mx\u001b[49m\u001b[38;5;241;43m.\u001b[39;49m\u001b[43mshape\u001b[49m\n\u001b[0;32m    273\u001b[0m \u001b[43m    \u001b[49m\u001b[43m)\u001b[49m\n\u001b[0;32m    274\u001b[0m     max_log \u001b[38;5;241m=\u001b[39m _extract_into_tensor(np\u001b[38;5;241m.\u001b[39mlog(\u001b[38;5;28mself\u001b[39m\u001b[38;5;241m.\u001b[39mbetas), t, x\u001b[38;5;241m.\u001b[39mshape)\n\u001b[0;32m    275\u001b[0m     frac \u001b[38;5;241m=\u001b[39m (model_var_values \u001b[38;5;241m+\u001b[39m \u001b[38;5;241m1\u001b[39m) \u001b[38;5;241m/\u001b[39m \u001b[38;5;241m2\u001b[39m\n",
      "File \u001b[1;32m~\\OneDrive\\Cours\\Semestre 11\\DDPM\\RePaint\\guided_diffusion\\gaussian_diffusion.py:610\u001b[0m, in \u001b[0;36m_extract_into_tensor\u001b[1;34m(arr, timesteps, broadcast_shape)\u001b[0m\n\u001b[0;32m    600\u001b[0m \u001b[38;5;28;01mdef\u001b[39;00m \u001b[38;5;21m_extract_into_tensor\u001b[39m(arr, timesteps, broadcast_shape):\n\u001b[0;32m    601\u001b[0m     \u001b[38;5;124;03m\"\"\"\u001b[39;00m\n\u001b[0;32m    602\u001b[0m \u001b[38;5;124;03m    Extract values from a 1-D numpy array for a batch of indices.\u001b[39;00m\n\u001b[0;32m    603\u001b[0m \n\u001b[1;32m   (...)\u001b[0m\n\u001b[0;32m    608\u001b[0m \u001b[38;5;124;03m    :return: a tensor of shape [batch_size, 1, ...] where the shape has K dims.\u001b[39;00m\n\u001b[0;32m    609\u001b[0m \u001b[38;5;124;03m    \"\"\"\u001b[39;00m\n\u001b[1;32m--> 610\u001b[0m     res \u001b[38;5;241m=\u001b[39m \u001b[43mth\u001b[49m\u001b[38;5;241;43m.\u001b[39;49m\u001b[43mfrom_numpy\u001b[49m\u001b[43m(\u001b[49m\u001b[43marr\u001b[49m\u001b[43m)\u001b[49m\u001b[38;5;241;43m.\u001b[39;49m\u001b[43mto\u001b[49m\u001b[43m(\u001b[49m\u001b[43mdevice\u001b[49m\u001b[38;5;241;43m=\u001b[39;49m\u001b[43mtimesteps\u001b[49m\u001b[38;5;241;43m.\u001b[39;49m\u001b[43mdevice\u001b[49m\u001b[43m)\u001b[49m[timesteps]\u001b[38;5;241m.\u001b[39mfloat()\n\u001b[0;32m    611\u001b[0m     \u001b[38;5;28;01mwhile\u001b[39;00m \u001b[38;5;28mlen\u001b[39m(res\u001b[38;5;241m.\u001b[39mshape) \u001b[38;5;241m<\u001b[39m \u001b[38;5;28mlen\u001b[39m(broadcast_shape):\n\u001b[0;32m    612\u001b[0m         res \u001b[38;5;241m=\u001b[39m res[\u001b[38;5;241m.\u001b[39m\u001b[38;5;241m.\u001b[39m\u001b[38;5;241m.\u001b[39m, \u001b[38;5;28;01mNone\u001b[39;00m]\n",
      "\u001b[1;31mKeyboardInterrupt\u001b[0m: "
     ]
    }
   ],
   "source": [
    "\n",
    "\n",
    "\n",
    "\n",
    "\n",
    "if conf.name=='my_conf':\n",
    "    result = result[1] #0 is all tuples to generate gifs\n",
    "srs = toU8(result['sample'])\n",
    "gts = toU8(result['gt'])\n",
    "lrs = toU8(result.get('gt') * model_kwargs.get('gt_keep_mask') + (-1) *\n",
    "           th.ones_like(result.get('gt')) * (1 - model_kwargs.get('gt_keep_mask')))\n",
    "\n",
    "gt_keep_masks = toU8((model_kwargs.get('gt_keep_mask') * 2 - 1))\n",
    "\n",
    "conf.eval_imswrite(\n",
    "    srs=srs, gts=gts, lrs=lrs, gt_keep_masks=gt_keep_masks,\n",
    "    img_names=batch['GT_name'], dset=dset, name=eval_name, verify_same=False)"
   ]
  },
  {
   "cell_type": "code",
   "execution_count": 22,
   "id": "625d1191-8b18-41da-98a9-e448b00eb824",
   "metadata": {},
   "outputs": [],
   "source": [
    "    srs = toU8(result[1]['sample'])\n",
    "    gts = toU8(result[1]['gt'])\n",
    "    lrs = toU8(result[1].get('gt') * model_kwargs.get('gt_keep_mask') + (-1) *\n",
    "               th.ones_like(result[1].get('gt')) * (1 - model_kwargs.get('gt_keep_mask')))\n",
    "\n",
    "    gt_keep_masks = toU8((model_kwargs.get('gt_keep_mask') * 2 - 1))\n",
    "\n",
    "    conf.eval_imswrite(\n",
    "        srs=srs, gts=gts, lrs=lrs, gt_keep_masks=gt_keep_masks,\n",
    "        img_names=batch['GT_name'], dset=dset, name=eval_name, verify_same=False)"
   ]
  },
  {
   "cell_type": "code",
   "execution_count": 24,
   "id": "91d4b7cd-def3-4caf-bc7c-26c18f582c13",
   "metadata": {},
   "outputs": [
    {
     "data": {
      "text/plain": [
       "array([[[[143, 144, 156],\n",
       "         [140, 142, 154],\n",
       "         [144, 145, 157],\n",
       "         ...,\n",
       "         [104, 120, 130],\n",
       "         [105, 121, 132],\n",
       "         [104, 120, 131]],\n",
       "\n",
       "        [[142, 143, 155],\n",
       "         [141, 143, 155],\n",
       "         [142, 143, 155],\n",
       "         ...,\n",
       "         [104, 120, 130],\n",
       "         [102, 118, 129],\n",
       "         [103, 119, 130]],\n",
       "\n",
       "        [[142, 144, 156],\n",
       "         [142, 143, 155],\n",
       "         [142, 144, 156],\n",
       "         ...,\n",
       "         [101, 118, 129],\n",
       "         [100, 118, 130],\n",
       "         [103, 120, 131]],\n",
       "\n",
       "        ...,\n",
       "\n",
       "        [[153, 127, 116],\n",
       "         [169, 134, 117],\n",
       "         [168, 133, 114],\n",
       "         ...,\n",
       "         [ 37,  80, 104],\n",
       "         [ 33,  82, 107],\n",
       "         [ 31,  84, 111]],\n",
       "\n",
       "        [[168, 130, 116],\n",
       "         [173, 132, 117],\n",
       "         [171, 132, 117],\n",
       "         ...,\n",
       "         [ 36,  81, 104],\n",
       "         [ 33,  83, 107],\n",
       "         [ 32,  86, 112]],\n",
       "\n",
       "        [[169, 133, 113],\n",
       "         [169, 133, 115],\n",
       "         [167, 128, 113],\n",
       "         ...,\n",
       "         [ 35,  82, 104],\n",
       "         [ 37,  84, 111],\n",
       "         [ 39,  90, 116]]]], dtype=uint8)"
      ]
     },
     "execution_count": 24,
     "metadata": {},
     "output_type": "execute_result"
    }
   ],
   "source": [
    "lrs"
   ]
  }
 ],
 "metadata": {
  "kernelspec": {
   "display_name": "Python 3 (ipykernel)",
   "language": "python",
   "name": "python3"
  },
  "language_info": {
   "codemirror_mode": {
    "name": "ipython",
    "version": 3
   },
   "file_extension": ".py",
   "mimetype": "text/x-python",
   "name": "python",
   "nbconvert_exporter": "python",
   "pygments_lexer": "ipython3",
   "version": "3.10.6"
  }
 },
 "nbformat": 4,
 "nbformat_minor": 5
}
