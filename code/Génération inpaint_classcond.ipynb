{
 "cells": [
  {
   "cell_type": "markdown",
   "id": "8dffca4d-b5ed-4e2f-ad7a-5b4af541d515",
   "metadata": {},
   "source": [
    "https://gist.github.com/yrevar/942d3a0ac09ec9e5eb3a"
   ]
  },
  {
   "cell_type": "code",
   "execution_count": 2,
   "id": "2073e0bb-9bb8-4a72-92eb-3d1aefb08da9",
   "metadata": {},
   "outputs": [],
   "source": [
    "\n",
    "import os\n",
    "import argparse\n",
    "import torch as th\n",
    "import torch.nn.functional as F\n",
    "import time\n",
    "import conf_mgt\n",
    "from utils import yamlread\n",
    "from guided_diffusion import dist_util\n",
    "from tqdm import tqdm\n",
    "# Workaround\n",
    "try:\n",
    "    import ctypes\n",
    "    libgcc_s = ctypes.CDLL('libgcc_s.so.1')\n",
    "except:\n",
    "    pass\n",
    "\n",
    "\n",
    "from guided_diffusion.script_util import (\n",
    "    NUM_CLASSES,\n",
    "    model_and_diffusion_defaults,\n",
    "    classifier_defaults,\n",
    "    create_model_and_diffusion,\n",
    "    create_classifier,\n",
    "    select_args,\n",
    ")  # noqa: E402\n",
    "\n",
    "from guided_diffusion.script_util import (\n",
    "    sr_model_and_diffusion_defaults,\n",
    "    sr_create_model_and_diffusion,\n",
    ")\n",
    "def toU8(sample):\n",
    "    if sample is None:\n",
    "        return sample\n",
    "\n",
    "    sample = ((sample + 1) * 127.5).clamp(0, 255).to(th.uint8)\n",
    "    sample = sample.permute(0, 2, 3, 1)\n",
    "    sample = sample.contiguous()\n",
    "    sample = sample.detach().cpu().numpy()\n",
    "    return sample\n",
    "\n",
    "import torch\n",
    "import torchvision.transforms as T"
   ]
  },
  {
   "cell_type": "code",
   "execution_count": 3,
   "id": "94c99287-d084-455d-b8b4-4930705d3eff",
   "metadata": {},
   "outputs": [
    {
     "name": "stdout",
     "output_type": "stream",
     "text": [
      "True\n",
      "False\n"
     ]
    }
   ],
   "source": [
    "intermediate_steps = False #return intermediate results (usefull to create gifs)\n",
    "conf = conf_mgt.conf_base.Default_Conf()\n",
    "conf.update(yamlread('confs/my_conf-2_cond.yml'))\n",
    "print(conf.inpa_inj_sched_prev) #Are you about to use RePainting ?print(conf.diffusion_steps) #may not be the good one\n",
    "conf.intermediate_steps = intermediate_steps\n",
    "print(conf.intermediate_steps)\n"
   ]
  },
  {
   "cell_type": "code",
   "execution_count": 6,
   "id": "e65fb922-59f3-4791-a637-58444947f208",
   "metadata": {},
   "outputs": [],
   "source": [
    "conf['schedule_jump_params']['jump_n_sample'] = 20\n"
   ]
  },
  {
   "cell_type": "code",
   "execution_count": 7,
   "id": "7835602e-a3ab-4e1c-ab2f-d217acf0a8e9",
   "metadata": {},
   "outputs": [
    {
     "name": "stdout",
     "output_type": "stream",
     "text": [
      "Start my_conf\n"
     ]
    }
   ],
   "source": [
    "print(\"Start\", conf['name'])\n",
    "\n",
    "device = dist_util.dev(conf.get('device'))\n",
    "\n",
    "\n",
    "model, diffusion = create_model_and_diffusion(\n",
    "    **select_args(conf, model_and_diffusion_defaults().keys()), conf=conf\n",
    ")\n"
   ]
  },
  {
   "cell_type": "code",
   "execution_count": 8,
   "id": "51729c6f-7ea7-4e2c-8a4c-6eea8a657d6a",
   "metadata": {},
   "outputs": [
    {
     "name": "stdout",
     "output_type": "stream",
     "text": [
      "Nombre de paramètres :  553838086\n"
     ]
    }
   ],
   "source": [
    "model.load_state_dict(\n",
    "    dist_util.load_state_dict(os.path.expanduser(\n",
    "        conf.model_path), map_location=\"cpu\")\n",
    ")\n",
    "model.to(device)\n",
    "if conf.use_fp16:\n",
    "    model.convert_to_fp16()\n",
    "model.eval()\n",
    "\n",
    "show_progress = conf.show_progress\n",
    "\n",
    "import numpy as np\n",
    "model_parameters = filter(lambda p: p.requires_grad, model.parameters())\n",
    "params = sum([np.prod(p.size()) for p in model_parameters])\n",
    "print('Nombre de paramètres : ', params)"
   ]
  },
  {
   "cell_type": "code",
   "execution_count": null,
   "id": "e708721d-7eb1-4a78-8bdd-e0a5fbae0ec1",
   "metadata": {},
   "outputs": [],
   "source": [
    "# https://colab.research.google.com/drive/12a_Wrfi2_gwwAuN3VvMTwVMz9TfqctNj#scrollTo=7zAqFEykBHDL TO DO"
   ]
  },
  {
   "cell_type": "code",
   "execution_count": 9,
   "id": "433aa9c3-cba6-4601-af82-3c84ba123ef5",
   "metadata": {},
   "outputs": [
    {
     "name": "stdout",
     "output_type": "stream",
     "text": [
      "loading classifier...\n"
     ]
    }
   ],
   "source": [
    "\n",
    "if conf.classifier_scale is not None:\n",
    "    if conf.classifier_scale > 0 and conf.classifier_path:\n",
    "        print(\"loading classifier...\")\n",
    "        classifier = create_classifier(\n",
    "            **select_args(conf, classifier_defaults().keys()))\n",
    "        classifier.load_state_dict(\n",
    "            dist_util.load_state_dict(os.path.expanduser(\n",
    "                conf.classifier_path), map_location=\"cpu\")\n",
    "        )\n",
    "\n",
    "        classifier.to(device)\n",
    "        if conf.classifier_use_fp16:\n",
    "            classifier.convert_to_fp16()\n",
    "        classifier.eval()\n",
    "\n",
    "        def cond_fn(x, t, y=None, gt=None, **kwargs):\n",
    "            assert y is not None\n",
    "            with th.enable_grad():\n",
    "                x_in = x.detach().requires_grad_(True)\n",
    "                logits = classifier(x_in, t)\n",
    "                log_probs = F.log_softmax(logits, dim=-1)\n",
    "                selected = log_probs[range(len(logits)), y.view(-1)]\n",
    "                return th.autograd.grad(selected.sum(), x_in)[0] * conf.classifier_scale\n",
    "else:\n",
    "    cond_fn = None\n",
    "\n",
    "def model_fn(x, t, y=None, gt=None, **kwargs):\n",
    "    assert y is not None # pourquoi ? \n",
    "    return model(x, t, y if conf.class_cond else None, gt=gt)"
   ]
  },
  {
   "cell_type": "code",
   "execution_count": 23,
   "id": "8d813496-baec-449d-9633-279cb9324987",
   "metadata": {},
   "outputs": [
    {
     "data": {
      "text/plain": [
       "True"
      ]
     },
     "execution_count": 23,
     "metadata": {},
     "output_type": "execute_result"
    }
   ],
   "source": [
    "conf.class_cond"
   ]
  },
  {
   "cell_type": "code",
   "execution_count": 10,
   "id": "6c2100a8-2883-454d-81a5-3f42875e614e",
   "metadata": {},
   "outputs": [],
   "source": [
    "def tou8batch(result,return_all=False):\n",
    "    if return_all:\n",
    "        finals = result[1]['sample']\n",
    "    else:\n",
    "        finals = result\n",
    "    finals = ((finals + 1) * 127.5).clamp(0, 255).to(th.uint8)\n",
    "    finals = finals.contiguous()\n",
    "    return(finals)"
   ]
  },
  {
   "cell_type": "code",
   "execution_count": 11,
   "id": "a7f0cb85-5893-452f-ac1e-509b81740a5d",
   "metadata": {},
   "outputs": [],
   "source": [
    "dset = 'eval'\n",
    "\n",
    "eval_name = conf.get_default_eval_name()\n",
    "GT_PATH = './data/datasets/gts/others'\n",
    "MASK_PATH = './data/datasets/gt_keep_masks/square'\n",
    "IMAGE_SIZE = 256\n",
    "\n",
    "dataconfig = {'mask_loader': True,\n",
    " 'gt_path': GT_PATH,\n",
    " 'mask_path': MASK_PATH,\n",
    " 'image_size': IMAGE_SIZE,\n",
    " 'class_cond': False,\n",
    " 'deterministic': True, # Pas de shuffle dans le dataloader\n",
    " 'random_crop': False, # Crop (au lieu de redimensionner l'image). Non Implémenté.\n",
    " 'random_flip': False,\n",
    " 'return_dict': True,\n",
    " 'drop_last': False,\n",
    " 'batch_size': 1,\n",
    " 'return_dataloader': True,\n",
    " 'offset': 0,\n",
    " 'max_len': 8,\n",
    " 'paths': {'srs': './log/face_example/inpainted',\n",
    "  'lrs': './log/face_example/gt_masked',\n",
    "  'gts': './log/face_example/gt',\n",
    "  'gt_keep_masks': './log/face_example/gt_keep_mask'}\n",
    "             }\n",
    "return_all = False\n",
    "conf['data']['eval'][eval_name] = dataconfig\n",
    "dl = conf.get_dataloader(dset=dset, dsName=eval_name)\n",
    "transform = T.ToPILImage()\n",
    "\n",
    "save_path = './inpainted/seashore_500/'\n",
    "format_save = '.png'"
   ]
  },
  {
   "cell_type": "code",
   "execution_count": 12,
   "id": "c9df1efd-1d5a-4a32-9770-d10d932ead34",
   "metadata": {},
   "outputs": [
    {
     "data": {
      "application/vnd.jupyter.widget-view+json": {
       "model_id": "c060f15b6b4a4e6589d4ed79eb28a178",
       "version_major": 2,
       "version_minor": 0
      },
      "text/plain": [
       "  0%|          | 0/9370 [00:00<?, ?it/s]"
      ]
     },
     "metadata": {},
     "output_type": "display_data"
    },
    {
     "data": {
      "application/vnd.jupyter.widget-view+json": {
       "model_id": "a4685e9d121544b28e1bd4dedf7adadb",
       "version_major": 2,
       "version_minor": 0
      },
      "text/plain": [
       "  0%|          | 0/9370 [00:00<?, ?it/s]"
      ]
     },
     "metadata": {},
     "output_type": "display_data"
    },
    {
     "data": {
      "application/vnd.jupyter.widget-view+json": {
       "model_id": "79dbf13a43eb480086c9f7ef524f8c4a",
       "version_major": 2,
       "version_minor": 0
      },
      "text/plain": [
       "  0%|          | 0/9370 [00:00<?, ?it/s]"
      ]
     },
     "metadata": {},
     "output_type": "display_data"
    },
    {
     "data": {
      "application/vnd.jupyter.widget-view+json": {
       "model_id": "c853288f60374fe6b3706b187d6d35f2",
       "version_major": 2,
       "version_minor": 0
      },
      "text/plain": [
       "  0%|          | 0/9370 [00:00<?, ?it/s]"
      ]
     },
     "metadata": {},
     "output_type": "display_data"
    },
    {
     "data": {
      "application/vnd.jupyter.widget-view+json": {
       "model_id": "507aea67de884fc58555dfa42b876cc9",
       "version_major": 2,
       "version_minor": 0
      },
      "text/plain": [
       "  0%|          | 0/9370 [00:00<?, ?it/s]"
      ]
     },
     "metadata": {},
     "output_type": "display_data"
    },
    {
     "data": {
      "application/vnd.jupyter.widget-view+json": {
       "model_id": "3b3c53b37f8249de9c7aebe949c0e25a",
       "version_major": 2,
       "version_minor": 0
      },
      "text/plain": [
       "  0%|          | 0/9370 [00:00<?, ?it/s]"
      ]
     },
     "metadata": {},
     "output_type": "display_data"
    },
    {
     "data": {
      "application/vnd.jupyter.widget-view+json": {
       "model_id": "7f9303f03d8b44b0aa07352b9d5cef08",
       "version_major": 2,
       "version_minor": 0
      },
      "text/plain": [
       "  0%|          | 0/9370 [00:00<?, ?it/s]"
      ]
     },
     "metadata": {},
     "output_type": "display_data"
    },
    {
     "data": {
      "application/vnd.jupyter.widget-view+json": {
       "model_id": "c4e21d0864fa4b30afc5bf9fc0add901",
       "version_major": 2,
       "version_minor": 0
      },
      "text/plain": [
       "  0%|          | 0/9370 [00:00<?, ?it/s]"
      ]
     },
     "metadata": {},
     "output_type": "display_data"
    },
    {
     "data": {
      "application/vnd.jupyter.widget-view+json": {
       "model_id": "bc791770de7e432980255119e709ea0e",
       "version_major": 2,
       "version_minor": 0
      },
      "text/plain": [
       "  0%|          | 0/9370 [00:00<?, ?it/s]"
      ]
     },
     "metadata": {},
     "output_type": "display_data"
    },
    {
     "data": {
      "application/vnd.jupyter.widget-view+json": {
       "model_id": "0c96b64c8cca4898b0eedd00a3d0ac7a",
       "version_major": 2,
       "version_minor": 0
      },
      "text/plain": [
       "  0%|          | 0/9370 [00:00<?, ?it/s]"
      ]
     },
     "metadata": {},
     "output_type": "display_data"
    },
    {
     "data": {
      "application/vnd.jupyter.widget-view+json": {
       "model_id": "70135546413c48af8295e76602aeb503",
       "version_major": 2,
       "version_minor": 0
      },
      "text/plain": [
       "  0%|          | 0/9370 [00:00<?, ?it/s]"
      ]
     },
     "metadata": {},
     "output_type": "display_data"
    }
   ],
   "source": [
    "for j in range(11):\n",
    "        dl = conf.get_dataloader(dset=dset, dsName=eval_name)\n",
    "        batch = next(iter(dl)) #écrit pour un batch size de 1\n",
    "        img = batch['GT'].to(device)\n",
    "        mask = batch['gt_keep_mask'].to(device)\n",
    "        name = batch['GT_name'][0][:-4] #ici need batch size = 1. Le -4 vise à retirer le format.\n",
    "\n",
    "        model_kwargs = {}\n",
    "        model_kwargs[\"gt\"] = img\n",
    "        model_kwargs['y'] = th.tensor([978], device=device) #Utile seulement si conf.cond_y (voir model_fn au dessus). Doit être défini. # 978 is seashore category\n",
    "        model_kwargs['gt_keep_mask'] = mask\n",
    "        model_kwargs['stop_to'] = None\n",
    "        model_kwargs['starting_point'] = None\n",
    "        batch_size = model_kwargs['gt'].shape[0]\n",
    "\n",
    "        sample_fn = (\n",
    "            diffusion.p_sample_loop if not conf.use_ddim else diffusion.ddim_sample_loop\n",
    "        )\n",
    "\n",
    "\n",
    "\n",
    "        result = sample_fn(\n",
    "        model_fn,\n",
    "        (batch_size, 3, conf.image_size, conf.image_size),\n",
    "        clip_denoised=conf.clip_denoised,\n",
    "        model_kwargs=model_kwargs,\n",
    "        cond_fn=cond_fn,\n",
    "        device=device,\n",
    "        progress=show_progress,\n",
    "        return_all=return_all,\n",
    "        conf=conf\n",
    "        )\n",
    "\n",
    "        imgend = transform(tou8batch(result)[0])\n",
    "        imgend.save(save_path+name+'_'+str(j)+format_save)\n",
    "        \n",
    "        del result\n",
    "        torch.cuda.empty_cache()"
   ]
  },
  {
   "cell_type": "code",
   "execution_count": 10,
   "id": "dcc75871-7546-4d8d-a08f-aa081e0a4be8",
   "metadata": {},
   "outputs": [
    {
     "data": {
      "image/png": "[encoded data removed]",
      "text/plain": [
       "<PIL.Image.Image image mode=RGB size=256x256>"
      ]
     },
     "execution_count": 10,
     "metadata": {},
     "output_type": "execute_result"
    }
   ],
   "source": []
  },
  {
   "cell_type": "code",
   "execution_count": null,
   "id": "3d952c45-7bfb-4420-9d45-92fe2ade0f33",
   "metadata": {},
   "outputs": [
    {
     "data": {
      "application/vnd.jupyter.widget-view+json": {
       "model_id": "dad522364e8348af8f859d6eee97cc99",
       "version_major": 2,
       "version_minor": 0
      },
      "text/plain": [
       "  0%|          | 0/4570 [00:00<?, ?it/s]"
      ]
     },
     "metadata": {},
     "output_type": "display_data"
    },
    {
     "data": {
      "application/vnd.jupyter.widget-view+json": {
       "model_id": "a1f68f811f4c49f4926ec75b1deb9742",
       "version_major": 2,
       "version_minor": 0
      },
      "text/plain": [
       "  0%|          | 0/4570 [00:00<?, ?it/s]"
      ]
     },
     "metadata": {},
     "output_type": "display_data"
    },
    {
     "data": {
      "application/vnd.jupyter.widget-view+json": {
       "model_id": "b98333087f6d4e96a7bf7557acfce048",
       "version_major": 2,
       "version_minor": 0
      },
      "text/plain": [
       "  0%|          | 0/4570 [00:00<?, ?it/s]"
      ]
     },
     "metadata": {},
     "output_type": "display_data"
    },
    {
     "data": {
      "application/vnd.jupyter.widget-view+json": {
       "model_id": "46520cb6f4fa4d2eb5aaf6d6901a714c",
       "version_major": 2,
       "version_minor": 0
      },
      "text/plain": [
       "  0%|          | 0/4570 [00:00<?, ?it/s]"
      ]
     },
     "metadata": {},
     "output_type": "display_data"
    },
    {
     "data": {
      "application/vnd.jupyter.widget-view+json": {
       "model_id": "e336e5a36a2a4c9db683b55d337802d9",
       "version_major": 2,
       "version_minor": 0
      },
      "text/plain": [
       "  0%|          | 0/4570 [00:00<?, ?it/s]"
      ]
     },
     "metadata": {},
     "output_type": "display_data"
    },
    {
     "data": {
      "application/vnd.jupyter.widget-view+json": {
       "model_id": "aaf57962afe4419ba0f06f8659e2b8bb",
       "version_major": 2,
       "version_minor": 0
      },
      "text/plain": [
       "  0%|          | 0/4570 [00:00<?, ?it/s]"
      ]
     },
     "metadata": {},
     "output_type": "display_data"
    },
    {
     "data": {
      "application/vnd.jupyter.widget-view+json": {
       "model_id": "315ec592a61c4ee5940ec0e52321fd9b",
       "version_major": 2,
       "version_minor": 0
      },
      "text/plain": [
       "  0%|          | 0/4570 [00:00<?, ?it/s]"
      ]
     },
     "metadata": {},
     "output_type": "display_data"
    },
    {
     "data": {
      "application/vnd.jupyter.widget-view+json": {
       "model_id": "2b843ef0b2aa433690abc9b91ee740e2",
       "version_major": 2,
       "version_minor": 0
      },
      "text/plain": [
       "  0%|          | 0/4570 [00:00<?, ?it/s]"
      ]
     },
     "metadata": {},
     "output_type": "display_data"
    },
    {
     "data": {
      "application/vnd.jupyter.widget-view+json": {
       "model_id": "6162fecaf22c4c97816f6e111a27a09a",
       "version_major": 2,
       "version_minor": 0
      },
      "text/plain": [
       "  0%|          | 0/4570 [00:00<?, ?it/s]"
      ]
     },
     "metadata": {},
     "output_type": "display_data"
    },
    {
     "data": {
      "application/vnd.jupyter.widget-view+json": {
       "model_id": "a173e0ce7e0946de853d76f2a1ced72f",
       "version_major": 2,
       "version_minor": 0
      },
      "text/plain": [
       "  0%|          | 0/4570 [00:00<?, ?it/s]"
      ]
     },
     "metadata": {},
     "output_type": "display_data"
    },
    {
     "data": {
      "application/vnd.jupyter.widget-view+json": {
       "model_id": "5c419519f61d4a65ad9e113b218fc0d1",
       "version_major": 2,
       "version_minor": 0
      },
      "text/plain": [
       "  0%|          | 0/4570 [00:00<?, ?it/s]"
      ]
     },
     "metadata": {},
     "output_type": "display_data"
    },
    {
     "data": {
      "application/vnd.jupyter.widget-view+json": {
       "model_id": "07840c31adc243f0869de74101d02085",
       "version_major": 2,
       "version_minor": 0
      },
      "text/plain": [
       "  0%|          | 0/4570 [00:00<?, ?it/s]"
      ]
     },
     "metadata": {},
     "output_type": "display_data"
    },
    {
     "data": {
      "application/vnd.jupyter.widget-view+json": {
       "model_id": "a0a293dcb8464950a2057b17e1560d22",
       "version_major": 2,
       "version_minor": 0
      },
      "text/plain": [
       "  0%|          | 0/4570 [00:00<?, ?it/s]"
      ]
     },
     "metadata": {},
     "output_type": "display_data"
    },
    {
     "data": {
      "application/vnd.jupyter.widget-view+json": {
       "model_id": "be13205043984ceebd6b003e9dd37ec1",
       "version_major": 2,
       "version_minor": 0
      },
      "text/plain": [
       "  0%|          | 0/4570 [00:00<?, ?it/s]"
      ]
     },
     "metadata": {},
     "output_type": "display_data"
    },
    {
     "data": {
      "application/vnd.jupyter.widget-view+json": {
       "model_id": "3e10cb472ba845f88691debeb3391444",
       "version_major": 2,
       "version_minor": 0
      },
      "text/plain": [
       "  0%|          | 0/4570 [00:00<?, ?it/s]"
      ]
     },
     "metadata": {},
     "output_type": "display_data"
    },
    {
     "data": {
      "application/vnd.jupyter.widget-view+json": {
       "model_id": "088d041de2fb48069f6d5164176a9065",
       "version_major": 2,
       "version_minor": 0
      },
      "text/plain": [
       "  0%|          | 0/4570 [00:00<?, ?it/s]"
      ]
     },
     "metadata": {},
     "output_type": "display_data"
    },
    {
     "data": {
      "application/vnd.jupyter.widget-view+json": {
       "model_id": "00e6f6d1f4834fbfa7fe5aa119864ab6",
       "version_major": 2,
       "version_minor": 0
      },
      "text/plain": [
       "  0%|          | 0/4570 [00:00<?, ?it/s]"
      ]
     },
     "metadata": {},
     "output_type": "display_data"
    },
    {
     "data": {
      "application/vnd.jupyter.widget-view+json": {
       "model_id": "51ac70e87cdf4caaa7cd431b6f210a70",
       "version_major": 2,
       "version_minor": 0
      },
      "text/plain": [
       "  0%|          | 0/4570 [00:00<?, ?it/s]"
      ]
     },
     "metadata": {},
     "output_type": "display_data"
    },
    {
     "data": {
      "application/vnd.jupyter.widget-view+json": {
       "model_id": "0863a42485a3447a936bd2f43669a4c9",
       "version_major": 2,
       "version_minor": 0
      },
      "text/plain": [
       "  0%|          | 0/4570 [00:00<?, ?it/s]"
      ]
     },
     "metadata": {},
     "output_type": "display_data"
    },
    {
     "data": {
      "application/vnd.jupyter.widget-view+json": {
       "model_id": "8e55765ac83d452db5338d7b365678d9",
       "version_major": 2,
       "version_minor": 0
      },
      "text/plain": [
       "  0%|          | 0/4570 [00:00<?, ?it/s]"
      ]
     },
     "metadata": {},
     "output_type": "display_data"
    },
    {
     "data": {
      "application/vnd.jupyter.widget-view+json": {
       "model_id": "5fcb767358ec444d86ee457a06cbbb3f",
       "version_major": 2,
       "version_minor": 0
      },
      "text/plain": [
       "  0%|          | 0/4570 [00:00<?, ?it/s]"
      ]
     },
     "metadata": {},
     "output_type": "display_data"
    },
    {
     "data": {
      "application/vnd.jupyter.widget-view+json": {
       "model_id": "a51fc621313d40c8b869060a9c908ea2",
       "version_major": 2,
       "version_minor": 0
      },
      "text/plain": [
       "  0%|          | 0/4570 [00:00<?, ?it/s]"
      ]
     },
     "metadata": {},
     "output_type": "display_data"
    },
    {
     "data": {
      "application/vnd.jupyter.widget-view+json": {
       "model_id": "0245934f4e6644ec9b0644335d5782f0",
       "version_major": 2,
       "version_minor": 0
      },
      "text/plain": [
       "  0%|          | 0/4570 [00:00<?, ?it/s]"
      ]
     },
     "metadata": {},
     "output_type": "display_data"
    },
    {
     "data": {
      "application/vnd.jupyter.widget-view+json": {
       "model_id": "a983bfee439f4f2d83c201dcbca8cf5f",
       "version_major": 2,
       "version_minor": 0
      },
      "text/plain": [
       "  0%|          | 0/4570 [00:00<?, ?it/s]"
      ]
     },
     "metadata": {},
     "output_type": "display_data"
    },
    {
     "data": {
      "application/vnd.jupyter.widget-view+json": {
       "model_id": "1df0953514c14435b4a649903488516e",
       "version_major": 2,
       "version_minor": 0
      },
      "text/plain": [
       "  0%|          | 0/4570 [00:00<?, ?it/s]"
      ]
     },
     "metadata": {},
     "output_type": "display_data"
    },
    {
     "data": {
      "application/vnd.jupyter.widget-view+json": {
       "model_id": "e9e201ada3e84ff19f66e90e254b8f37",
       "version_major": 2,
       "version_minor": 0
      },
      "text/plain": [
       "  0%|          | 0/4570 [00:00<?, ?it/s]"
      ]
     },
     "metadata": {},
     "output_type": "display_data"
    },
    {
     "data": {
      "application/vnd.jupyter.widget-view+json": {
       "model_id": "dc011c1b718344ac9099f478a49c8797",
       "version_major": 2,
       "version_minor": 0
      },
      "text/plain": [
       "  0%|          | 0/4570 [00:00<?, ?it/s]"
      ]
     },
     "metadata": {},
     "output_type": "display_data"
    },
    {
     "data": {
      "application/vnd.jupyter.widget-view+json": {
       "model_id": "ac27eca264784dfd860ff2ddb04509cd",
       "version_major": 2,
       "version_minor": 0
      },
      "text/plain": [
       "  0%|          | 0/4570 [00:00<?, ?it/s]"
      ]
     },
     "metadata": {},
     "output_type": "display_data"
    },
    {
     "data": {
      "application/vnd.jupyter.widget-view+json": {
       "model_id": "d85d113fff71447492be88ff005d6606",
       "version_major": 2,
       "version_minor": 0
      },
      "text/plain": [
       "  0%|          | 0/4570 [00:00<?, ?it/s]"
      ]
     },
     "metadata": {},
     "output_type": "display_data"
    },
    {
     "data": {
      "application/vnd.jupyter.widget-view+json": {
       "model_id": "8abc96c6ec944913aaac4ec256b939f1",
       "version_major": 2,
       "version_minor": 0
      },
      "text/plain": [
       "  0%|          | 0/4570 [00:00<?, ?it/s]"
      ]
     },
     "metadata": {},
     "output_type": "display_data"
    },
    {
     "data": {
      "application/vnd.jupyter.widget-view+json": {
       "model_id": "5ea88b2d11e741d2b0a619c59d50c5ec",
       "version_major": 2,
       "version_minor": 0
      },
      "text/plain": [
       "  0%|          | 0/4570 [00:00<?, ?it/s]"
      ]
     },
     "metadata": {},
     "output_type": "display_data"
    },
    {
     "data": {
      "application/vnd.jupyter.widget-view+json": {
       "model_id": "68e8e191d58d44acb70c3a4a0982ae85",
       "version_major": 2,
       "version_minor": 0
      },
      "text/plain": [
       "  0%|          | 0/4570 [00:00<?, ?it/s]"
      ]
     },
     "metadata": {},
     "output_type": "display_data"
    },
    {
     "data": {
      "application/vnd.jupyter.widget-view+json": {
       "model_id": "0eb387493bf34a4c9381077d348feaec",
       "version_major": 2,
       "version_minor": 0
      },
      "text/plain": [
       "  0%|          | 0/4570 [00:00<?, ?it/s]"
      ]
     },
     "metadata": {},
     "output_type": "display_data"
    },
    {
     "data": {
      "application/vnd.jupyter.widget-view+json": {
       "model_id": "2ba4684bc0db45b5ad4d0357917ca43f",
       "version_major": 2,
       "version_minor": 0
      },
      "text/plain": [
       "  0%|          | 0/4570 [00:00<?, ?it/s]"
      ]
     },
     "metadata": {},
     "output_type": "display_data"
    },
    {
     "data": {
      "application/vnd.jupyter.widget-view+json": {
       "model_id": "0ddd379bcd794c0582ac061ca9b67af4",
       "version_major": 2,
       "version_minor": 0
      },
      "text/plain": [
       "  0%|          | 0/4570 [00:00<?, ?it/s]"
      ]
     },
     "metadata": {},
     "output_type": "display_data"
    },
    {
     "data": {
      "application/vnd.jupyter.widget-view+json": {
       "model_id": "d7f0be22383943c49875e35c9c4d3672",
       "version_major": 2,
       "version_minor": 0
      },
      "text/plain": [
       "  0%|          | 0/4570 [00:00<?, ?it/s]"
      ]
     },
     "metadata": {},
     "output_type": "display_data"
    },
    {
     "data": {
      "application/vnd.jupyter.widget-view+json": {
       "model_id": "f85603fb37754dbba01b568cc7d049bd",
       "version_major": 2,
       "version_minor": 0
      },
      "text/plain": [
       "  0%|          | 0/4570 [00:00<?, ?it/s]"
      ]
     },
     "metadata": {},
     "output_type": "display_data"
    },
    {
     "data": {
      "application/vnd.jupyter.widget-view+json": {
       "model_id": "7dd9b10073c347f3b22eaa65a5ebcefa",
       "version_major": 2,
       "version_minor": 0
      },
      "text/plain": [
       "  0%|          | 0/4570 [00:00<?, ?it/s]"
      ]
     },
     "metadata": {},
     "output_type": "display_data"
    },
    {
     "data": {
      "application/vnd.jupyter.widget-view+json": {
       "model_id": "c444699ede6f4303a594433b81fa0004",
       "version_major": 2,
       "version_minor": 0
      },
      "text/plain": [
       "  0%|          | 0/4570 [00:00<?, ?it/s]"
      ]
     },
     "metadata": {},
     "output_type": "display_data"
    },
    {
     "data": {
      "application/vnd.jupyter.widget-view+json": {
       "model_id": "743e6a32e2874384b9be8e522a808384",
       "version_major": 2,
       "version_minor": 0
      },
      "text/plain": [
       "  0%|          | 0/4570 [00:00<?, ?it/s]"
      ]
     },
     "metadata": {},
     "output_type": "display_data"
    },
    {
     "data": {
      "application/vnd.jupyter.widget-view+json": {
       "model_id": "85980de788d341459de2d5a80c38f322",
       "version_major": 2,
       "version_minor": 0
      },
      "text/plain": [
       "  0%|          | 0/4570 [00:00<?, ?it/s]"
      ]
     },
     "metadata": {},
     "output_type": "display_data"
    },
    {
     "data": {
      "application/vnd.jupyter.widget-view+json": {
       "model_id": "df2bc3fcea564db09bfbc76b825ddd3d",
       "version_major": 2,
       "version_minor": 0
      },
      "text/plain": [
       "  0%|          | 0/4570 [00:00<?, ?it/s]"
      ]
     },
     "metadata": {},
     "output_type": "display_data"
    },
    {
     "data": {
      "application/vnd.jupyter.widget-view+json": {
       "model_id": "f8e8808e197040788308e19527901fdc",
       "version_major": 2,
       "version_minor": 0
      },
      "text/plain": [
       "  0%|          | 0/4570 [00:00<?, ?it/s]"
      ]
     },
     "metadata": {},
     "output_type": "display_data"
    },
    {
     "data": {
      "application/vnd.jupyter.widget-view+json": {
       "model_id": "f33baf5685544e628c71344b4b366049",
       "version_major": 2,
       "version_minor": 0
      },
      "text/plain": [
       "  0%|          | 0/4570 [00:00<?, ?it/s]"
      ]
     },
     "metadata": {},
     "output_type": "display_data"
    },
    {
     "data": {
      "application/vnd.jupyter.widget-view+json": {
       "model_id": "9e477d0a6b89425eb1086b292836030b",
       "version_major": 2,
       "version_minor": 0
      },
      "text/plain": [
       "  0%|          | 0/4570 [00:00<?, ?it/s]"
      ]
     },
     "metadata": {},
     "output_type": "display_data"
    },
    {
     "data": {
      "application/vnd.jupyter.widget-view+json": {
       "model_id": "5310f479658649129df3edc1a4136aa2",
       "version_major": 2,
       "version_minor": 0
      },
      "text/plain": [
       "  0%|          | 0/4570 [00:00<?, ?it/s]"
      ]
     },
     "metadata": {},
     "output_type": "display_data"
    },
    {
     "data": {
      "application/vnd.jupyter.widget-view+json": {
       "model_id": "a0f6dd1e47324641bf5feb8a1ba98388",
       "version_major": 2,
       "version_minor": 0
      },
      "text/plain": [
       "  0%|          | 0/4570 [00:00<?, ?it/s]"
      ]
     },
     "metadata": {},
     "output_type": "display_data"
    },
    {
     "data": {
      "application/vnd.jupyter.widget-view+json": {
       "model_id": "e1b536e32ffb44859e120a48fd672171",
       "version_major": 2,
       "version_minor": 0
      },
      "text/plain": [
       "  0%|          | 0/4570 [00:00<?, ?it/s]"
      ]
     },
     "metadata": {},
     "output_type": "display_data"
    },
    {
     "data": {
      "application/vnd.jupyter.widget-view+json": {
       "model_id": "9a2143a7773d48dc8c4c8ed8561ead76",
       "version_major": 2,
       "version_minor": 0
      },
      "text/plain": [
       "  0%|          | 0/4570 [00:00<?, ?it/s]"
      ]
     },
     "metadata": {},
     "output_type": "display_data"
    },
    {
     "data": {
      "application/vnd.jupyter.widget-view+json": {
       "model_id": "848d118355fb43f7b7b396392ceb2434",
       "version_major": 2,
       "version_minor": 0
      },
      "text/plain": [
       "  0%|          | 0/4570 [00:00<?, ?it/s]"
      ]
     },
     "metadata": {},
     "output_type": "display_data"
    },
    {
     "data": {
      "application/vnd.jupyter.widget-view+json": {
       "model_id": "038a7fe089f043aabc9c20bff31bd65a",
       "version_major": 2,
       "version_minor": 0
      },
      "text/plain": [
       "  0%|          | 0/4570 [00:00<?, ?it/s]"
      ]
     },
     "metadata": {},
     "output_type": "display_data"
    },
    {
     "data": {
      "application/vnd.jupyter.widget-view+json": {
       "model_id": "1ff5d2ac55b14177838b3ea8fcf7774d",
       "version_major": 2,
       "version_minor": 0
      },
      "text/plain": [
       "  0%|          | 0/4570 [00:00<?, ?it/s]"
      ]
     },
     "metadata": {},
     "output_type": "display_data"
    },
    {
     "data": {
      "application/vnd.jupyter.widget-view+json": {
       "model_id": "a34ae6f063764930960cb13b559fd41a",
       "version_major": 2,
       "version_minor": 0
      },
      "text/plain": [
       "  0%|          | 0/4570 [00:00<?, ?it/s]"
      ]
     },
     "metadata": {},
     "output_type": "display_data"
    },
    {
     "data": {
      "application/vnd.jupyter.widget-view+json": {
       "model_id": "d5a847856b8147a98b24b7704b33a105",
       "version_major": 2,
       "version_minor": 0
      },
      "text/plain": [
       "  0%|          | 0/4570 [00:00<?, ?it/s]"
      ]
     },
     "metadata": {},
     "output_type": "display_data"
    },
    {
     "data": {
      "application/vnd.jupyter.widget-view+json": {
       "model_id": "5c60edb5c013472c91eda288ca910fa4",
       "version_major": 2,
       "version_minor": 0
      },
      "text/plain": [
       "  0%|          | 0/4570 [00:00<?, ?it/s]"
      ]
     },
     "metadata": {},
     "output_type": "display_data"
    },
    {
     "data": {
      "application/vnd.jupyter.widget-view+json": {
       "model_id": "55733727435648eab4f0e2e2da6344d8",
       "version_major": 2,
       "version_minor": 0
      },
      "text/plain": [
       "  0%|          | 0/4570 [00:00<?, ?it/s]"
      ]
     },
     "metadata": {},
     "output_type": "display_data"
    },
    {
     "data": {
      "application/vnd.jupyter.widget-view+json": {
       "model_id": "59e923c081e449a2b058c7197dcc7ace",
       "version_major": 2,
       "version_minor": 0
      },
      "text/plain": [
       "  0%|          | 0/4570 [00:00<?, ?it/s]"
      ]
     },
     "metadata": {},
     "output_type": "display_data"
    },
    {
     "data": {
      "application/vnd.jupyter.widget-view+json": {
       "model_id": "e5d6920fb9fc4f0dafda7c44d4ed92ea",
       "version_major": 2,
       "version_minor": 0
      },
      "text/plain": [
       "  0%|          | 0/4570 [00:00<?, ?it/s]"
      ]
     },
     "metadata": {},
     "output_type": "display_data"
    },
    {
     "data": {
      "application/vnd.jupyter.widget-view+json": {
       "model_id": "3def6e41ff684f5b9a353995bc4aff17",
       "version_major": 2,
       "version_minor": 0
      },
      "text/plain": [
       "  0%|          | 0/4570 [00:00<?, ?it/s]"
      ]
     },
     "metadata": {},
     "output_type": "display_data"
    },
    {
     "data": {
      "application/vnd.jupyter.widget-view+json": {
       "model_id": "d7d569a2de2b49b19c34b8235047970f",
       "version_major": 2,
       "version_minor": 0
      },
      "text/plain": [
       "  0%|          | 0/4570 [00:00<?, ?it/s]"
      ]
     },
     "metadata": {},
     "output_type": "display_data"
    },
    {
     "data": {
      "application/vnd.jupyter.widget-view+json": {
       "model_id": "894e84352ed84f3c82b1160db508af7f",
       "version_major": 2,
       "version_minor": 0
      },
      "text/plain": [
       "  0%|          | 0/4570 [00:00<?, ?it/s]"
      ]
     },
     "metadata": {},
     "output_type": "display_data"
    },
    {
     "data": {
      "application/vnd.jupyter.widget-view+json": {
       "model_id": "cc7c5c85eb5d4ac0b90cfbd3cf3bb6fa",
       "version_major": 2,
       "version_minor": 0
      },
      "text/plain": [
       "  0%|          | 0/4570 [00:00<?, ?it/s]"
      ]
     },
     "metadata": {},
     "output_type": "display_data"
    },
    {
     "data": {
      "application/vnd.jupyter.widget-view+json": {
       "model_id": "db298b2bb96540169dffe0761e6cfd9b",
       "version_major": 2,
       "version_minor": 0
      },
      "text/plain": [
       "  0%|          | 0/4570 [00:00<?, ?it/s]"
      ]
     },
     "metadata": {},
     "output_type": "display_data"
    },
    {
     "data": {
      "application/vnd.jupyter.widget-view+json": {
       "model_id": "6627cc929c634abba37afadc3c9ed04a",
       "version_major": 2,
       "version_minor": 0
      },
      "text/plain": [
       "  0%|          | 0/4570 [00:00<?, ?it/s]"
      ]
     },
     "metadata": {},
     "output_type": "display_data"
    },
    {
     "data": {
      "application/vnd.jupyter.widget-view+json": {
       "model_id": "ce20448e97714b9f9908ec783edaa5c7",
       "version_major": 2,
       "version_minor": 0
      },
      "text/plain": [
       "  0%|          | 0/4570 [00:00<?, ?it/s]"
      ]
     },
     "metadata": {},
     "output_type": "display_data"
    },
    {
     "data": {
      "application/vnd.jupyter.widget-view+json": {
       "model_id": "8bc1a4f6f0874263abf5d12f7097f872",
       "version_major": 2,
       "version_minor": 0
      },
      "text/plain": [
       "  0%|          | 0/4570 [00:00<?, ?it/s]"
      ]
     },
     "metadata": {},
     "output_type": "display_data"
    },
    {
     "data": {
      "application/vnd.jupyter.widget-view+json": {
       "model_id": "01f49bad0f4b4d78a26ecb578c43b283",
       "version_major": 2,
       "version_minor": 0
      },
      "text/plain": [
       "  0%|          | 0/4570 [00:00<?, ?it/s]"
      ]
     },
     "metadata": {},
     "output_type": "display_data"
    },
    {
     "data": {
      "application/vnd.jupyter.widget-view+json": {
       "model_id": "d5ca470e75ee4b60af3348f8fc294498",
       "version_major": 2,
       "version_minor": 0
      },
      "text/plain": [
       "  0%|          | 0/4570 [00:00<?, ?it/s]"
      ]
     },
     "metadata": {},
     "output_type": "display_data"
    },
    {
     "data": {
      "application/vnd.jupyter.widget-view+json": {
       "model_id": "6cbd8fa2d6564e9592febffd91041fba",
       "version_major": 2,
       "version_minor": 0
      },
      "text/plain": [
       "  0%|          | 0/4570 [00:00<?, ?it/s]"
      ]
     },
     "metadata": {},
     "output_type": "display_data"
    },
    {
     "data": {
      "application/vnd.jupyter.widget-view+json": {
       "model_id": "ad31a2e1dedd4c52a0aab39230c5059b",
       "version_major": 2,
       "version_minor": 0
      },
      "text/plain": [
       "  0%|          | 0/4570 [00:00<?, ?it/s]"
      ]
     },
     "metadata": {},
     "output_type": "display_data"
    },
    {
     "data": {
      "application/vnd.jupyter.widget-view+json": {
       "model_id": "9d7c566860bf4e3080dc9e4a672b829f",
       "version_major": 2,
       "version_minor": 0
      },
      "text/plain": [
       "  0%|          | 0/4570 [00:00<?, ?it/s]"
      ]
     },
     "metadata": {},
     "output_type": "display_data"
    },
    {
     "data": {
      "application/vnd.jupyter.widget-view+json": {
       "model_id": "a5655cc9dfed467ebc76c170b73d838f",
       "version_major": 2,
       "version_minor": 0
      },
      "text/plain": [
       "  0%|          | 0/4570 [00:00<?, ?it/s]"
      ]
     },
     "metadata": {},
     "output_type": "display_data"
    },
    {
     "data": {
      "application/vnd.jupyter.widget-view+json": {
       "model_id": "58304d1a71bb47bb8f49e870b39dd1ed",
       "version_major": 2,
       "version_minor": 0
      },
      "text/plain": [
       "  0%|          | 0/4570 [00:00<?, ?it/s]"
      ]
     },
     "metadata": {},
     "output_type": "display_data"
    },
    {
     "data": {
      "application/vnd.jupyter.widget-view+json": {
       "model_id": "9f6270d089dc49498de22fdb8aacbc16",
       "version_major": 2,
       "version_minor": 0
      },
      "text/plain": [
       "  0%|          | 0/4570 [00:00<?, ?it/s]"
      ]
     },
     "metadata": {},
     "output_type": "display_data"
    },
    {
     "data": {
      "application/vnd.jupyter.widget-view+json": {
       "model_id": "5adc6a1ae3f949f481cfc5f292321c39",
       "version_major": 2,
       "version_minor": 0
      },
      "text/plain": [
       "  0%|          | 0/4570 [00:00<?, ?it/s]"
      ]
     },
     "metadata": {},
     "output_type": "display_data"
    },
    {
     "data": {
      "application/vnd.jupyter.widget-view+json": {
       "model_id": "3dbb2adf7b004e04b272f2d2f7eb5727",
       "version_major": 2,
       "version_minor": 0
      },
      "text/plain": [
       "  0%|          | 0/4570 [00:00<?, ?it/s]"
      ]
     },
     "metadata": {},
     "output_type": "display_data"
    },
    {
     "data": {
      "application/vnd.jupyter.widget-view+json": {
       "model_id": "0ccc04ac8af6496ab05ce683de1c567f",
       "version_major": 2,
       "version_minor": 0
      },
      "text/plain": [
       "  0%|          | 0/4570 [00:00<?, ?it/s]"
      ]
     },
     "metadata": {},
     "output_type": "display_data"
    },
    {
     "data": {
      "application/vnd.jupyter.widget-view+json": {
       "model_id": "6e33403dc3fe476b847710810881a723",
       "version_major": 2,
       "version_minor": 0
      },
      "text/plain": [
       "  0%|          | 0/4570 [00:00<?, ?it/s]"
      ]
     },
     "metadata": {},
     "output_type": "display_data"
    }
   ],
   "source": [
    "for j in range(30):\n",
    "    dl = conf.get_dataloader(dset=dset, dsName=eval_name)\n",
    "    for batch in iter(dl): #écrit pour un batch size de 1\n",
    "        img = batch['GT'].to(device)\n",
    "        mask = batch['gt_keep_mask'].to(device)\n",
    "        name = batch['GT_name'][0][:-4] #ici need batch size = 1. Le -4 vise à retirer le format.\n",
    "\n",
    "        img = torch.stack([img[0],img[0]])\n",
    "        mask = torch.stack([mask[0],mask[0]])\n",
    "        model_kwargs = {}\n",
    "        model_kwargs[\"gt\"] = img\n",
    "        model_kwargs['y'] = 'SALUT LOLOL' #Utile seulement si conf.cond_y (voir model_fn au dessus). Doit être défini.\n",
    "        model_kwargs['gt_keep_mask'] = mask\n",
    "        model_kwargs['stop_to'] = None\n",
    "        model_kwargs['starting_point'] = None\n",
    "        batch_size = model_kwargs['gt'].shape[0]\n",
    "\n",
    "        sample_fn = (\n",
    "            diffusion.p_sample_loop if not conf.use_ddim else diffusion.ddim_sample_loop\n",
    "        )\n",
    "\n",
    "\n",
    "        result = sample_fn(\n",
    "        model_fn,\n",
    "        (batch_size, 3, conf.image_size, conf.image_size),\n",
    "        clip_denoised=conf.clip_denoised,\n",
    "        model_kwargs=model_kwargs,\n",
    "        cond_fn=cond_fn,\n",
    "        device=device,\n",
    "        progress=show_progress,\n",
    "        return_all=return_all,\n",
    "        conf=conf\n",
    "        )\n",
    "\n",
    "        img = transform(tou8batch(result)[0]) #ici aussi batch size = 1\n",
    "        img.save(save_path+name+'_'+str(j)+format_save)\n",
    "        \n",
    "        del result\n",
    "        torch.cuda.empty_cache()"
   ]
  },
  {
   "cell_type": "code",
   "execution_count": 8,
   "id": "2a1cc908-00dd-46ff-9ebb-fa5d1886a7a7",
   "metadata": {},
   "outputs": [],
   "source": [
    "img = batch['GT'].to(device)\n",
    "mask = batch['gt_keep_mask'].to(device)\n",
    "\n",
    "img = torch.stack([img[0],img[0]])\n",
    "mask = torch.stack([mask[0],mask[0]])\n",
    "\n",
    "model_kwargs = {}\n",
    "model_kwargs[\"gt\"] = img\n",
    "model_kwargs['y'] = 'SALUT LOLOL' #Utile seulement si conf.cond_y (voir model_fn au dessus). Doit être défini.\n",
    "model_kwargs['gt_keep_mask'] = mask\n",
    "\n",
    "batch_size = model_kwargs['gt'].shape[0]\n",
    "\n",
    "sample_fn = (\n",
    "    diffusion.p_sample_loop if not conf.use_ddim else diffusion.ddim_sample_loop\n",
    ")\n",
    "\n"
   ]
  },
  {
   "cell_type": "code",
   "execution_count": 12,
   "id": "fe6d9eaf-2528-4ebb-a21b-068da213f338",
   "metadata": {},
   "outputs": [
    {
     "name": "stdout",
     "output_type": "stream",
     "text": [
      "Wed Dec 21 16:39:55 2022       \n",
      "+-----------------------------------------------------------------------------+\n",
      "| NVIDIA-SMI 516.94       Driver Version: 516.94       CUDA Version: 11.7     |\n",
      "|-------------------------------+----------------------+----------------------+\n",
      "| GPU  Name            TCC/WDDM | Bus-Id        Disp.A | Volatile Uncorr. ECC |\n",
      "| Fan  Temp  Perf  Pwr:Usage/Cap|         Memory-Usage | GPU-Util  Compute M. |\n",
      "|                               |                      |               MIG M. |\n",
      "|===============================+======================+======================|\n",
      "|   0  NVIDIA GeForce ... WDDM  | 00000000:01:00.0  On |                  N/A |\n",
      "| 30%   27C    P8    12W / 200W |   4985MiB /  8192MiB |     18%      Default |\n",
      "|                               |                      |                  N/A |\n",
      "+-------------------------------+----------------------+----------------------+\n",
      "                                                                               \n",
      "+-----------------------------------------------------------------------------+\n",
      "| Processes:                                                                  |\n",
      "|  GPU   GI   CI        PID   Type   Process name                  GPU Memory |\n",
      "|        ID   ID                                                   Usage      |\n",
      "|=============================================================================|\n",
      "|    0   N/A  N/A      2192    C+G   ...perience\\NVIDIA Share.exe    N/A      |\n",
      "|    0   N/A  N/A      2680    C+G   ...5n1h2txyewy\\SearchApp.exe    N/A      |\n",
      "|    0   N/A  N/A      4120    C+G   ...me\\Application\\chrome.exe    N/A      |\n",
      "|    0   N/A  N/A      7028      C   ...da3\\envs\\tpenv\\python.exe    N/A      |\n",
      "|    0   N/A  N/A     10584    C+G   C:\\Windows\\explorer.exe         N/A      |\n",
      "|    0   N/A  N/A     10736    C+G   ...lPanel\\SystemSettings.exe    N/A      |\n",
      "|    0   N/A  N/A     12416    C+G   ...bbwe\\Microsoft.Photos.exe    N/A      |\n",
      "|    0   N/A  N/A     12576    C+G   ...Battle.net\\Battle.net.exe    N/A      |\n",
      "|    0   N/A  N/A     13520    C+G   ...al\\Ankama\\Dofus\\Dofus.exe    N/A      |\n",
      "|    0   N/A  N/A     15768    C+G   ...5n1h2txyewy\\SearchApp.exe    N/A      |\n",
      "|    0   N/A  N/A     17876    C+G   ...2txyewy\\TextInputHost.exe    N/A      |\n",
      "|    0   N/A  N/A     18796    C+G   ...cw5n1h2txyewy\\LockApp.exe    N/A      |\n",
      "|    0   N/A  N/A     19296    C+G   ...ncher\\Ankama Launcher.exe    N/A      |\n",
      "|    0   N/A  N/A     19808    C+G   ...dows\\System32\\WWAHost.exe    N/A      |\n",
      "+-----------------------------------------------------------------------------+\n"
     ]
    }
   ],
   "source": [
    "\n",
    "!nvidia-smi"
   ]
  },
  {
   "cell_type": "markdown",
   "id": "17822111-dadd-42f8-a89e-e1c2f1e26294",
   "metadata": {},
   "source": [
    "La configuration du dataset contient notamment les arguments utilisés par la classe ImageDatasetInpa (image_dataset.py dans le dossier guided_diffusion) pour retourner à partir du répertoire des images un dataset pytorch. Ce dataset est converti en dataloader avec la fonction DataLoader dans le même fichier.\n",
    "\n",
    "Pour créer un dataset ImageDatasetInpa il faut la liste des imagages que l'on souhaite utiliser, et que l'on récupère avec la fonction _list_image_files_recursivcely."
   ]
  },
  {
   "cell_type": "code",
   "execution_count": 10,
   "id": "eb7bfea8-16d9-43f4-b948-5d153ba8afd7",
   "metadata": {},
   "outputs": [
    {
     "data": {
      "application/vnd.jupyter.widget-view+json": {
       "model_id": "c53aefbe74f24f388a3dced8604f3001",
       "version_major": 2,
       "version_minor": 0
      },
      "text/plain": [
       "  0%|          | 0/4570 [00:00<?, ?it/s]"
      ]
     },
     "metadata": {},
     "output_type": "display_data"
    }
   ],
   "source": [
    "return_all = False\n",
    "result = sample_fn(\n",
    "    model_fn,\n",
    "    (batch_size, 3, conf.image_size, conf.image_size),\n",
    "    clip_denoised=conf.clip_denoised,\n",
    "    model_kwargs=model_kwargs,\n",
    "    cond_fn=cond_fn,\n",
    "    device=device,\n",
    "    progress=show_progress,\n",
    "    return_all=return_all,\n",
    "    conf=conf\n",
    ")\n"
   ]
  },
  {
   "cell_type": "code",
   "execution_count": 15,
   "id": "8ecebcc2-06a4-419a-b310-c9070b5aae06",
   "metadata": {},
   "outputs": [
    {
     "ename": "NameError",
     "evalue": "name 'result' is not defined",
     "output_type": "error",
     "traceback": [
      "\u001b[1;31m---------------------------------------------------------------------------\u001b[0m",
      "\u001b[1;31mNameError\u001b[0m                                 Traceback (most recent call last)",
      "Cell \u001b[1;32mIn [15], line 1\u001b[0m\n\u001b[1;32m----> 1\u001b[0m \u001b[43mresult\u001b[49m\u001b[38;5;241m.\u001b[39mshape\n",
      "\u001b[1;31mNameError\u001b[0m: name 'result' is not defined"
     ]
    }
   ],
   "source": [
    "result.shape"
   ]
  },
  {
   "cell_type": "code",
   "execution_count": 17,
   "id": "38d558fc-75d4-43bc-a020-853a4b77274e",
   "metadata": {},
   "outputs": [
    {
     "ename": "IndexError",
     "evalue": "too many indices for tensor of dimension 4",
     "output_type": "error",
     "traceback": [
      "\u001b[1;31m---------------------------------------------------------------------------\u001b[0m",
      "\u001b[1;31mIndexError\u001b[0m                                Traceback (most recent call last)",
      "Cell \u001b[1;32mIn [17], line 4\u001b[0m\n\u001b[0;32m      1\u001b[0m transform \u001b[38;5;241m=\u001b[39m T\u001b[38;5;241m.\u001b[39mToPILImage()\n\u001b[0;32m      3\u001b[0m finals \u001b[38;5;241m=\u001b[39m result[\u001b[38;5;241m1\u001b[39m]\n\u001b[1;32m----> 4\u001b[0m f_samples \u001b[38;5;241m=\u001b[39m \u001b[43mfinals\u001b[49m\u001b[43m[\u001b[49m\u001b[38;5;124;43m'\u001b[39;49m\u001b[38;5;124;43msample\u001b[39;49m\u001b[38;5;124;43m'\u001b[39;49m\u001b[43m]\u001b[49m\n\u001b[0;32m      5\u001b[0m f_samples \u001b[38;5;241m=\u001b[39m ((f_samples \u001b[38;5;241m+\u001b[39m \u001b[38;5;241m1\u001b[39m) \u001b[38;5;241m*\u001b[39m \u001b[38;5;241m127.5\u001b[39m)\u001b[38;5;241m.\u001b[39mclamp(\u001b[38;5;241m0\u001b[39m, \u001b[38;5;241m255\u001b[39m)\u001b[38;5;241m.\u001b[39mto(th\u001b[38;5;241m.\u001b[39muint8)\n\u001b[0;32m      6\u001b[0m f_samples \u001b[38;5;241m=\u001b[39m f_samples\u001b[38;5;241m.\u001b[39mcontiguous()\n",
      "\u001b[1;31mIndexError\u001b[0m: too many indices for tensor of dimension 4"
     ]
    }
   ],
   "source": [
    "transform = T.ToPILImage()\n",
    "if return_all:\n",
    "finals = result[1]\n",
    "f_samples = finals['sample']\n",
    "f_samples = ((f_samples + 1) * 127.5).clamp(0, 255).to(th.uint8)\n",
    "f_samples = f_samples.contiguous()\n",
    "i=5\n",
    "for sample in f_samples:\n",
    "    img = transform(sample)\n",
    "    img.save(\"images/sample_\"+str(i)+\".jpeg\")\n",
    "    i+=1"
   ]
  },
  {
   "cell_type": "code",
   "execution_count": 13,
   "id": "96e778aa-313e-46bc-993e-d8c029cc65d7",
   "metadata": {},
   "outputs": [
    {
     "name": "stdout",
     "output_type": "stream",
     "text": [
      "Wed Dec 21 16:40:13 2022       \n",
      "+-----------------------------------------------------------------------------+\n",
      "| NVIDIA-SMI 516.94       Driver Version: 516.94       CUDA Version: 11.7     |\n",
      "|-------------------------------+----------------------+----------------------+\n",
      "| GPU  Name            TCC/WDDM | Bus-Id        Disp.A | Volatile Uncorr. ECC |\n",
      "| Fan  Temp  Perf  Pwr:Usage/Cap|         Memory-Usage | GPU-Util  Compute M. |\n",
      "|                               |                      |               MIG M. |\n",
      "|===============================+======================+======================|\n",
      "|   0  NVIDIA GeForce ... WDDM  | 00000000:01:00.0  On |                  N/A |\n",
      "| 30%   27C    P8    10W / 200W |   3212MiB /  8192MiB |      9%      Default |\n",
      "|                               |                      |                  N/A |\n",
      "+-------------------------------+----------------------+----------------------+\n",
      "                                                                               \n",
      "+-----------------------------------------------------------------------------+\n",
      "| Processes:                                                                  |\n",
      "|  GPU   GI   CI        PID   Type   Process name                  GPU Memory |\n",
      "|        ID   ID                                                   Usage      |\n",
      "|=============================================================================|\n",
      "|    0   N/A  N/A      2192    C+G   ...perience\\NVIDIA Share.exe    N/A      |\n",
      "|    0   N/A  N/A      2680    C+G   ...5n1h2txyewy\\SearchApp.exe    N/A      |\n",
      "|    0   N/A  N/A      4120    C+G   ...me\\Application\\chrome.exe    N/A      |\n",
      "|    0   N/A  N/A      7028      C   ...da3\\envs\\tpenv\\python.exe    N/A      |\n",
      "|    0   N/A  N/A     10584    C+G   C:\\Windows\\explorer.exe         N/A      |\n",
      "|    0   N/A  N/A     10736    C+G   ...lPanel\\SystemSettings.exe    N/A      |\n",
      "|    0   N/A  N/A     12416    C+G   ...bbwe\\Microsoft.Photos.exe    N/A      |\n",
      "|    0   N/A  N/A     12576    C+G   ...Battle.net\\Battle.net.exe    N/A      |\n",
      "|    0   N/A  N/A     13520    C+G   ...al\\Ankama\\Dofus\\Dofus.exe    N/A      |\n",
      "|    0   N/A  N/A     15768    C+G   ...5n1h2txyewy\\SearchApp.exe    N/A      |\n",
      "|    0   N/A  N/A     17876    C+G   ...2txyewy\\TextInputHost.exe    N/A      |\n",
      "|    0   N/A  N/A     18796    C+G   ...cw5n1h2txyewy\\LockApp.exe    N/A      |\n",
      "|    0   N/A  N/A     19296    C+G   ...ncher\\Ankama Launcher.exe    N/A      |\n",
      "|    0   N/A  N/A     19808    C+G   ...dows\\System32\\WWAHost.exe    N/A      |\n",
      "+-----------------------------------------------------------------------------+\n"
     ]
    }
   ],
   "source": [
    "del result\n",
    "torch.cuda.empty_cache()\n",
    "!nvidia-smi"
   ]
  },
  {
   "cell_type": "code",
   "execution_count": 40,
   "id": "0eaecb1f-108f-48a8-9607-1fdfb977f08f",
   "metadata": {},
   "outputs": [
    {
     "ename": "IndexError",
     "evalue": "list index out of range",
     "output_type": "error",
     "traceback": [
      "\u001b[1;31m---------------------------------------------------------------------------\u001b[0m",
      "\u001b[1;31mIndexError\u001b[0m                                Traceback (most recent call last)",
      "Cell \u001b[1;32mIn [40], line 1\u001b[0m\n\u001b[1;32m----> 1\u001b[0m \u001b[43mresult\u001b[49m\u001b[43m[\u001b[49m\u001b[38;5;241;43m2461\u001b[39;49m\u001b[43m]\u001b[49m\u001b[38;5;241m.\u001b[39mshape\n",
      "\u001b[1;31mIndexError\u001b[0m: list index out of range"
     ]
    }
   ],
   "source": [
    "result[2461].shape"
   ]
  },
  {
   "cell_type": "code",
   "execution_count": 17,
   "id": "67f61000-0cfa-4cbc-bd32-c86dc1745281",
   "metadata": {},
   "outputs": [
    {
     "data": {
      "application/vnd.jupyter.widget-view+json": {
       "model_id": "0c20f8f844bf4c14af6dfd7c4c50b017",
       "version_major": 2,
       "version_minor": 0
      },
      "text/plain": [
       "  0%|          | 0/4570 [00:00<?, ?it/s]"
      ]
     },
     "metadata": {},
     "output_type": "display_data"
    },
    {
     "ename": "KeyboardInterrupt",
     "evalue": "",
     "output_type": "error",
     "traceback": [
      "\u001b[1;31m---------------------------------------------------------------------------\u001b[0m",
      "\u001b[1;31mKeyboardInterrupt\u001b[0m                         Traceback (most recent call last)",
      "Cell \u001b[1;32mIn [17], line 29\u001b[0m\n\u001b[0;32m     22\u001b[0m     model_kwargs[\u001b[38;5;124m\"\u001b[39m\u001b[38;5;124my\u001b[39m\u001b[38;5;124m\"\u001b[39m] \u001b[38;5;241m=\u001b[39m classes\n\u001b[0;32m     24\u001b[0m sample_fn \u001b[38;5;241m=\u001b[39m (\n\u001b[0;32m     25\u001b[0m     diffusion\u001b[38;5;241m.\u001b[39mp_sample_loop \u001b[38;5;28;01mif\u001b[39;00m \u001b[38;5;129;01mnot\u001b[39;00m conf\u001b[38;5;241m.\u001b[39muse_ddim \u001b[38;5;28;01melse\u001b[39;00m diffusion\u001b[38;5;241m.\u001b[39mddim_sample_loop\n\u001b[0;32m     26\u001b[0m )\n\u001b[1;32m---> 29\u001b[0m result \u001b[38;5;241m=\u001b[39m \u001b[43msample_fn\u001b[49m\u001b[43m(\u001b[49m\n\u001b[0;32m     30\u001b[0m \u001b[43m    \u001b[49m\u001b[43mmodel_fn\u001b[49m\u001b[43m,\u001b[49m\n\u001b[0;32m     31\u001b[0m \u001b[43m    \u001b[49m\u001b[43m(\u001b[49m\u001b[43mbatch_size\u001b[49m\u001b[43m,\u001b[49m\u001b[43m \u001b[49m\u001b[38;5;241;43m3\u001b[39;49m\u001b[43m,\u001b[49m\u001b[43m \u001b[49m\u001b[43mconf\u001b[49m\u001b[38;5;241;43m.\u001b[39;49m\u001b[43mimage_size\u001b[49m\u001b[43m,\u001b[49m\u001b[43m \u001b[49m\u001b[43mconf\u001b[49m\u001b[38;5;241;43m.\u001b[39;49m\u001b[43mimage_size\u001b[49m\u001b[43m)\u001b[49m\u001b[43m,\u001b[49m\n\u001b[0;32m     32\u001b[0m \u001b[43m    \u001b[49m\u001b[43mclip_denoised\u001b[49m\u001b[38;5;241;43m=\u001b[39;49m\u001b[43mconf\u001b[49m\u001b[38;5;241;43m.\u001b[39;49m\u001b[43mclip_denoised\u001b[49m\u001b[43m,\u001b[49m\n\u001b[0;32m     33\u001b[0m \u001b[43m    \u001b[49m\u001b[43mmodel_kwargs\u001b[49m\u001b[38;5;241;43m=\u001b[39;49m\u001b[43mmodel_kwargs\u001b[49m\u001b[43m,\u001b[49m\n\u001b[0;32m     34\u001b[0m \u001b[43m    \u001b[49m\u001b[43mcond_fn\u001b[49m\u001b[38;5;241;43m=\u001b[39;49m\u001b[43mcond_fn\u001b[49m\u001b[43m,\u001b[49m\n\u001b[0;32m     35\u001b[0m \u001b[43m    \u001b[49m\u001b[43mdevice\u001b[49m\u001b[38;5;241;43m=\u001b[39;49m\u001b[43mdevice\u001b[49m\u001b[43m,\u001b[49m\n\u001b[0;32m     36\u001b[0m \u001b[43m    \u001b[49m\u001b[43mprogress\u001b[49m\u001b[38;5;241;43m=\u001b[39;49m\u001b[43mshow_progress\u001b[49m\u001b[43m,\u001b[49m\n\u001b[0;32m     37\u001b[0m \u001b[43m    \u001b[49m\u001b[43mreturn_all\u001b[49m\u001b[38;5;241;43m=\u001b[39;49m\u001b[38;5;28;43;01mTrue\u001b[39;49;00m\u001b[43m,\u001b[49m\n\u001b[0;32m     38\u001b[0m \u001b[43m    \u001b[49m\u001b[43mconf\u001b[49m\u001b[38;5;241;43m=\u001b[39;49m\u001b[43mconf\u001b[49m\n\u001b[0;32m     39\u001b[0m \u001b[43m)\u001b[49m\n\u001b[0;32m     41\u001b[0m \u001b[38;5;28;01mif\u001b[39;00m conf\u001b[38;5;241m.\u001b[39mname\u001b[38;5;241m==\u001b[39m\u001b[38;5;124m'\u001b[39m\u001b[38;5;124mmy_conf\u001b[39m\u001b[38;5;124m'\u001b[39m:\n\u001b[0;32m     42\u001b[0m     result \u001b[38;5;241m=\u001b[39m result[\u001b[38;5;241m1\u001b[39m] \u001b[38;5;66;03m#0 is all tuples to generate gifs\u001b[39;00m\n",
      "File \u001b[1;32m~\\OneDrive\\Cours\\Semestre 11\\DDPM\\RePaint\\guided_diffusion\\gaussian_diffusion.py:471\u001b[0m, in \u001b[0;36mGaussianDiffusion.p_sample_loop\u001b[1;34m(self, model, shape, noise, clip_denoised, denoised_fn, cond_fn, model_kwargs, device, progress, return_all, conf)\u001b[0m\n\u001b[0;32m    469\u001b[0m \u001b[38;5;28;01mif\u001b[39;00m conf\u001b[38;5;241m.\u001b[39mintermediate_steps:\n\u001b[0;32m    470\u001b[0m     img_list \u001b[38;5;241m=\u001b[39m []\n\u001b[1;32m--> 471\u001b[0m \u001b[38;5;28;01mfor\u001b[39;00m sample \u001b[38;5;129;01min\u001b[39;00m \u001b[38;5;28mself\u001b[39m\u001b[38;5;241m.\u001b[39mp_sample_loop_progressive(\n\u001b[0;32m    472\u001b[0m     model,\n\u001b[0;32m    473\u001b[0m     shape,\n\u001b[0;32m    474\u001b[0m     noise\u001b[38;5;241m=\u001b[39mnoise,\n\u001b[0;32m    475\u001b[0m     clip_denoised\u001b[38;5;241m=\u001b[39mclip_denoised,\n\u001b[0;32m    476\u001b[0m     denoised_fn\u001b[38;5;241m=\u001b[39mdenoised_fn,\n\u001b[0;32m    477\u001b[0m     cond_fn\u001b[38;5;241m=\u001b[39mcond_fn,\n\u001b[0;32m    478\u001b[0m     model_kwargs\u001b[38;5;241m=\u001b[39mmodel_kwargs,\n\u001b[0;32m    479\u001b[0m     device\u001b[38;5;241m=\u001b[39mdevice,\n\u001b[0;32m    480\u001b[0m     progress\u001b[38;5;241m=\u001b[39mprogress,\n\u001b[0;32m    481\u001b[0m     conf\u001b[38;5;241m=\u001b[39mconf\n\u001b[0;32m    482\u001b[0m ):\n\u001b[0;32m    483\u001b[0m     final \u001b[38;5;241m=\u001b[39m sample\n\u001b[0;32m    484\u001b[0m     img_list\u001b[38;5;241m.\u001b[39mappend(final[\u001b[38;5;124m\"\u001b[39m\u001b[38;5;124msample\u001b[39m\u001b[38;5;124m\"\u001b[39m])\n",
      "File \u001b[1;32m~\\OneDrive\\Cours\\Semestre 11\\DDPM\\RePaint\\guided_diffusion\\gaussian_diffusion.py:550\u001b[0m, in \u001b[0;36mGaussianDiffusion.p_sample_loop_progressive\u001b[1;34m(self, model, shape, noise, clip_denoised, denoised_fn, cond_fn, model_kwargs, device, progress, conf)\u001b[0m\n\u001b[0;32m    548\u001b[0m \u001b[38;5;28;01mwith\u001b[39;00m th\u001b[38;5;241m.\u001b[39mno_grad():\n\u001b[0;32m    549\u001b[0m     image_before_step \u001b[38;5;241m=\u001b[39m image_after_step\u001b[38;5;241m.\u001b[39mclone()\n\u001b[1;32m--> 550\u001b[0m     out \u001b[38;5;241m=\u001b[39m \u001b[38;5;28;43mself\u001b[39;49m\u001b[38;5;241;43m.\u001b[39;49m\u001b[43mp_sample\u001b[49m\u001b[43m(\u001b[49m\n\u001b[0;32m    551\u001b[0m \u001b[43m        \u001b[49m\u001b[43mmodel\u001b[49m\u001b[43m,\u001b[49m\n\u001b[0;32m    552\u001b[0m \u001b[43m        \u001b[49m\u001b[43mimage_after_step\u001b[49m\u001b[43m,\u001b[49m\n\u001b[0;32m    553\u001b[0m \u001b[43m        \u001b[49m\u001b[43mt_last_t\u001b[49m\u001b[43m,\u001b[49m\n\u001b[0;32m    554\u001b[0m \u001b[43m        \u001b[49m\u001b[43mclip_denoised\u001b[49m\u001b[38;5;241;43m=\u001b[39;49m\u001b[43mclip_denoised\u001b[49m\u001b[43m,\u001b[49m\n\u001b[0;32m    555\u001b[0m \u001b[43m        \u001b[49m\u001b[43mdenoised_fn\u001b[49m\u001b[38;5;241;43m=\u001b[39;49m\u001b[43mdenoised_fn\u001b[49m\u001b[43m,\u001b[49m\n\u001b[0;32m    556\u001b[0m \u001b[43m        \u001b[49m\u001b[43mcond_fn\u001b[49m\u001b[38;5;241;43m=\u001b[39;49m\u001b[43mcond_fn\u001b[49m\u001b[43m,\u001b[49m\n\u001b[0;32m    557\u001b[0m \u001b[43m        \u001b[49m\u001b[43mmodel_kwargs\u001b[49m\u001b[38;5;241;43m=\u001b[39;49m\u001b[43mmodel_kwargs\u001b[49m\u001b[43m,\u001b[49m\n\u001b[0;32m    558\u001b[0m \u001b[43m        \u001b[49m\u001b[43mconf\u001b[49m\u001b[38;5;241;43m=\u001b[39;49m\u001b[43mconf\u001b[49m\u001b[43m,\u001b[49m\n\u001b[0;32m    559\u001b[0m \u001b[43m        \u001b[49m\u001b[43mpred_xstart\u001b[49m\u001b[38;5;241;43m=\u001b[39;49m\u001b[43mpred_xstart\u001b[49m\n\u001b[0;32m    560\u001b[0m \u001b[43m    \u001b[49m\u001b[43m)\u001b[49m\n\u001b[0;32m    561\u001b[0m     image_after_step \u001b[38;5;241m=\u001b[39m out[\u001b[38;5;124m\"\u001b[39m\u001b[38;5;124msample\u001b[39m\u001b[38;5;124m\"\u001b[39m]\n\u001b[0;32m    562\u001b[0m     pred_xstart \u001b[38;5;241m=\u001b[39m out[\u001b[38;5;124m\"\u001b[39m\u001b[38;5;124mpred_xstart\u001b[39m\u001b[38;5;124m\"\u001b[39m]\n",
      "File \u001b[1;32m~\\OneDrive\\Cours\\Semestre 11\\DDPM\\RePaint\\guided_diffusion\\gaussian_diffusion.py:409\u001b[0m, in \u001b[0;36mGaussianDiffusion.p_sample\u001b[1;34m(self, model, x, t, clip_denoised, denoised_fn, cond_fn, model_kwargs, conf, meas_fn, pred_xstart, idx_wall)\u001b[0m\n\u001b[0;32m    396\u001b[0m             weighed_gt \u001b[38;5;241m=\u001b[39m gt_part \u001b[38;5;241m+\u001b[39m noise_part\n\u001b[0;32m    398\u001b[0m         x \u001b[38;5;241m=\u001b[39m (\n\u001b[0;32m    399\u001b[0m             gt_keep_mask \u001b[38;5;241m*\u001b[39m (\n\u001b[0;32m    400\u001b[0m                 weighed_gt\n\u001b[1;32m   (...)\u001b[0m\n\u001b[0;32m    405\u001b[0m             )\n\u001b[0;32m    406\u001b[0m         )\n\u001b[1;32m--> 409\u001b[0m out \u001b[38;5;241m=\u001b[39m \u001b[38;5;28;43mself\u001b[39;49m\u001b[38;5;241;43m.\u001b[39;49m\u001b[43mp_mean_variance\u001b[49m\u001b[43m(\u001b[49m\n\u001b[0;32m    410\u001b[0m \u001b[43m    \u001b[49m\u001b[43mmodel\u001b[49m\u001b[43m,\u001b[49m\n\u001b[0;32m    411\u001b[0m \u001b[43m    \u001b[49m\u001b[43mx\u001b[49m\u001b[43m,\u001b[49m\n\u001b[0;32m    412\u001b[0m \u001b[43m    \u001b[49m\u001b[43mt\u001b[49m\u001b[43m,\u001b[49m\n\u001b[0;32m    413\u001b[0m \u001b[43m    \u001b[49m\u001b[43mclip_denoised\u001b[49m\u001b[38;5;241;43m=\u001b[39;49m\u001b[43mclip_denoised\u001b[49m\u001b[43m,\u001b[49m\n\u001b[0;32m    414\u001b[0m \u001b[43m    \u001b[49m\u001b[43mdenoised_fn\u001b[49m\u001b[38;5;241;43m=\u001b[39;49m\u001b[43mdenoised_fn\u001b[49m\u001b[43m,\u001b[49m\n\u001b[0;32m    415\u001b[0m \u001b[43m    \u001b[49m\u001b[43mmodel_kwargs\u001b[49m\u001b[38;5;241;43m=\u001b[39;49m\u001b[43mmodel_kwargs\u001b[49m\u001b[43m,\u001b[49m\n\u001b[0;32m    416\u001b[0m \u001b[43m\u001b[49m\u001b[43m)\u001b[49m\n\u001b[0;32m    418\u001b[0m nonzero_mask \u001b[38;5;241m=\u001b[39m (\n\u001b[0;32m    419\u001b[0m     (t \u001b[38;5;241m!=\u001b[39m \u001b[38;5;241m0\u001b[39m)\u001b[38;5;241m.\u001b[39mfloat()\u001b[38;5;241m.\u001b[39mview(\u001b[38;5;241m-\u001b[39m\u001b[38;5;241m1\u001b[39m, \u001b[38;5;241m*\u001b[39m([\u001b[38;5;241m1\u001b[39m] \u001b[38;5;241m*\u001b[39m (\u001b[38;5;28mlen\u001b[39m(x\u001b[38;5;241m.\u001b[39mshape) \u001b[38;5;241m-\u001b[39m \u001b[38;5;241m1\u001b[39m)))\n\u001b[0;32m    420\u001b[0m ) \n\u001b[0;32m    422\u001b[0m \u001b[38;5;28;01mif\u001b[39;00m cond_fn \u001b[38;5;129;01mis\u001b[39;00m \u001b[38;5;129;01mnot\u001b[39;00m \u001b[38;5;28;01mNone\u001b[39;00m:\n",
      "File \u001b[1;32m~\\OneDrive\\Cours\\Semestre 11\\DDPM\\RePaint\\guided_diffusion\\respace.py:124\u001b[0m, in \u001b[0;36mSpacedDiffusion.p_mean_variance\u001b[1;34m(self, model, *args, **kwargs)\u001b[0m\n\u001b[0;32m    121\u001b[0m \u001b[38;5;28;01mdef\u001b[39;00m \u001b[38;5;21mp_mean_variance\u001b[39m(\n\u001b[0;32m    122\u001b[0m     \u001b[38;5;28mself\u001b[39m, model, \u001b[38;5;241m*\u001b[39margs, \u001b[38;5;241m*\u001b[39m\u001b[38;5;241m*\u001b[39mkwargs\n\u001b[0;32m    123\u001b[0m ):  \u001b[38;5;66;03m# pylint: disable=signature-differs\u001b[39;00m\n\u001b[1;32m--> 124\u001b[0m     \u001b[38;5;28;01mreturn\u001b[39;00m \u001b[38;5;28msuper\u001b[39m()\u001b[38;5;241m.\u001b[39mp_mean_variance(\u001b[38;5;28mself\u001b[39m\u001b[38;5;241m.\u001b[39m_wrap_model(model), \u001b[38;5;241m*\u001b[39margs, \u001b[38;5;241m*\u001b[39m\u001b[38;5;241m*\u001b[39mkwargs)\n",
      "File \u001b[1;32m~\\OneDrive\\Cours\\Semestre 11\\DDPM\\RePaint\\guided_diffusion\\gaussian_diffusion.py:271\u001b[0m, in \u001b[0;36mGaussianDiffusion.p_mean_variance\u001b[1;34m(self, model, x, t, clip_denoised, denoised_fn, model_kwargs)\u001b[0m\n\u001b[0;32m    269\u001b[0m     model_variance \u001b[38;5;241m=\u001b[39m th\u001b[38;5;241m.\u001b[39mexp(model_log_variance)\n\u001b[0;32m    270\u001b[0m \u001b[38;5;28;01melse\u001b[39;00m:\n\u001b[1;32m--> 271\u001b[0m     min_log \u001b[38;5;241m=\u001b[39m \u001b[43m_extract_into_tensor\u001b[49m\u001b[43m(\u001b[49m\n\u001b[0;32m    272\u001b[0m \u001b[43m        \u001b[49m\u001b[38;5;28;43mself\u001b[39;49m\u001b[38;5;241;43m.\u001b[39;49m\u001b[43mposterior_log_variance_clipped\u001b[49m\u001b[43m,\u001b[49m\u001b[43m \u001b[49m\u001b[43mt\u001b[49m\u001b[43m,\u001b[49m\u001b[43m \u001b[49m\u001b[43mx\u001b[49m\u001b[38;5;241;43m.\u001b[39;49m\u001b[43mshape\u001b[49m\n\u001b[0;32m    273\u001b[0m \u001b[43m    \u001b[49m\u001b[43m)\u001b[49m\n\u001b[0;32m    274\u001b[0m     max_log \u001b[38;5;241m=\u001b[39m _extract_into_tensor(np\u001b[38;5;241m.\u001b[39mlog(\u001b[38;5;28mself\u001b[39m\u001b[38;5;241m.\u001b[39mbetas), t, x\u001b[38;5;241m.\u001b[39mshape)\n\u001b[0;32m    275\u001b[0m     frac \u001b[38;5;241m=\u001b[39m (model_var_values \u001b[38;5;241m+\u001b[39m \u001b[38;5;241m1\u001b[39m) \u001b[38;5;241m/\u001b[39m \u001b[38;5;241m2\u001b[39m\n",
      "File \u001b[1;32m~\\OneDrive\\Cours\\Semestre 11\\DDPM\\RePaint\\guided_diffusion\\gaussian_diffusion.py:610\u001b[0m, in \u001b[0;36m_extract_into_tensor\u001b[1;34m(arr, timesteps, broadcast_shape)\u001b[0m\n\u001b[0;32m    600\u001b[0m \u001b[38;5;28;01mdef\u001b[39;00m \u001b[38;5;21m_extract_into_tensor\u001b[39m(arr, timesteps, broadcast_shape):\n\u001b[0;32m    601\u001b[0m     \u001b[38;5;124;03m\"\"\"\u001b[39;00m\n\u001b[0;32m    602\u001b[0m \u001b[38;5;124;03m    Extract values from a 1-D numpy array for a batch of indices.\u001b[39;00m\n\u001b[0;32m    603\u001b[0m \n\u001b[1;32m   (...)\u001b[0m\n\u001b[0;32m    608\u001b[0m \u001b[38;5;124;03m    :return: a tensor of shape [batch_size, 1, ...] where the shape has K dims.\u001b[39;00m\n\u001b[0;32m    609\u001b[0m \u001b[38;5;124;03m    \"\"\"\u001b[39;00m\n\u001b[1;32m--> 610\u001b[0m     res \u001b[38;5;241m=\u001b[39m \u001b[43mth\u001b[49m\u001b[38;5;241;43m.\u001b[39;49m\u001b[43mfrom_numpy\u001b[49m\u001b[43m(\u001b[49m\u001b[43marr\u001b[49m\u001b[43m)\u001b[49m\u001b[38;5;241;43m.\u001b[39;49m\u001b[43mto\u001b[49m\u001b[43m(\u001b[49m\u001b[43mdevice\u001b[49m\u001b[38;5;241;43m=\u001b[39;49m\u001b[43mtimesteps\u001b[49m\u001b[38;5;241;43m.\u001b[39;49m\u001b[43mdevice\u001b[49m\u001b[43m)\u001b[49m[timesteps]\u001b[38;5;241m.\u001b[39mfloat()\n\u001b[0;32m    611\u001b[0m     \u001b[38;5;28;01mwhile\u001b[39;00m \u001b[38;5;28mlen\u001b[39m(res\u001b[38;5;241m.\u001b[39mshape) \u001b[38;5;241m<\u001b[39m \u001b[38;5;28mlen\u001b[39m(broadcast_shape):\n\u001b[0;32m    612\u001b[0m         res \u001b[38;5;241m=\u001b[39m res[\u001b[38;5;241m.\u001b[39m\u001b[38;5;241m.\u001b[39m\u001b[38;5;241m.\u001b[39m, \u001b[38;5;28;01mNone\u001b[39;00m]\n",
      "\u001b[1;31mKeyboardInterrupt\u001b[0m: "
     ]
    }
   ],
   "source": [
    "\n",
    "\n",
    "\n",
    "\n",
    "\n",
    "if conf.name=='my_conf':\n",
    "    result = result[1] #0 is all tuples to generate gifs\n",
    "srs = toU8(result['sample'])\n",
    "gts = toU8(result['gt'])\n",
    "lrs = toU8(result.get('gt') * model_kwargs.get('gt_keep_mask') + (-1) *\n",
    "           th.ones_like(result.get('gt')) * (1 - model_kwargs.get('gt_keep_mask')))\n",
    "\n",
    "gt_keep_masks = toU8((model_kwargs.get('gt_keep_mask') * 2 - 1))\n",
    "\n",
    "conf.eval_imswrite(\n",
    "    srs=srs, gts=gts, lrs=lrs, gt_keep_masks=gt_keep_masks,\n",
    "    img_names=batch['GT_name'], dset=dset, name=eval_name, verify_same=False)"
   ]
  },
  {
   "cell_type": "code",
   "execution_count": 22,
   "id": "625d1191-8b18-41da-98a9-e448b00eb824",
   "metadata": {},
   "outputs": [],
   "source": [
    "    srs = toU8(result[1]['sample'])\n",
    "    gts = toU8(result[1]['gt'])\n",
    "    lrs = toU8(result[1].get('gt') * model_kwargs.get('gt_keep_mask') + (-1) *\n",
    "               th.ones_like(result[1].get('gt')) * (1 - model_kwargs.get('gt_keep_mask')))\n",
    "\n",
    "    gt_keep_masks = toU8((model_kwargs.get('gt_keep_mask') * 2 - 1))\n",
    "\n",
    "    conf.eval_imswrite(\n",
    "        srs=srs, gts=gts, lrs=lrs, gt_keep_masks=gt_keep_masks,\n",
    "        img_names=batch['GT_name'], dset=dset, name=eval_name, verify_same=False)"
   ]
  },
  {
   "cell_type": "code",
   "execution_count": 24,
   "id": "91d4b7cd-def3-4caf-bc7c-26c18f582c13",
   "metadata": {},
   "outputs": [
    {
     "data": {
      "text/plain": [
       "array([[[[143, 144, 156],\n",
       "         [140, 142, 154],\n",
       "         [144, 145, 157],\n",
       "         ...,\n",
       "         [104, 120, 130],\n",
       "         [105, 121, 132],\n",
       "         [104, 120, 131]],\n",
       "\n",
       "        [[142, 143, 155],\n",
       "         [141, 143, 155],\n",
       "         [142, 143, 155],\n",
       "         ...,\n",
       "         [104, 120, 130],\n",
       "         [102, 118, 129],\n",
       "         [103, 119, 130]],\n",
       "\n",
       "        [[142, 144, 156],\n",
       "         [142, 143, 155],\n",
       "         [142, 144, 156],\n",
       "         ...,\n",
       "         [101, 118, 129],\n",
       "         [100, 118, 130],\n",
       "         [103, 120, 131]],\n",
       "\n",
       "        ...,\n",
       "\n",
       "        [[153, 127, 116],\n",
       "         [169, 134, 117],\n",
       "         [168, 133, 114],\n",
       "         ...,\n",
       "         [ 37,  80, 104],\n",
       "         [ 33,  82, 107],\n",
       "         [ 31,  84, 111]],\n",
       "\n",
       "        [[168, 130, 116],\n",
       "         [173, 132, 117],\n",
       "         [171, 132, 117],\n",
       "         ...,\n",
       "         [ 36,  81, 104],\n",
       "         [ 33,  83, 107],\n",
       "         [ 32,  86, 112]],\n",
       "\n",
       "        [[169, 133, 113],\n",
       "         [169, 133, 115],\n",
       "         [167, 128, 113],\n",
       "         ...,\n",
       "         [ 35,  82, 104],\n",
       "         [ 37,  84, 111],\n",
       "         [ 39,  90, 116]]]], dtype=uint8)"
      ]
     },
     "execution_count": 24,
     "metadata": {},
     "output_type": "execute_result"
    }
   ],
   "source": [
    "lrs"
   ]
  }
 ],
 "metadata": {
  "kernelspec": {
   "display_name": "Python 3 (ipykernel)",
   "language": "python",
   "name": "python3"
  },
  "language_info": {
   "codemirror_mode": {
    "name": "ipython",
    "version": 3
   },
   "file_extension": ".py",
   "mimetype": "text/x-python",
   "name": "python",
   "nbconvert_exporter": "python",
   "pygments_lexer": "ipython3",
   "version": "3.10.6"
  }
 },
 "nbformat": 4,
 "nbformat_minor": 5
}
